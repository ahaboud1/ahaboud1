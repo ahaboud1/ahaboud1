{
  "nbformat": 4,
  "nbformat_minor": 0,
  "metadata": {
    "colab": {
      "name": "Binary_Classification_Model_Template_202008.ipynb",
      "provenance": [],
      "collapsed_sections": [
        "ZHFV_sB7Hn-y",
        "iPUlIufsLVa8",
        "d5SrFl5hSBmw",
        "Z1b-AW5sW6B9",
        "esVN6K6tgp6U",
        "UM7UE5V_SiuY",
        "7p52eau59yr0",
        "AfS9lzxca6pz",
        "HQbcPQbi9P1g",
        "29qmw3_hfPdc",
        "rmrSY8WAoiSt",
        "YkZjr6aAzN1p"
      ],
      "include_colab_link": true
    },
    "kernelspec": {
      "name": "python3",
      "display_name": "Python 3"
    }
  },
  "cells": [
    {
      "cell_type": "markdown",
      "metadata": {
        "id": "view-in-github",
        "colab_type": "text"
      },
      "source": [
        "<a href=\"https://colab.research.google.com/github/ahaboud1/ahaboud1/blob/master/Binary_Classification_Model_Template_202008.ipynb\" target=\"_parent\"><img src=\"https://colab.research.google.com/assets/colab-badge.svg\" alt=\"Open In Colab\"/></a>"
      ]
    },
    {
      "cell_type": "markdown",
      "metadata": {
        "id": "bziokMlp2hFK",
        "colab_type": "text"
      },
      "source": [
        "# Binary Classification Models\n",
        "- Author: Amy Zhuang\n",
        "- Date: August 2020"
      ]
    },
    {
      "cell_type": "markdown",
      "metadata": {
        "id": "o-Q5Nfzd6lSE",
        "colab_type": "text"
      },
      "source": [
        "## Import Libraries"
      ]
    },
    {
      "cell_type": "code",
      "metadata": {
        "id": "k7wM9m8J60Ze",
        "colab_type": "code",
        "colab": {}
      },
      "source": [
        "import pandas as pd\n",
        "import numpy as np\n",
        "import matplotlib.pyplot as plt\n",
        "%matplotlib inline\n",
        "from sklearn.decomposition import PCA\n",
        "import seaborn as sns\n",
        "from sklearn.linear_model import LogisticRegression\n",
        "from sklearn.metrics import classification_report\n",
        "from sklearn.feature_selection import SelectFromModel\n",
        "from sklearn.model_selection import train_test_split\n",
        "from sklearn.model_selection import cross_val_score\n",
        "from sklearn.metrics import confusion_matrix, log_loss"
      ],
      "execution_count": null,
      "outputs": []
    },
    {
      "cell_type": "markdown",
      "metadata": {
        "id": "GSXsVeao7E18",
        "colab_type": "text"
      },
      "source": [
        "## Readin Data"
      ]
    },
    {
      "cell_type": "code",
      "metadata": {
        "id": "GHv1MJmL62zR",
        "colab_type": "code",
        "colab": {}
      },
      "source": [
        "from sklearn import datasets\n",
        "data = datasets.load_breast_cancer()"
      ],
      "execution_count": null,
      "outputs": []
    },
    {
      "cell_type": "code",
      "metadata": {
        "id": "4p8WoyR-9PMl",
        "colab_type": "code",
        "colab": {
          "base_uri": "https://localhost:8080/",
          "height": 258
        },
        "outputId": "1ef3b797-284a-446e-bd3e-72b27159f025"
      },
      "source": [
        "df = pd.DataFrame(data=data.data, columns=data.feature_names)\n",
        "df['target']=data.target\n",
        "df.head()"
      ],
      "execution_count": null,
      "outputs": [
        {
          "output_type": "execute_result",
          "data": {
            "text/html": [
              "<div>\n",
              "<style scoped>\n",
              "    .dataframe tbody tr th:only-of-type {\n",
              "        vertical-align: middle;\n",
              "    }\n",
              "\n",
              "    .dataframe tbody tr th {\n",
              "        vertical-align: top;\n",
              "    }\n",
              "\n",
              "    .dataframe thead th {\n",
              "        text-align: right;\n",
              "    }\n",
              "</style>\n",
              "<table border=\"1\" class=\"dataframe\">\n",
              "  <thead>\n",
              "    <tr style=\"text-align: right;\">\n",
              "      <th></th>\n",
              "      <th>mean radius</th>\n",
              "      <th>mean texture</th>\n",
              "      <th>mean perimeter</th>\n",
              "      <th>mean area</th>\n",
              "      <th>mean smoothness</th>\n",
              "      <th>mean compactness</th>\n",
              "      <th>mean concavity</th>\n",
              "      <th>mean concave points</th>\n",
              "      <th>mean symmetry</th>\n",
              "      <th>mean fractal dimension</th>\n",
              "      <th>radius error</th>\n",
              "      <th>texture error</th>\n",
              "      <th>perimeter error</th>\n",
              "      <th>area error</th>\n",
              "      <th>smoothness error</th>\n",
              "      <th>compactness error</th>\n",
              "      <th>concavity error</th>\n",
              "      <th>concave points error</th>\n",
              "      <th>symmetry error</th>\n",
              "      <th>fractal dimension error</th>\n",
              "      <th>worst radius</th>\n",
              "      <th>worst texture</th>\n",
              "      <th>worst perimeter</th>\n",
              "      <th>worst area</th>\n",
              "      <th>worst smoothness</th>\n",
              "      <th>worst compactness</th>\n",
              "      <th>worst concavity</th>\n",
              "      <th>worst concave points</th>\n",
              "      <th>worst symmetry</th>\n",
              "      <th>worst fractal dimension</th>\n",
              "      <th>target</th>\n",
              "    </tr>\n",
              "  </thead>\n",
              "  <tbody>\n",
              "    <tr>\n",
              "      <th>0</th>\n",
              "      <td>17.99</td>\n",
              "      <td>10.38</td>\n",
              "      <td>122.80</td>\n",
              "      <td>1001.0</td>\n",
              "      <td>0.11840</td>\n",
              "      <td>0.27760</td>\n",
              "      <td>0.3001</td>\n",
              "      <td>0.14710</td>\n",
              "      <td>0.2419</td>\n",
              "      <td>0.07871</td>\n",
              "      <td>1.0950</td>\n",
              "      <td>0.9053</td>\n",
              "      <td>8.589</td>\n",
              "      <td>153.40</td>\n",
              "      <td>0.006399</td>\n",
              "      <td>0.04904</td>\n",
              "      <td>0.05373</td>\n",
              "      <td>0.01587</td>\n",
              "      <td>0.03003</td>\n",
              "      <td>0.006193</td>\n",
              "      <td>25.38</td>\n",
              "      <td>17.33</td>\n",
              "      <td>184.60</td>\n",
              "      <td>2019.0</td>\n",
              "      <td>0.1622</td>\n",
              "      <td>0.6656</td>\n",
              "      <td>0.7119</td>\n",
              "      <td>0.2654</td>\n",
              "      <td>0.4601</td>\n",
              "      <td>0.11890</td>\n",
              "      <td>0</td>\n",
              "    </tr>\n",
              "    <tr>\n",
              "      <th>1</th>\n",
              "      <td>20.57</td>\n",
              "      <td>17.77</td>\n",
              "      <td>132.90</td>\n",
              "      <td>1326.0</td>\n",
              "      <td>0.08474</td>\n",
              "      <td>0.07864</td>\n",
              "      <td>0.0869</td>\n",
              "      <td>0.07017</td>\n",
              "      <td>0.1812</td>\n",
              "      <td>0.05667</td>\n",
              "      <td>0.5435</td>\n",
              "      <td>0.7339</td>\n",
              "      <td>3.398</td>\n",
              "      <td>74.08</td>\n",
              "      <td>0.005225</td>\n",
              "      <td>0.01308</td>\n",
              "      <td>0.01860</td>\n",
              "      <td>0.01340</td>\n",
              "      <td>0.01389</td>\n",
              "      <td>0.003532</td>\n",
              "      <td>24.99</td>\n",
              "      <td>23.41</td>\n",
              "      <td>158.80</td>\n",
              "      <td>1956.0</td>\n",
              "      <td>0.1238</td>\n",
              "      <td>0.1866</td>\n",
              "      <td>0.2416</td>\n",
              "      <td>0.1860</td>\n",
              "      <td>0.2750</td>\n",
              "      <td>0.08902</td>\n",
              "      <td>0</td>\n",
              "    </tr>\n",
              "    <tr>\n",
              "      <th>2</th>\n",
              "      <td>19.69</td>\n",
              "      <td>21.25</td>\n",
              "      <td>130.00</td>\n",
              "      <td>1203.0</td>\n",
              "      <td>0.10960</td>\n",
              "      <td>0.15990</td>\n",
              "      <td>0.1974</td>\n",
              "      <td>0.12790</td>\n",
              "      <td>0.2069</td>\n",
              "      <td>0.05999</td>\n",
              "      <td>0.7456</td>\n",
              "      <td>0.7869</td>\n",
              "      <td>4.585</td>\n",
              "      <td>94.03</td>\n",
              "      <td>0.006150</td>\n",
              "      <td>0.04006</td>\n",
              "      <td>0.03832</td>\n",
              "      <td>0.02058</td>\n",
              "      <td>0.02250</td>\n",
              "      <td>0.004571</td>\n",
              "      <td>23.57</td>\n",
              "      <td>25.53</td>\n",
              "      <td>152.50</td>\n",
              "      <td>1709.0</td>\n",
              "      <td>0.1444</td>\n",
              "      <td>0.4245</td>\n",
              "      <td>0.4504</td>\n",
              "      <td>0.2430</td>\n",
              "      <td>0.3613</td>\n",
              "      <td>0.08758</td>\n",
              "      <td>0</td>\n",
              "    </tr>\n",
              "    <tr>\n",
              "      <th>3</th>\n",
              "      <td>11.42</td>\n",
              "      <td>20.38</td>\n",
              "      <td>77.58</td>\n",
              "      <td>386.1</td>\n",
              "      <td>0.14250</td>\n",
              "      <td>0.28390</td>\n",
              "      <td>0.2414</td>\n",
              "      <td>0.10520</td>\n",
              "      <td>0.2597</td>\n",
              "      <td>0.09744</td>\n",
              "      <td>0.4956</td>\n",
              "      <td>1.1560</td>\n",
              "      <td>3.445</td>\n",
              "      <td>27.23</td>\n",
              "      <td>0.009110</td>\n",
              "      <td>0.07458</td>\n",
              "      <td>0.05661</td>\n",
              "      <td>0.01867</td>\n",
              "      <td>0.05963</td>\n",
              "      <td>0.009208</td>\n",
              "      <td>14.91</td>\n",
              "      <td>26.50</td>\n",
              "      <td>98.87</td>\n",
              "      <td>567.7</td>\n",
              "      <td>0.2098</td>\n",
              "      <td>0.8663</td>\n",
              "      <td>0.6869</td>\n",
              "      <td>0.2575</td>\n",
              "      <td>0.6638</td>\n",
              "      <td>0.17300</td>\n",
              "      <td>0</td>\n",
              "    </tr>\n",
              "    <tr>\n",
              "      <th>4</th>\n",
              "      <td>20.29</td>\n",
              "      <td>14.34</td>\n",
              "      <td>135.10</td>\n",
              "      <td>1297.0</td>\n",
              "      <td>0.10030</td>\n",
              "      <td>0.13280</td>\n",
              "      <td>0.1980</td>\n",
              "      <td>0.10430</td>\n",
              "      <td>0.1809</td>\n",
              "      <td>0.05883</td>\n",
              "      <td>0.7572</td>\n",
              "      <td>0.7813</td>\n",
              "      <td>5.438</td>\n",
              "      <td>94.44</td>\n",
              "      <td>0.011490</td>\n",
              "      <td>0.02461</td>\n",
              "      <td>0.05688</td>\n",
              "      <td>0.01885</td>\n",
              "      <td>0.01756</td>\n",
              "      <td>0.005115</td>\n",
              "      <td>22.54</td>\n",
              "      <td>16.67</td>\n",
              "      <td>152.20</td>\n",
              "      <td>1575.0</td>\n",
              "      <td>0.1374</td>\n",
              "      <td>0.2050</td>\n",
              "      <td>0.4000</td>\n",
              "      <td>0.1625</td>\n",
              "      <td>0.2364</td>\n",
              "      <td>0.07678</td>\n",
              "      <td>0</td>\n",
              "    </tr>\n",
              "  </tbody>\n",
              "</table>\n",
              "</div>"
            ],
            "text/plain": [
              "   mean radius  mean texture  ...  worst fractal dimension  target\n",
              "0        17.99         10.38  ...                  0.11890       0\n",
              "1        20.57         17.77  ...                  0.08902       0\n",
              "2        19.69         21.25  ...                  0.08758       0\n",
              "3        11.42         20.38  ...                  0.17300       0\n",
              "4        20.29         14.34  ...                  0.07678       0\n",
              "\n",
              "[5 rows x 31 columns]"
            ]
          },
          "metadata": {
            "tags": []
          },
          "execution_count": 33
        }
      ]
    },
    {
      "cell_type": "code",
      "metadata": {
        "id": "MXODE91N-MDg",
        "colab_type": "code",
        "colab": {
          "base_uri": "https://localhost:8080/",
          "height": 663
        },
        "outputId": "afd1e985-e227-407d-d592-0822c8e86372"
      },
      "source": [
        "df.info()"
      ],
      "execution_count": null,
      "outputs": [
        {
          "output_type": "stream",
          "text": [
            "<class 'pandas.core.frame.DataFrame'>\n",
            "RangeIndex: 569 entries, 0 to 568\n",
            "Data columns (total 31 columns):\n",
            " #   Column                   Non-Null Count  Dtype  \n",
            "---  ------                   --------------  -----  \n",
            " 0   mean radius              569 non-null    float64\n",
            " 1   mean texture             569 non-null    float64\n",
            " 2   mean perimeter           569 non-null    float64\n",
            " 3   mean area                569 non-null    float64\n",
            " 4   mean smoothness          569 non-null    float64\n",
            " 5   mean compactness         569 non-null    float64\n",
            " 6   mean concavity           569 non-null    float64\n",
            " 7   mean concave points      569 non-null    float64\n",
            " 8   mean symmetry            569 non-null    float64\n",
            " 9   mean fractal dimension   569 non-null    float64\n",
            " 10  radius error             569 non-null    float64\n",
            " 11  texture error            569 non-null    float64\n",
            " 12  perimeter error          569 non-null    float64\n",
            " 13  area error               569 non-null    float64\n",
            " 14  smoothness error         569 non-null    float64\n",
            " 15  compactness error        569 non-null    float64\n",
            " 16  concavity error          569 non-null    float64\n",
            " 17  concave points error     569 non-null    float64\n",
            " 18  symmetry error           569 non-null    float64\n",
            " 19  fractal dimension error  569 non-null    float64\n",
            " 20  worst radius             569 non-null    float64\n",
            " 21  worst texture            569 non-null    float64\n",
            " 22  worst perimeter          569 non-null    float64\n",
            " 23  worst area               569 non-null    float64\n",
            " 24  worst smoothness         569 non-null    float64\n",
            " 25  worst compactness        569 non-null    float64\n",
            " 26  worst concavity          569 non-null    float64\n",
            " 27  worst concave points     569 non-null    float64\n",
            " 28  worst symmetry           569 non-null    float64\n",
            " 29  worst fractal dimension  569 non-null    float64\n",
            " 30  target                   569 non-null    int64  \n",
            "dtypes: float64(30), int64(1)\n",
            "memory usage: 137.9 KB\n"
          ],
          "name": "stdout"
        }
      ]
    },
    {
      "cell_type": "code",
      "metadata": {
        "id": "fLmMwLJv_HS1",
        "colab_type": "code",
        "colab": {
          "base_uri": "https://localhost:8080/",
          "height": 351
        },
        "outputId": "0df4c690-b44d-4b5e-b054-b141ba8ea056"
      },
      "source": [
        "df.describe()"
      ],
      "execution_count": null,
      "outputs": [
        {
          "output_type": "execute_result",
          "data": {
            "text/html": [
              "<div>\n",
              "<style scoped>\n",
              "    .dataframe tbody tr th:only-of-type {\n",
              "        vertical-align: middle;\n",
              "    }\n",
              "\n",
              "    .dataframe tbody tr th {\n",
              "        vertical-align: top;\n",
              "    }\n",
              "\n",
              "    .dataframe thead th {\n",
              "        text-align: right;\n",
              "    }\n",
              "</style>\n",
              "<table border=\"1\" class=\"dataframe\">\n",
              "  <thead>\n",
              "    <tr style=\"text-align: right;\">\n",
              "      <th></th>\n",
              "      <th>mean radius</th>\n",
              "      <th>mean texture</th>\n",
              "      <th>mean perimeter</th>\n",
              "      <th>mean area</th>\n",
              "      <th>mean smoothness</th>\n",
              "      <th>mean compactness</th>\n",
              "      <th>mean concavity</th>\n",
              "      <th>mean concave points</th>\n",
              "      <th>mean symmetry</th>\n",
              "      <th>mean fractal dimension</th>\n",
              "      <th>radius error</th>\n",
              "      <th>texture error</th>\n",
              "      <th>perimeter error</th>\n",
              "      <th>area error</th>\n",
              "      <th>smoothness error</th>\n",
              "      <th>compactness error</th>\n",
              "      <th>concavity error</th>\n",
              "      <th>concave points error</th>\n",
              "      <th>symmetry error</th>\n",
              "      <th>fractal dimension error</th>\n",
              "      <th>worst radius</th>\n",
              "      <th>worst texture</th>\n",
              "      <th>worst perimeter</th>\n",
              "      <th>worst area</th>\n",
              "      <th>worst smoothness</th>\n",
              "      <th>worst compactness</th>\n",
              "      <th>worst concavity</th>\n",
              "      <th>worst concave points</th>\n",
              "      <th>worst symmetry</th>\n",
              "      <th>worst fractal dimension</th>\n",
              "      <th>target</th>\n",
              "    </tr>\n",
              "  </thead>\n",
              "  <tbody>\n",
              "    <tr>\n",
              "      <th>count</th>\n",
              "      <td>569.000000</td>\n",
              "      <td>569.000000</td>\n",
              "      <td>569.000000</td>\n",
              "      <td>569.000000</td>\n",
              "      <td>569.000000</td>\n",
              "      <td>569.000000</td>\n",
              "      <td>569.000000</td>\n",
              "      <td>569.000000</td>\n",
              "      <td>569.000000</td>\n",
              "      <td>569.000000</td>\n",
              "      <td>569.000000</td>\n",
              "      <td>569.000000</td>\n",
              "      <td>569.000000</td>\n",
              "      <td>569.000000</td>\n",
              "      <td>569.000000</td>\n",
              "      <td>569.000000</td>\n",
              "      <td>569.000000</td>\n",
              "      <td>569.000000</td>\n",
              "      <td>569.000000</td>\n",
              "      <td>569.000000</td>\n",
              "      <td>569.000000</td>\n",
              "      <td>569.000000</td>\n",
              "      <td>569.000000</td>\n",
              "      <td>569.000000</td>\n",
              "      <td>569.000000</td>\n",
              "      <td>569.000000</td>\n",
              "      <td>569.000000</td>\n",
              "      <td>569.000000</td>\n",
              "      <td>569.000000</td>\n",
              "      <td>569.000000</td>\n",
              "      <td>569.000000</td>\n",
              "    </tr>\n",
              "    <tr>\n",
              "      <th>mean</th>\n",
              "      <td>14.127292</td>\n",
              "      <td>19.289649</td>\n",
              "      <td>91.969033</td>\n",
              "      <td>654.889104</td>\n",
              "      <td>0.096360</td>\n",
              "      <td>0.104341</td>\n",
              "      <td>0.088799</td>\n",
              "      <td>0.048919</td>\n",
              "      <td>0.181162</td>\n",
              "      <td>0.062798</td>\n",
              "      <td>0.405172</td>\n",
              "      <td>1.216853</td>\n",
              "      <td>2.866059</td>\n",
              "      <td>40.337079</td>\n",
              "      <td>0.007041</td>\n",
              "      <td>0.025478</td>\n",
              "      <td>0.031894</td>\n",
              "      <td>0.011796</td>\n",
              "      <td>0.020542</td>\n",
              "      <td>0.003795</td>\n",
              "      <td>16.269190</td>\n",
              "      <td>25.677223</td>\n",
              "      <td>107.261213</td>\n",
              "      <td>880.583128</td>\n",
              "      <td>0.132369</td>\n",
              "      <td>0.254265</td>\n",
              "      <td>0.272188</td>\n",
              "      <td>0.114606</td>\n",
              "      <td>0.290076</td>\n",
              "      <td>0.083946</td>\n",
              "      <td>0.627417</td>\n",
              "    </tr>\n",
              "    <tr>\n",
              "      <th>std</th>\n",
              "      <td>3.524049</td>\n",
              "      <td>4.301036</td>\n",
              "      <td>24.298981</td>\n",
              "      <td>351.914129</td>\n",
              "      <td>0.014064</td>\n",
              "      <td>0.052813</td>\n",
              "      <td>0.079720</td>\n",
              "      <td>0.038803</td>\n",
              "      <td>0.027414</td>\n",
              "      <td>0.007060</td>\n",
              "      <td>0.277313</td>\n",
              "      <td>0.551648</td>\n",
              "      <td>2.021855</td>\n",
              "      <td>45.491006</td>\n",
              "      <td>0.003003</td>\n",
              "      <td>0.017908</td>\n",
              "      <td>0.030186</td>\n",
              "      <td>0.006170</td>\n",
              "      <td>0.008266</td>\n",
              "      <td>0.002646</td>\n",
              "      <td>4.833242</td>\n",
              "      <td>6.146258</td>\n",
              "      <td>33.602542</td>\n",
              "      <td>569.356993</td>\n",
              "      <td>0.022832</td>\n",
              "      <td>0.157336</td>\n",
              "      <td>0.208624</td>\n",
              "      <td>0.065732</td>\n",
              "      <td>0.061867</td>\n",
              "      <td>0.018061</td>\n",
              "      <td>0.483918</td>\n",
              "    </tr>\n",
              "    <tr>\n",
              "      <th>min</th>\n",
              "      <td>6.981000</td>\n",
              "      <td>9.710000</td>\n",
              "      <td>43.790000</td>\n",
              "      <td>143.500000</td>\n",
              "      <td>0.052630</td>\n",
              "      <td>0.019380</td>\n",
              "      <td>0.000000</td>\n",
              "      <td>0.000000</td>\n",
              "      <td>0.106000</td>\n",
              "      <td>0.049960</td>\n",
              "      <td>0.111500</td>\n",
              "      <td>0.360200</td>\n",
              "      <td>0.757000</td>\n",
              "      <td>6.802000</td>\n",
              "      <td>0.001713</td>\n",
              "      <td>0.002252</td>\n",
              "      <td>0.000000</td>\n",
              "      <td>0.000000</td>\n",
              "      <td>0.007882</td>\n",
              "      <td>0.000895</td>\n",
              "      <td>7.930000</td>\n",
              "      <td>12.020000</td>\n",
              "      <td>50.410000</td>\n",
              "      <td>185.200000</td>\n",
              "      <td>0.071170</td>\n",
              "      <td>0.027290</td>\n",
              "      <td>0.000000</td>\n",
              "      <td>0.000000</td>\n",
              "      <td>0.156500</td>\n",
              "      <td>0.055040</td>\n",
              "      <td>0.000000</td>\n",
              "    </tr>\n",
              "    <tr>\n",
              "      <th>25%</th>\n",
              "      <td>11.700000</td>\n",
              "      <td>16.170000</td>\n",
              "      <td>75.170000</td>\n",
              "      <td>420.300000</td>\n",
              "      <td>0.086370</td>\n",
              "      <td>0.064920</td>\n",
              "      <td>0.029560</td>\n",
              "      <td>0.020310</td>\n",
              "      <td>0.161900</td>\n",
              "      <td>0.057700</td>\n",
              "      <td>0.232400</td>\n",
              "      <td>0.833900</td>\n",
              "      <td>1.606000</td>\n",
              "      <td>17.850000</td>\n",
              "      <td>0.005169</td>\n",
              "      <td>0.013080</td>\n",
              "      <td>0.015090</td>\n",
              "      <td>0.007638</td>\n",
              "      <td>0.015160</td>\n",
              "      <td>0.002248</td>\n",
              "      <td>13.010000</td>\n",
              "      <td>21.080000</td>\n",
              "      <td>84.110000</td>\n",
              "      <td>515.300000</td>\n",
              "      <td>0.116600</td>\n",
              "      <td>0.147200</td>\n",
              "      <td>0.114500</td>\n",
              "      <td>0.064930</td>\n",
              "      <td>0.250400</td>\n",
              "      <td>0.071460</td>\n",
              "      <td>0.000000</td>\n",
              "    </tr>\n",
              "    <tr>\n",
              "      <th>50%</th>\n",
              "      <td>13.370000</td>\n",
              "      <td>18.840000</td>\n",
              "      <td>86.240000</td>\n",
              "      <td>551.100000</td>\n",
              "      <td>0.095870</td>\n",
              "      <td>0.092630</td>\n",
              "      <td>0.061540</td>\n",
              "      <td>0.033500</td>\n",
              "      <td>0.179200</td>\n",
              "      <td>0.061540</td>\n",
              "      <td>0.324200</td>\n",
              "      <td>1.108000</td>\n",
              "      <td>2.287000</td>\n",
              "      <td>24.530000</td>\n",
              "      <td>0.006380</td>\n",
              "      <td>0.020450</td>\n",
              "      <td>0.025890</td>\n",
              "      <td>0.010930</td>\n",
              "      <td>0.018730</td>\n",
              "      <td>0.003187</td>\n",
              "      <td>14.970000</td>\n",
              "      <td>25.410000</td>\n",
              "      <td>97.660000</td>\n",
              "      <td>686.500000</td>\n",
              "      <td>0.131300</td>\n",
              "      <td>0.211900</td>\n",
              "      <td>0.226700</td>\n",
              "      <td>0.099930</td>\n",
              "      <td>0.282200</td>\n",
              "      <td>0.080040</td>\n",
              "      <td>1.000000</td>\n",
              "    </tr>\n",
              "    <tr>\n",
              "      <th>75%</th>\n",
              "      <td>15.780000</td>\n",
              "      <td>21.800000</td>\n",
              "      <td>104.100000</td>\n",
              "      <td>782.700000</td>\n",
              "      <td>0.105300</td>\n",
              "      <td>0.130400</td>\n",
              "      <td>0.130700</td>\n",
              "      <td>0.074000</td>\n",
              "      <td>0.195700</td>\n",
              "      <td>0.066120</td>\n",
              "      <td>0.478900</td>\n",
              "      <td>1.474000</td>\n",
              "      <td>3.357000</td>\n",
              "      <td>45.190000</td>\n",
              "      <td>0.008146</td>\n",
              "      <td>0.032450</td>\n",
              "      <td>0.042050</td>\n",
              "      <td>0.014710</td>\n",
              "      <td>0.023480</td>\n",
              "      <td>0.004558</td>\n",
              "      <td>18.790000</td>\n",
              "      <td>29.720000</td>\n",
              "      <td>125.400000</td>\n",
              "      <td>1084.000000</td>\n",
              "      <td>0.146000</td>\n",
              "      <td>0.339100</td>\n",
              "      <td>0.382900</td>\n",
              "      <td>0.161400</td>\n",
              "      <td>0.317900</td>\n",
              "      <td>0.092080</td>\n",
              "      <td>1.000000</td>\n",
              "    </tr>\n",
              "    <tr>\n",
              "      <th>max</th>\n",
              "      <td>28.110000</td>\n",
              "      <td>39.280000</td>\n",
              "      <td>188.500000</td>\n",
              "      <td>2501.000000</td>\n",
              "      <td>0.163400</td>\n",
              "      <td>0.345400</td>\n",
              "      <td>0.426800</td>\n",
              "      <td>0.201200</td>\n",
              "      <td>0.304000</td>\n",
              "      <td>0.097440</td>\n",
              "      <td>2.873000</td>\n",
              "      <td>4.885000</td>\n",
              "      <td>21.980000</td>\n",
              "      <td>542.200000</td>\n",
              "      <td>0.031130</td>\n",
              "      <td>0.135400</td>\n",
              "      <td>0.396000</td>\n",
              "      <td>0.052790</td>\n",
              "      <td>0.078950</td>\n",
              "      <td>0.029840</td>\n",
              "      <td>36.040000</td>\n",
              "      <td>49.540000</td>\n",
              "      <td>251.200000</td>\n",
              "      <td>4254.000000</td>\n",
              "      <td>0.222600</td>\n",
              "      <td>1.058000</td>\n",
              "      <td>1.252000</td>\n",
              "      <td>0.291000</td>\n",
              "      <td>0.663800</td>\n",
              "      <td>0.207500</td>\n",
              "      <td>1.000000</td>\n",
              "    </tr>\n",
              "  </tbody>\n",
              "</table>\n",
              "</div>"
            ],
            "text/plain": [
              "       mean radius  mean texture  ...  worst fractal dimension      target\n",
              "count   569.000000    569.000000  ...               569.000000  569.000000\n",
              "mean     14.127292     19.289649  ...                 0.083946    0.627417\n",
              "std       3.524049      4.301036  ...                 0.018061    0.483918\n",
              "min       6.981000      9.710000  ...                 0.055040    0.000000\n",
              "25%      11.700000     16.170000  ...                 0.071460    0.000000\n",
              "50%      13.370000     18.840000  ...                 0.080040    1.000000\n",
              "75%      15.780000     21.800000  ...                 0.092080    1.000000\n",
              "max      28.110000     39.280000  ...                 0.207500    1.000000\n",
              "\n",
              "[8 rows x 31 columns]"
            ]
          },
          "metadata": {
            "tags": []
          },
          "execution_count": 35
        }
      ]
    },
    {
      "cell_type": "code",
      "metadata": {
        "id": "zt5aNd2o_Rky",
        "colab_type": "code",
        "colab": {
          "base_uri": "https://localhost:8080/",
          "height": 68
        },
        "outputId": "f9da1eaf-d51e-4643-baf3-dcee3fa4fb8b"
      },
      "source": [
        "df['target'].value_counts()"
      ],
      "execution_count": null,
      "outputs": [
        {
          "output_type": "execute_result",
          "data": {
            "text/plain": [
              "1    357\n",
              "0    212\n",
              "Name: target, dtype: int64"
            ]
          },
          "metadata": {
            "tags": []
          },
          "execution_count": 36
        }
      ]
    },
    {
      "cell_type": "code",
      "metadata": {
        "id": "t4YxUckqBlXr",
        "colab_type": "code",
        "colab": {
          "base_uri": "https://localhost:8080/",
          "height": 68
        },
        "outputId": "ad3684d5-5fe6-4258-bbcb-69406f8b2ab8"
      },
      "source": [
        "df['target'].value_counts(normalize=True)"
      ],
      "execution_count": null,
      "outputs": [
        {
          "output_type": "execute_result",
          "data": {
            "text/plain": [
              "1    0.627417\n",
              "0    0.372583\n",
              "Name: target, dtype: float64"
            ]
          },
          "metadata": {
            "tags": []
          },
          "execution_count": 37
        }
      ]
    },
    {
      "cell_type": "markdown",
      "metadata": {
        "id": "ued0s2OFFPp8",
        "colab_type": "text"
      },
      "source": [
        "## Standardization"
      ]
    },
    {
      "cell_type": "code",
      "metadata": {
        "id": "sJpPtR6qHE1p",
        "colab_type": "code",
        "colab": {}
      },
      "source": [
        "X_features = df[df.columns.difference(['target'])]"
      ],
      "execution_count": null,
      "outputs": []
    },
    {
      "cell_type": "code",
      "metadata": {
        "id": "-z4Q9cqhELby",
        "colab_type": "code",
        "colab": {}
      },
      "source": [
        "from sklearn.preprocessing import StandardScaler\n",
        "sc = StandardScaler()\n",
        "X = pd.DataFrame(sc.fit_transform(X_features),index=X_features.index,columns=X_features.columns)\n",
        "# Note: For the datasets with outliers, standardize using Robust Scaler"
      ],
      "execution_count": null,
      "outputs": []
    },
    {
      "cell_type": "code",
      "metadata": {
        "id": "MdjEWOUg_BX0",
        "colab_type": "code",
        "colab": {
          "base_uri": "https://localhost:8080/",
          "height": 419
        },
        "outputId": "41747daa-3ff2-405c-acb0-8eba3b05091d"
      },
      "source": [
        "X.describe()"
      ],
      "execution_count": null,
      "outputs": [
        {
          "output_type": "execute_result",
          "data": {
            "text/html": [
              "<div>\n",
              "<style scoped>\n",
              "    .dataframe tbody tr th:only-of-type {\n",
              "        vertical-align: middle;\n",
              "    }\n",
              "\n",
              "    .dataframe tbody tr th {\n",
              "        vertical-align: top;\n",
              "    }\n",
              "\n",
              "    .dataframe thead th {\n",
              "        text-align: right;\n",
              "    }\n",
              "</style>\n",
              "<table border=\"1\" class=\"dataframe\">\n",
              "  <thead>\n",
              "    <tr style=\"text-align: right;\">\n",
              "      <th></th>\n",
              "      <th>area error</th>\n",
              "      <th>compactness error</th>\n",
              "      <th>concave points error</th>\n",
              "      <th>concavity error</th>\n",
              "      <th>fractal dimension error</th>\n",
              "      <th>mean area</th>\n",
              "      <th>mean compactness</th>\n",
              "      <th>mean concave points</th>\n",
              "      <th>mean concavity</th>\n",
              "      <th>mean fractal dimension</th>\n",
              "      <th>mean perimeter</th>\n",
              "      <th>mean radius</th>\n",
              "      <th>mean smoothness</th>\n",
              "      <th>mean symmetry</th>\n",
              "      <th>mean texture</th>\n",
              "      <th>perimeter error</th>\n",
              "      <th>radius error</th>\n",
              "      <th>smoothness error</th>\n",
              "      <th>symmetry error</th>\n",
              "      <th>texture error</th>\n",
              "      <th>worst area</th>\n",
              "      <th>worst compactness</th>\n",
              "      <th>worst concave points</th>\n",
              "      <th>worst concavity</th>\n",
              "      <th>worst fractal dimension</th>\n",
              "      <th>worst perimeter</th>\n",
              "      <th>worst radius</th>\n",
              "      <th>worst smoothness</th>\n",
              "      <th>worst symmetry</th>\n",
              "      <th>worst texture</th>\n",
              "    </tr>\n",
              "  </thead>\n",
              "  <tbody>\n",
              "    <tr>\n",
              "      <th>count</th>\n",
              "      <td>5.690000e+02</td>\n",
              "      <td>5.690000e+02</td>\n",
              "      <td>5.690000e+02</td>\n",
              "      <td>5.690000e+02</td>\n",
              "      <td>5.690000e+02</td>\n",
              "      <td>5.690000e+02</td>\n",
              "      <td>5.690000e+02</td>\n",
              "      <td>5.690000e+02</td>\n",
              "      <td>5.690000e+02</td>\n",
              "      <td>5.690000e+02</td>\n",
              "      <td>5.690000e+02</td>\n",
              "      <td>5.690000e+02</td>\n",
              "      <td>5.690000e+02</td>\n",
              "      <td>5.690000e+02</td>\n",
              "      <td>5.690000e+02</td>\n",
              "      <td>5.690000e+02</td>\n",
              "      <td>5.690000e+02</td>\n",
              "      <td>5.690000e+02</td>\n",
              "      <td>5.690000e+02</td>\n",
              "      <td>5.690000e+02</td>\n",
              "      <td>5.690000e+02</td>\n",
              "      <td>5.690000e+02</td>\n",
              "      <td>5.690000e+02</td>\n",
              "      <td>5.690000e+02</td>\n",
              "      <td>5.690000e+02</td>\n",
              "      <td>5.690000e+02</td>\n",
              "      <td>5.690000e+02</td>\n",
              "      <td>5.690000e+02</td>\n",
              "      <td>5.690000e+02</td>\n",
              "      <td>5.690000e+02</td>\n",
              "    </tr>\n",
              "    <tr>\n",
              "      <th>mean</th>\n",
              "      <td>-8.291551e-16</td>\n",
              "      <td>-3.921877e-16</td>\n",
              "      <td>-2.739461e-16</td>\n",
              "      <td>7.917900e-16</td>\n",
              "      <td>-3.366766e-16</td>\n",
              "      <td>-8.799835e-16</td>\n",
              "      <td>-1.120369e-15</td>\n",
              "      <td>9.732500e-16</td>\n",
              "      <td>-4.421380e-16</td>\n",
              "      <td>-1.453631e-15</td>\n",
              "      <td>-7.078891e-16</td>\n",
              "      <td>-3.162867e-15</td>\n",
              "      <td>6.132177e-15</td>\n",
              "      <td>-1.971670e-15</td>\n",
              "      <td>-6.530609e-15</td>\n",
              "      <td>1.773674e-15</td>\n",
              "      <td>-9.076415e-16</td>\n",
              "      <td>-7.541809e-16</td>\n",
              "      <td>-3.108234e-16</td>\n",
              "      <td>-8.853492e-16</td>\n",
              "      <td>5.049661e-16</td>\n",
              "      <td>-2.174788e-15</td>\n",
              "      <td>-1.412656e-16</td>\n",
              "      <td>6.856456e-16</td>\n",
              "      <td>2.575171e-15</td>\n",
              "      <td>-1.198026e-15</td>\n",
              "      <td>-2.333224e-15</td>\n",
              "      <td>-5.213170e-15</td>\n",
              "      <td>-2.289567e-15</td>\n",
              "      <td>1.763674e-15</td>\n",
              "    </tr>\n",
              "    <tr>\n",
              "      <th>std</th>\n",
              "      <td>1.000880e+00</td>\n",
              "      <td>1.000880e+00</td>\n",
              "      <td>1.000880e+00</td>\n",
              "      <td>1.000880e+00</td>\n",
              "      <td>1.000880e+00</td>\n",
              "      <td>1.000880e+00</td>\n",
              "      <td>1.000880e+00</td>\n",
              "      <td>1.000880e+00</td>\n",
              "      <td>1.000880e+00</td>\n",
              "      <td>1.000880e+00</td>\n",
              "      <td>1.000880e+00</td>\n",
              "      <td>1.000880e+00</td>\n",
              "      <td>1.000880e+00</td>\n",
              "      <td>1.000880e+00</td>\n",
              "      <td>1.000880e+00</td>\n",
              "      <td>1.000880e+00</td>\n",
              "      <td>1.000880e+00</td>\n",
              "      <td>1.000880e+00</td>\n",
              "      <td>1.000880e+00</td>\n",
              "      <td>1.000880e+00</td>\n",
              "      <td>1.000880e+00</td>\n",
              "      <td>1.000880e+00</td>\n",
              "      <td>1.000880e+00</td>\n",
              "      <td>1.000880e+00</td>\n",
              "      <td>1.000880e+00</td>\n",
              "      <td>1.000880e+00</td>\n",
              "      <td>1.000880e+00</td>\n",
              "      <td>1.000880e+00</td>\n",
              "      <td>1.000880e+00</td>\n",
              "      <td>1.000880e+00</td>\n",
              "    </tr>\n",
              "    <tr>\n",
              "      <th>min</th>\n",
              "      <td>-7.378291e-01</td>\n",
              "      <td>-1.298098e+00</td>\n",
              "      <td>-1.913447e+00</td>\n",
              "      <td>-1.057501e+00</td>\n",
              "      <td>-1.096968e+00</td>\n",
              "      <td>-1.454443e+00</td>\n",
              "      <td>-1.610136e+00</td>\n",
              "      <td>-1.261820e+00</td>\n",
              "      <td>-1.114873e+00</td>\n",
              "      <td>-1.819865e+00</td>\n",
              "      <td>-1.984504e+00</td>\n",
              "      <td>-2.029648e+00</td>\n",
              "      <td>-3.112085e+00</td>\n",
              "      <td>-2.744117e+00</td>\n",
              "      <td>-2.229249e+00</td>\n",
              "      <td>-1.044049e+00</td>\n",
              "      <td>-1.059924e+00</td>\n",
              "      <td>-1.776065e+00</td>\n",
              "      <td>-1.532890e+00</td>\n",
              "      <td>-1.554264e+00</td>\n",
              "      <td>-1.222423e+00</td>\n",
              "      <td>-1.443878e+00</td>\n",
              "      <td>-1.745063e+00</td>\n",
              "      <td>-1.305831e+00</td>\n",
              "      <td>-1.601839e+00</td>\n",
              "      <td>-1.693361e+00</td>\n",
              "      <td>-1.726901e+00</td>\n",
              "      <td>-2.682695e+00</td>\n",
              "      <td>-2.160960e+00</td>\n",
              "      <td>-2.223994e+00</td>\n",
              "    </tr>\n",
              "    <tr>\n",
              "      <th>25%</th>\n",
              "      <td>-4.947542e-01</td>\n",
              "      <td>-6.929263e-01</td>\n",
              "      <td>-6.744900e-01</td>\n",
              "      <td>-5.571612e-01</td>\n",
              "      <td>-5.851185e-01</td>\n",
              "      <td>-6.671955e-01</td>\n",
              "      <td>-7.470860e-01</td>\n",
              "      <td>-7.379438e-01</td>\n",
              "      <td>-7.437479e-01</td>\n",
              "      <td>-7.226392e-01</td>\n",
              "      <td>-6.919555e-01</td>\n",
              "      <td>-6.893853e-01</td>\n",
              "      <td>-7.109628e-01</td>\n",
              "      <td>-7.032397e-01</td>\n",
              "      <td>-7.259631e-01</td>\n",
              "      <td>-6.237679e-01</td>\n",
              "      <td>-6.235706e-01</td>\n",
              "      <td>-6.240183e-01</td>\n",
              "      <td>-6.516807e-01</td>\n",
              "      <td>-6.948092e-01</td>\n",
              "      <td>-6.421359e-01</td>\n",
              "      <td>-6.810833e-01</td>\n",
              "      <td>-7.563999e-01</td>\n",
              "      <td>-7.565142e-01</td>\n",
              "      <td>-6.919118e-01</td>\n",
              "      <td>-6.895783e-01</td>\n",
              "      <td>-6.749213e-01</td>\n",
              "      <td>-6.912304e-01</td>\n",
              "      <td>-6.418637e-01</td>\n",
              "      <td>-7.486293e-01</td>\n",
              "    </tr>\n",
              "    <tr>\n",
              "      <th>50%</th>\n",
              "      <td>-3.477828e-01</td>\n",
              "      <td>-2.810204e-01</td>\n",
              "      <td>-1.404958e-01</td>\n",
              "      <td>-1.990654e-01</td>\n",
              "      <td>-2.299405e-01</td>\n",
              "      <td>-2.951869e-01</td>\n",
              "      <td>-2.219405e-01</td>\n",
              "      <td>-3.977212e-01</td>\n",
              "      <td>-3.422399e-01</td>\n",
              "      <td>-1.782793e-01</td>\n",
              "      <td>-2.359800e-01</td>\n",
              "      <td>-2.150816e-01</td>\n",
              "      <td>-3.489108e-02</td>\n",
              "      <td>-7.162650e-02</td>\n",
              "      <td>-1.046362e-01</td>\n",
              "      <td>-2.866520e-01</td>\n",
              "      <td>-2.922452e-01</td>\n",
              "      <td>-2.203352e-01</td>\n",
              "      <td>-2.194304e-01</td>\n",
              "      <td>-1.974976e-01</td>\n",
              "      <td>-3.411812e-01</td>\n",
              "      <td>-2.695009e-01</td>\n",
              "      <td>-2.234689e-01</td>\n",
              "      <td>-2.182321e-01</td>\n",
              "      <td>-2.164441e-01</td>\n",
              "      <td>-2.859802e-01</td>\n",
              "      <td>-2.690395e-01</td>\n",
              "      <td>-4.684277e-02</td>\n",
              "      <td>-1.274095e-01</td>\n",
              "      <td>-4.351564e-02</td>\n",
              "    </tr>\n",
              "    <tr>\n",
              "      <th>75%</th>\n",
              "      <td>1.067726e-01</td>\n",
              "      <td>3.896541e-01</td>\n",
              "      <td>4.726567e-01</td>\n",
              "      <td>3.367521e-01</td>\n",
              "      <td>2.886421e-01</td>\n",
              "      <td>3.635073e-01</td>\n",
              "      <td>4.938569e-01</td>\n",
              "      <td>6.469351e-01</td>\n",
              "      <td>5.260619e-01</td>\n",
              "      <td>4.709834e-01</td>\n",
              "      <td>4.996769e-01</td>\n",
              "      <td>4.693926e-01</td>\n",
              "      <td>6.361990e-01</td>\n",
              "      <td>5.307792e-01</td>\n",
              "      <td>5.841756e-01</td>\n",
              "      <td>2.430307e-01</td>\n",
              "      <td>2.660996e-01</td>\n",
              "      <td>3.683553e-01</td>\n",
              "      <td>3.556925e-01</td>\n",
              "      <td>4.665523e-01</td>\n",
              "      <td>3.575891e-01</td>\n",
              "      <td>5.396688e-01</td>\n",
              "      <td>7.125100e-01</td>\n",
              "      <td>5.311411e-01</td>\n",
              "      <td>4.507624e-01</td>\n",
              "      <td>5.402790e-01</td>\n",
              "      <td>5.220158e-01</td>\n",
              "      <td>5.975448e-01</td>\n",
              "      <td>4.501382e-01</td>\n",
              "      <td>6.583411e-01</td>\n",
              "    </tr>\n",
              "    <tr>\n",
              "      <th>max</th>\n",
              "      <td>1.104184e+01</td>\n",
              "      <td>6.143482e+00</td>\n",
              "      <td>6.649601e+00</td>\n",
              "      <td>1.207268e+01</td>\n",
              "      <td>9.851593e+00</td>\n",
              "      <td>5.250529e+00</td>\n",
              "      <td>4.568425e+00</td>\n",
              "      <td>3.927930e+00</td>\n",
              "      <td>4.243589e+00</td>\n",
              "      <td>4.910919e+00</td>\n",
              "      <td>3.976130e+00</td>\n",
              "      <td>3.971288e+00</td>\n",
              "      <td>4.770911e+00</td>\n",
              "      <td>4.484751e+00</td>\n",
              "      <td>4.651889e+00</td>\n",
              "      <td>9.461986e+00</td>\n",
              "      <td>8.906909e+00</td>\n",
              "      <td>8.029999e+00</td>\n",
              "      <td>7.071917e+00</td>\n",
              "      <td>6.655279e+00</td>\n",
              "      <td>5.930172e+00</td>\n",
              "      <td>5.112877e+00</td>\n",
              "      <td>2.685877e+00</td>\n",
              "      <td>4.700669e+00</td>\n",
              "      <td>6.846856e+00</td>\n",
              "      <td>4.287337e+00</td>\n",
              "      <td>4.094189e+00</td>\n",
              "      <td>3.955374e+00</td>\n",
              "      <td>6.046041e+00</td>\n",
              "      <td>3.885905e+00</td>\n",
              "    </tr>\n",
              "  </tbody>\n",
              "</table>\n",
              "</div>"
            ],
            "text/plain": [
              "         area error  compactness error  ...  worst symmetry  worst texture\n",
              "count  5.690000e+02       5.690000e+02  ...    5.690000e+02   5.690000e+02\n",
              "mean  -8.291551e-16      -3.921877e-16  ...   -2.289567e-15   1.763674e-15\n",
              "std    1.000880e+00       1.000880e+00  ...    1.000880e+00   1.000880e+00\n",
              "min   -7.378291e-01      -1.298098e+00  ...   -2.160960e+00  -2.223994e+00\n",
              "25%   -4.947542e-01      -6.929263e-01  ...   -6.418637e-01  -7.486293e-01\n",
              "50%   -3.477828e-01      -2.810204e-01  ...   -1.274095e-01  -4.351564e-02\n",
              "75%    1.067726e-01       3.896541e-01  ...    4.501382e-01   6.583411e-01\n",
              "max    1.104184e+01       6.143482e+00  ...    6.046041e+00   3.885905e+00\n",
              "\n",
              "[8 rows x 30 columns]"
            ]
          },
          "metadata": {
            "tags": []
          },
          "execution_count": 40
        }
      ]
    },
    {
      "cell_type": "markdown",
      "metadata": {
        "id": "rlJo0tqZB48x",
        "colab_type": "text"
      },
      "source": [
        "## Train Test Split"
      ]
    },
    {
      "cell_type": "code",
      "metadata": {
        "id": "DqePXiEiBh5_",
        "colab_type": "code",
        "colab": {}
      },
      "source": [
        "y = df['target']"
      ],
      "execution_count": null,
      "outputs": []
    },
    {
      "cell_type": "code",
      "metadata": {
        "id": "d28qltqmEiH3",
        "colab_type": "code",
        "colab": {}
      },
      "source": [
        "X_train, X_test, y_train, y_test = train_test_split(X, y, test_size=0.2, random_state=42)"
      ],
      "execution_count": null,
      "outputs": []
    },
    {
      "cell_type": "code",
      "metadata": {
        "id": "V7BfXpphHBUi",
        "colab_type": "code",
        "colab": {
          "base_uri": "https://localhost:8080/",
          "height": 34
        },
        "outputId": "d415743f-6a5b-4143-b364-0c4037fd8e94"
      },
      "source": [
        "X_train.shape"
      ],
      "execution_count": null,
      "outputs": [
        {
          "output_type": "execute_result",
          "data": {
            "text/plain": [
              "(455, 30)"
            ]
          },
          "metadata": {
            "tags": []
          },
          "execution_count": 43
        }
      ]
    },
    {
      "cell_type": "code",
      "metadata": {
        "id": "71Bf7N7wHHaJ",
        "colab_type": "code",
        "colab": {
          "base_uri": "https://localhost:8080/",
          "height": 34
        },
        "outputId": "2869b857-a20c-4fcc-f06c-fd91bbc02409"
      },
      "source": [
        "X_test.shape"
      ],
      "execution_count": null,
      "outputs": [
        {
          "output_type": "execute_result",
          "data": {
            "text/plain": [
              "(114, 30)"
            ]
          },
          "metadata": {
            "tags": []
          },
          "execution_count": 44
        }
      ]
    },
    {
      "cell_type": "code",
      "metadata": {
        "id": "2HT9p6cHHLCV",
        "colab_type": "code",
        "colab": {
          "base_uri": "https://localhost:8080/",
          "height": 34
        },
        "outputId": "981e9ce9-353b-4f81-81f4-24f926d82fb5"
      },
      "source": [
        "y_train.shape"
      ],
      "execution_count": null,
      "outputs": [
        {
          "output_type": "execute_result",
          "data": {
            "text/plain": [
              "(455,)"
            ]
          },
          "metadata": {
            "tags": []
          },
          "execution_count": 45
        }
      ]
    },
    {
      "cell_type": "code",
      "metadata": {
        "id": "ESZ-zj9uHPms",
        "colab_type": "code",
        "colab": {
          "base_uri": "https://localhost:8080/",
          "height": 34
        },
        "outputId": "34cea8dd-9ed7-4219-8821-bfe58e910b57"
      },
      "source": [
        "y_test.shape"
      ],
      "execution_count": null,
      "outputs": [
        {
          "output_type": "execute_result",
          "data": {
            "text/plain": [
              "(114,)"
            ]
          },
          "metadata": {
            "tags": []
          },
          "execution_count": 46
        }
      ]
    },
    {
      "cell_type": "markdown",
      "metadata": {
        "id": "ZHFV_sB7Hn-y",
        "colab_type": "text"
      },
      "source": [
        "## Logistic Regression"
      ]
    },
    {
      "cell_type": "code",
      "metadata": {
        "id": "6uUGINMPH8ZK",
        "colab_type": "code",
        "colab": {
          "base_uri": "https://localhost:8080/",
          "height": 102
        },
        "outputId": "115cd733-31fb-4193-fe0b-79054d57f746"
      },
      "source": [
        "# Check default values\n",
        "LogisticRegression()"
      ],
      "execution_count": null,
      "outputs": [
        {
          "output_type": "execute_result",
          "data": {
            "text/plain": [
              "LogisticRegression(C=1.0, class_weight=None, dual=False, fit_intercept=True,\n",
              "                   intercept_scaling=1, l1_ratio=None, max_iter=100,\n",
              "                   multi_class='auto', n_jobs=None, penalty='l2',\n",
              "                   random_state=None, solver='lbfgs', tol=0.0001, verbose=0,\n",
              "                   warm_start=False)"
            ]
          },
          "metadata": {
            "tags": []
          },
          "execution_count": 47
        }
      ]
    },
    {
      "cell_type": "code",
      "metadata": {
        "id": "2Q623_njHUXa",
        "colab_type": "code",
        "colab": {}
      },
      "source": [
        "logistic = LogisticRegression(penalty='none', random_state=0).fit(X_train, y_train)\n",
        "# penalty='none' means no regularization is applied\n",
        "# C is the inverse of the regularization strength, so smaller number indicates stronger regularization."
      ],
      "execution_count": null,
      "outputs": []
    },
    {
      "cell_type": "code",
      "metadata": {
        "id": "sUMNXi9aIMhs",
        "colab_type": "code",
        "colab": {
          "base_uri": "https://localhost:8080/",
          "height": 265
        },
        "outputId": "d9e08ed3-fd6e-493f-8382-22cd6776dfeb"
      },
      "source": [
        "#ROC/AUC Curve\n",
        "from sklearn import metrics\n",
        "y_test_prob=logistic.predict_proba(X_test)[:,1]\n",
        "fpr,tpr, _=metrics.roc_curve(y_test,y_test_prob)\n",
        "auc=metrics.roc_auc_score(y_test,y_test_prob)\n",
        "plt.plot(fpr,tpr,label=\"area=\"+str(auc))\n",
        "plt.legend(loc=4)\n",
        "plt.show()"
      ],
      "execution_count": null,
      "outputs": [
        {
          "output_type": "display_data",
          "data": {
            "image/png": "[encoded data removed]",
            "text/plain": [
              "<Figure size 432x288 with 1 Axes>"
            ]
          },
          "metadata": {
            "tags": [],
            "needs_background": "light"
          }
        }
      ]
    },
    {
      "cell_type": "code",
      "metadata": {
        "id": "7p-gRHaeKqeR",
        "colab_type": "code",
        "colab": {
          "base_uri": "https://localhost:8080/",
          "height": 68
        },
        "outputId": "f009cdba-c83a-465b-ef27-4a6b8a13e0de"
      },
      "source": [
        "from sklearn.metrics import confusion_matrix\n",
        "confusion_matrix = confusion_matrix(y_test, logistic.predict(X_test))\n",
        "cmtx = pd.DataFrame(confusion_matrix, index=['true:no', 'true:yes'], columns=['pred:no', 'pred:yes'])\n",
        "print(cmtx)"
      ],
      "execution_count": null,
      "outputs": [
        {
          "output_type": "stream",
          "text": [
            "          pred:no  pred:yes\n",
            "true:no        41         2\n",
            "true:yes        5        66\n"
          ],
          "name": "stdout"
        }
      ]
    },
    {
      "cell_type": "code",
      "metadata": {
        "id": "uSDKp6I-JzCG",
        "colab_type": "code",
        "colab": {
          "base_uri": "https://localhost:8080/",
          "height": 170
        },
        "outputId": "2b2ed561-5166-48f9-8dcf-dab1aa3c4ee7"
      },
      "source": [
        "print(classification_report(y_test, logistic.predict(X_test)))"
      ],
      "execution_count": null,
      "outputs": [
        {
          "output_type": "stream",
          "text": [
            "              precision    recall  f1-score   support\n",
            "\n",
            "           0       0.89      0.95      0.92        43\n",
            "           1       0.97      0.93      0.95        71\n",
            "\n",
            "    accuracy                           0.94       114\n",
            "   macro avg       0.93      0.94      0.94       114\n",
            "weighted avg       0.94      0.94      0.94       114\n",
            "\n"
          ],
          "name": "stdout"
        }
      ]
    },
    {
      "cell_type": "code",
      "metadata": {
        "id": "rJGYFRhvlsYM",
        "colab_type": "code",
        "colab": {
          "base_uri": "https://localhost:8080/",
          "height": 34
        },
        "outputId": "b5065684-6dc3-499a-adbc-ecd595b1e933"
      },
      "source": [
        "log_loss(y_test,y_test_prob)"
      ],
      "execution_count": null,
      "outputs": [
        {
          "output_type": "execute_result",
          "data": {
            "text/plain": [
              "1.8278698068697519"
            ]
          },
          "metadata": {
            "tags": []
          },
          "execution_count": 52
        }
      ]
    },
    {
      "cell_type": "code",
      "metadata": {
        "id": "3Qi19d-kJ7sN",
        "colab_type": "code",
        "colab": {
          "base_uri": "https://localhost:8080/",
          "height": 979
        },
        "outputId": "044631cc-9859-4d59-cf6a-62dadbb2d822"
      },
      "source": [
        "LogisticCoeff = pd.concat([pd.DataFrame(X.columns),pd.DataFrame(np.transpose(logistic.coef_))], axis = 1)\n",
        "LogisticCoeff.columns=['Variable','Coefficient']\n",
        "LogisticCoeff['Coefficient_Abs']=LogisticCoeff['Coefficient'].apply(abs)\n",
        "LogisticCoeff.sort_values(by='Coefficient_Abs', ascending=False)"
      ],
      "execution_count": null,
      "outputs": [
        {
          "output_type": "execute_result",
          "data": {
            "text/html": [
              "<div>\n",
              "<style scoped>\n",
              "    .dataframe tbody tr th:only-of-type {\n",
              "        vertical-align: middle;\n",
              "    }\n",
              "\n",
              "    .dataframe tbody tr th {\n",
              "        vertical-align: top;\n",
              "    }\n",
              "\n",
              "    .dataframe thead th {\n",
              "        text-align: right;\n",
              "    }\n",
              "</style>\n",
              "<table border=\"1\" class=\"dataframe\">\n",
              "  <thead>\n",
              "    <tr style=\"text-align: right;\">\n",
              "      <th></th>\n",
              "      <th>Variable</th>\n",
              "      <th>Coefficient</th>\n",
              "      <th>Coefficient_Abs</th>\n",
              "    </tr>\n",
              "  </thead>\n",
              "  <tbody>\n",
              "    <tr>\n",
              "      <th>6</th>\n",
              "      <td>mean compactness</td>\n",
              "      <td>655.022921</td>\n",
              "      <td>655.022921</td>\n",
              "    </tr>\n",
              "    <tr>\n",
              "      <th>7</th>\n",
              "      <td>mean concave points</td>\n",
              "      <td>-614.851507</td>\n",
              "      <td>614.851507</td>\n",
              "    </tr>\n",
              "    <tr>\n",
              "      <th>16</th>\n",
              "      <td>radius error</td>\n",
              "      <td>-587.366254</td>\n",
              "      <td>587.366254</td>\n",
              "    </tr>\n",
              "    <tr>\n",
              "      <th>23</th>\n",
              "      <td>worst concavity</td>\n",
              "      <td>-553.175908</td>\n",
              "      <td>553.175908</td>\n",
              "    </tr>\n",
              "    <tr>\n",
              "      <th>3</th>\n",
              "      <td>concavity error</td>\n",
              "      <td>535.170188</td>\n",
              "      <td>535.170188</td>\n",
              "    </tr>\n",
              "    <tr>\n",
              "      <th>0</th>\n",
              "      <td>area error</td>\n",
              "      <td>-387.789294</td>\n",
              "      <td>387.789294</td>\n",
              "    </tr>\n",
              "    <tr>\n",
              "      <th>28</th>\n",
              "      <td>worst symmetry</td>\n",
              "      <td>-386.004515</td>\n",
              "      <td>386.004515</td>\n",
              "    </tr>\n",
              "    <tr>\n",
              "      <th>9</th>\n",
              "      <td>mean fractal dimension</td>\n",
              "      <td>-384.092942</td>\n",
              "      <td>384.092942</td>\n",
              "    </tr>\n",
              "    <tr>\n",
              "      <th>8</th>\n",
              "      <td>mean concavity</td>\n",
              "      <td>-319.132275</td>\n",
              "      <td>319.132275</td>\n",
              "    </tr>\n",
              "    <tr>\n",
              "      <th>15</th>\n",
              "      <td>perimeter error</td>\n",
              "      <td>276.486058</td>\n",
              "      <td>276.486058</td>\n",
              "    </tr>\n",
              "    <tr>\n",
              "      <th>4</th>\n",
              "      <td>fractal dimension error</td>\n",
              "      <td>271.997904</td>\n",
              "      <td>271.997904</td>\n",
              "    </tr>\n",
              "    <tr>\n",
              "      <th>26</th>\n",
              "      <td>worst radius</td>\n",
              "      <td>-246.480721</td>\n",
              "      <td>246.480721</td>\n",
              "    </tr>\n",
              "    <tr>\n",
              "      <th>20</th>\n",
              "      <td>worst area</td>\n",
              "      <td>-239.633265</td>\n",
              "      <td>239.633265</td>\n",
              "    </tr>\n",
              "    <tr>\n",
              "      <th>29</th>\n",
              "      <td>worst texture</td>\n",
              "      <td>-239.521115</td>\n",
              "      <td>239.521115</td>\n",
              "    </tr>\n",
              "    <tr>\n",
              "      <th>1</th>\n",
              "      <td>compactness error</td>\n",
              "      <td>-227.183025</td>\n",
              "      <td>227.183025</td>\n",
              "    </tr>\n",
              "    <tr>\n",
              "      <th>27</th>\n",
              "      <td>worst smoothness</td>\n",
              "      <td>217.783060</td>\n",
              "      <td>217.783060</td>\n",
              "    </tr>\n",
              "    <tr>\n",
              "      <th>18</th>\n",
              "      <td>symmetry error</td>\n",
              "      <td>215.294883</td>\n",
              "      <td>215.294883</td>\n",
              "    </tr>\n",
              "    <tr>\n",
              "      <th>2</th>\n",
              "      <td>concave points error</td>\n",
              "      <td>-173.352905</td>\n",
              "      <td>173.352905</td>\n",
              "    </tr>\n",
              "    <tr>\n",
              "      <th>17</th>\n",
              "      <td>smoothness error</td>\n",
              "      <td>-165.231696</td>\n",
              "      <td>165.231696</td>\n",
              "    </tr>\n",
              "    <tr>\n",
              "      <th>25</th>\n",
              "      <td>worst perimeter</td>\n",
              "      <td>159.346470</td>\n",
              "      <td>159.346470</td>\n",
              "    </tr>\n",
              "    <tr>\n",
              "      <th>24</th>\n",
              "      <td>worst fractal dimension</td>\n",
              "      <td>136.741386</td>\n",
              "      <td>136.741386</td>\n",
              "    </tr>\n",
              "    <tr>\n",
              "      <th>13</th>\n",
              "      <td>mean symmetry</td>\n",
              "      <td>101.413865</td>\n",
              "      <td>101.413865</td>\n",
              "    </tr>\n",
              "    <tr>\n",
              "      <th>21</th>\n",
              "      <td>worst compactness</td>\n",
              "      <td>98.839158</td>\n",
              "      <td>98.839158</td>\n",
              "    </tr>\n",
              "    <tr>\n",
              "      <th>19</th>\n",
              "      <td>texture error</td>\n",
              "      <td>93.191620</td>\n",
              "      <td>93.191620</td>\n",
              "    </tr>\n",
              "    <tr>\n",
              "      <th>10</th>\n",
              "      <td>mean perimeter</td>\n",
              "      <td>87.965073</td>\n",
              "      <td>87.965073</td>\n",
              "    </tr>\n",
              "    <tr>\n",
              "      <th>22</th>\n",
              "      <td>worst concave points</td>\n",
              "      <td>-36.454383</td>\n",
              "      <td>36.454383</td>\n",
              "    </tr>\n",
              "    <tr>\n",
              "      <th>5</th>\n",
              "      <td>mean area</td>\n",
              "      <td>20.005365</td>\n",
              "      <td>20.005365</td>\n",
              "    </tr>\n",
              "    <tr>\n",
              "      <th>11</th>\n",
              "      <td>mean radius</td>\n",
              "      <td>16.248891</td>\n",
              "      <td>16.248891</td>\n",
              "    </tr>\n",
              "    <tr>\n",
              "      <th>14</th>\n",
              "      <td>mean texture</td>\n",
              "      <td>-15.621825</td>\n",
              "      <td>15.621825</td>\n",
              "    </tr>\n",
              "    <tr>\n",
              "      <th>12</th>\n",
              "      <td>mean smoothness</td>\n",
              "      <td>-0.782445</td>\n",
              "      <td>0.782445</td>\n",
              "    </tr>\n",
              "  </tbody>\n",
              "</table>\n",
              "</div>"
            ],
            "text/plain": [
              "                   Variable  Coefficient  Coefficient_Abs\n",
              "6          mean compactness   655.022921       655.022921\n",
              "7       mean concave points  -614.851507       614.851507\n",
              "16             radius error  -587.366254       587.366254\n",
              "23          worst concavity  -553.175908       553.175908\n",
              "3           concavity error   535.170188       535.170188\n",
              "0                area error  -387.789294       387.789294\n",
              "28           worst symmetry  -386.004515       386.004515\n",
              "9    mean fractal dimension  -384.092942       384.092942\n",
              "8            mean concavity  -319.132275       319.132275\n",
              "15          perimeter error   276.486058       276.486058\n",
              "4   fractal dimension error   271.997904       271.997904\n",
              "26             worst radius  -246.480721       246.480721\n",
              "20               worst area  -239.633265       239.633265\n",
              "29            worst texture  -239.521115       239.521115\n",
              "1         compactness error  -227.183025       227.183025\n",
              "27         worst smoothness   217.783060       217.783060\n",
              "18           symmetry error   215.294883       215.294883\n",
              "2      concave points error  -173.352905       173.352905\n",
              "17         smoothness error  -165.231696       165.231696\n",
              "25          worst perimeter   159.346470       159.346470\n",
              "24  worst fractal dimension   136.741386       136.741386\n",
              "13            mean symmetry   101.413865       101.413865\n",
              "21        worst compactness    98.839158        98.839158\n",
              "19            texture error    93.191620        93.191620\n",
              "10           mean perimeter    87.965073        87.965073\n",
              "22     worst concave points   -36.454383        36.454383\n",
              "5                 mean area    20.005365        20.005365\n",
              "11              mean radius    16.248891        16.248891\n",
              "14             mean texture   -15.621825        15.621825\n",
              "12          mean smoothness    -0.782445         0.782445"
            ]
          },
          "metadata": {
            "tags": []
          },
          "execution_count": 53
        }
      ]
    },
    {
      "cell_type": "markdown",
      "metadata": {
        "id": "FcvxDaDPoEZs",
        "colab_type": "text"
      },
      "source": [
        "To learn more about the interpretation of the logistic regression coefficient, check out his article: https://stats.idre.ucla.edu/other/mult-pkg/faq/general/faq-how-do-i-interpret-odds-ratios-in-logistic-regression/"
      ]
    },
    {
      "cell_type": "markdown",
      "metadata": {
        "id": "iPUlIufsLVa8",
        "colab_type": "text"
      },
      "source": [
        "## Ridge"
      ]
    },
    {
      "cell_type": "code",
      "metadata": {
        "id": "OVMFqfP_QHcZ",
        "colab_type": "code",
        "colab": {}
      },
      "source": [
        "ridge = LogisticRegression(penalty='l2', random_state=0).fit(X_train, y_train)\n",
        "# penalty='l2' means Ridge regularization is applied"
      ],
      "execution_count": null,
      "outputs": []
    },
    {
      "cell_type": "code",
      "metadata": {
        "id": "7JgAvtU0PiiS",
        "colab_type": "code",
        "colab": {
          "base_uri": "https://localhost:8080/",
          "height": 265
        },
        "outputId": "84200778-ce76-4c6c-db29-756d3c4dc2a7"
      },
      "source": [
        "#ROC/AUC Curve\n",
        "from sklearn import metrics\n",
        "y_test_prob=ridge.predict_proba(X_test)[:,1]\n",
        "fpr,tpr, _=metrics.roc_curve(y_test,y_test_prob)\n",
        "auc=metrics.roc_auc_score(y_test,y_test_prob)\n",
        "plt.plot(fpr,tpr,label=\"area=\"+str(auc))\n",
        "plt.legend(loc=4)\n",
        "plt.show()"
      ],
      "execution_count": null,
      "outputs": [
        {
          "output_type": "display_data",
          "data": {
            "image/png": "[encoded data removed]",
            "text/plain": [
              "<Figure size 432x288 with 1 Axes>"
            ]
          },
          "metadata": {
            "tags": [],
            "needs_background": "light"
          }
        }
      ]
    },
    {
      "cell_type": "code",
      "metadata": {
        "id": "WzYrwV0_mQ10",
        "colab_type": "code",
        "colab": {
          "base_uri": "https://localhost:8080/",
          "height": 34
        },
        "outputId": "3aa94270-933d-42a9-a1f6-3db48f4c245d"
      },
      "source": [
        "log_loss(y_test,y_test_prob)"
      ],
      "execution_count": null,
      "outputs": [
        {
          "output_type": "execute_result",
          "data": {
            "text/plain": [
              "0.06011307379700578"
            ]
          },
          "metadata": {
            "tags": []
          },
          "execution_count": 65
        }
      ]
    },
    {
      "cell_type": "code",
      "metadata": {
        "id": "4XQuH1ZcRwWi",
        "colab_type": "code",
        "colab": {
          "base_uri": "https://localhost:8080/",
          "height": 68
        },
        "outputId": "e692053b-bed1-411e-e52f-231e75266f06"
      },
      "source": [
        "from sklearn.metrics import confusion_matrix\n",
        "confusion_matrix = confusion_matrix(y_test, ridge.predict(X_test))\n",
        "cmtx = pd.DataFrame(confusion_matrix, index=['true:no', 'true:yes'], columns=['pred:no', 'pred:yes'])\n",
        "print(cmtx)"
      ],
      "execution_count": null,
      "outputs": [
        {
          "output_type": "stream",
          "text": [
            "          pred:no  pred:yes\n",
            "true:no        41         2\n",
            "true:yes        1        70\n"
          ],
          "name": "stdout"
        }
      ]
    },
    {
      "cell_type": "code",
      "metadata": {
        "id": "QRM5xqbOQYh9",
        "colab_type": "code",
        "colab": {
          "base_uri": "https://localhost:8080/",
          "height": 170
        },
        "outputId": "98b99953-69b0-459d-8f62-15f1c5448bf6"
      },
      "source": [
        "print(classification_report(y_test, ridge.predict(X_test)))"
      ],
      "execution_count": null,
      "outputs": [
        {
          "output_type": "stream",
          "text": [
            "              precision    recall  f1-score   support\n",
            "\n",
            "           0       0.98      0.95      0.96        43\n",
            "           1       0.97      0.99      0.98        71\n",
            "\n",
            "    accuracy                           0.97       114\n",
            "   macro avg       0.97      0.97      0.97       114\n",
            "weighted avg       0.97      0.97      0.97       114\n",
            "\n"
          ],
          "name": "stdout"
        }
      ]
    },
    {
      "cell_type": "code",
      "metadata": {
        "id": "6sDThbw4QazU",
        "colab_type": "code",
        "colab": {
          "base_uri": "https://localhost:8080/",
          "height": 979
        },
        "outputId": "a964fedd-eaeb-4722-a842-078386d4a296"
      },
      "source": [
        "ridgeCoeff = pd.concat([pd.DataFrame(X.columns),pd.DataFrame(np.transpose(ridge.coef_))], axis = 1)\n",
        "ridgeCoeff.columns=['Variable','Coefficient']\n",
        "ridgeCoeff['Coefficient_Abs']=ridgeCoeff['Coefficient'].apply(abs)\n",
        "ridgeCoeff.sort_values(by='Coefficient_Abs', ascending=False)"
      ],
      "execution_count": null,
      "outputs": [
        {
          "output_type": "execute_result",
          "data": {
            "text/html": [
              "<div>\n",
              "<style scoped>\n",
              "    .dataframe tbody tr th:only-of-type {\n",
              "        vertical-align: middle;\n",
              "    }\n",
              "\n",
              "    .dataframe tbody tr th {\n",
              "        vertical-align: top;\n",
              "    }\n",
              "\n",
              "    .dataframe thead th {\n",
              "        text-align: right;\n",
              "    }\n",
              "</style>\n",
              "<table border=\"1\" class=\"dataframe\">\n",
              "  <thead>\n",
              "    <tr style=\"text-align: right;\">\n",
              "      <th></th>\n",
              "      <th>Variable</th>\n",
              "      <th>Coefficient</th>\n",
              "      <th>Coefficient_Abs</th>\n",
              "    </tr>\n",
              "  </thead>\n",
              "  <tbody>\n",
              "    <tr>\n",
              "      <th>29</th>\n",
              "      <td>worst texture</td>\n",
              "      <td>-1.353079</td>\n",
              "      <td>1.353079</td>\n",
              "    </tr>\n",
              "    <tr>\n",
              "      <th>16</th>\n",
              "      <td>radius error</td>\n",
              "      <td>-1.253200</td>\n",
              "      <td>1.253200</td>\n",
              "    </tr>\n",
              "    <tr>\n",
              "      <th>28</th>\n",
              "      <td>worst symmetry</td>\n",
              "      <td>-1.198184</td>\n",
              "      <td>1.198184</td>\n",
              "    </tr>\n",
              "    <tr>\n",
              "      <th>7</th>\n",
              "      <td>mean concave points</td>\n",
              "      <td>-1.106465</td>\n",
              "      <td>1.106465</td>\n",
              "    </tr>\n",
              "    <tr>\n",
              "      <th>23</th>\n",
              "      <td>worst concavity</td>\n",
              "      <td>-0.952964</td>\n",
              "      <td>0.952964</td>\n",
              "    </tr>\n",
              "    <tr>\n",
              "      <th>0</th>\n",
              "      <td>area error</td>\n",
              "      <td>-0.921905</td>\n",
              "      <td>0.921905</td>\n",
              "    </tr>\n",
              "    <tr>\n",
              "      <th>26</th>\n",
              "      <td>worst radius</td>\n",
              "      <td>-0.873394</td>\n",
              "      <td>0.873394</td>\n",
              "    </tr>\n",
              "    <tr>\n",
              "      <th>20</th>\n",
              "      <td>worst area</td>\n",
              "      <td>-0.842182</td>\n",
              "      <td>0.842182</td>\n",
              "    </tr>\n",
              "    <tr>\n",
              "      <th>8</th>\n",
              "      <td>mean concavity</td>\n",
              "      <td>-0.803748</td>\n",
              "      <td>0.803748</td>\n",
              "    </tr>\n",
              "    <tr>\n",
              "      <th>22</th>\n",
              "      <td>worst concave points</td>\n",
              "      <td>-0.778874</td>\n",
              "      <td>0.778874</td>\n",
              "    </tr>\n",
              "    <tr>\n",
              "      <th>1</th>\n",
              "      <td>compactness error</td>\n",
              "      <td>0.674647</td>\n",
              "      <td>0.674647</td>\n",
              "    </tr>\n",
              "    <tr>\n",
              "      <th>4</th>\n",
              "      <td>fractal dimension error</td>\n",
              "      <td>0.606806</td>\n",
              "      <td>0.606806</td>\n",
              "    </tr>\n",
              "    <tr>\n",
              "      <th>15</th>\n",
              "      <td>perimeter error</td>\n",
              "      <td>-0.588974</td>\n",
              "      <td>0.588974</td>\n",
              "    </tr>\n",
              "    <tr>\n",
              "      <th>25</th>\n",
              "      <td>worst perimeter</td>\n",
              "      <td>-0.584767</td>\n",
              "      <td>0.584767</td>\n",
              "    </tr>\n",
              "    <tr>\n",
              "      <th>27</th>\n",
              "      <td>worst smoothness</td>\n",
              "      <td>-0.545362</td>\n",
              "      <td>0.545362</td>\n",
              "    </tr>\n",
              "    <tr>\n",
              "      <th>6</th>\n",
              "      <td>mean compactness</td>\n",
              "      <td>0.528588</td>\n",
              "      <td>0.528588</td>\n",
              "    </tr>\n",
              "    <tr>\n",
              "      <th>18</th>\n",
              "      <td>symmetry error</td>\n",
              "      <td>0.506195</td>\n",
              "      <td>0.506195</td>\n",
              "    </tr>\n",
              "    <tr>\n",
              "      <th>5</th>\n",
              "      <td>mean area</td>\n",
              "      <td>-0.469560</td>\n",
              "      <td>0.469560</td>\n",
              "    </tr>\n",
              "    <tr>\n",
              "      <th>11</th>\n",
              "      <td>mean radius</td>\n",
              "      <td>-0.431792</td>\n",
              "      <td>0.431792</td>\n",
              "    </tr>\n",
              "    <tr>\n",
              "      <th>14</th>\n",
              "      <td>mean texture</td>\n",
              "      <td>-0.400811</td>\n",
              "      <td>0.400811</td>\n",
              "    </tr>\n",
              "    <tr>\n",
              "      <th>10</th>\n",
              "      <td>mean perimeter</td>\n",
              "      <td>-0.393301</td>\n",
              "      <td>0.393301</td>\n",
              "    </tr>\n",
              "    <tr>\n",
              "      <th>2</th>\n",
              "      <td>concave points error</td>\n",
              "      <td>-0.323450</td>\n",
              "      <td>0.323450</td>\n",
              "    </tr>\n",
              "    <tr>\n",
              "      <th>17</th>\n",
              "      <td>smoothness error</td>\n",
              "      <td>-0.316107</td>\n",
              "      <td>0.316107</td>\n",
              "    </tr>\n",
              "    <tr>\n",
              "      <th>13</th>\n",
              "      <td>mean symmetry</td>\n",
              "      <td>0.244825</td>\n",
              "      <td>0.244825</td>\n",
              "    </tr>\n",
              "    <tr>\n",
              "      <th>19</th>\n",
              "      <td>texture error</td>\n",
              "      <td>0.186508</td>\n",
              "      <td>0.186508</td>\n",
              "    </tr>\n",
              "    <tr>\n",
              "      <th>3</th>\n",
              "      <td>concavity error</td>\n",
              "      <td>0.174673</td>\n",
              "      <td>0.174673</td>\n",
              "    </tr>\n",
              "    <tr>\n",
              "      <th>24</th>\n",
              "      <td>worst fractal dimension</td>\n",
              "      <td>-0.163800</td>\n",
              "      <td>0.163800</td>\n",
              "    </tr>\n",
              "    <tr>\n",
              "      <th>9</th>\n",
              "      <td>mean fractal dimension</td>\n",
              "      <td>0.075981</td>\n",
              "      <td>0.075981</td>\n",
              "    </tr>\n",
              "    <tr>\n",
              "      <th>12</th>\n",
              "      <td>mean smoothness</td>\n",
              "      <td>-0.063371</td>\n",
              "      <td>0.063371</td>\n",
              "    </tr>\n",
              "    <tr>\n",
              "      <th>21</th>\n",
              "      <td>worst compactness</td>\n",
              "      <td>-0.002276</td>\n",
              "      <td>0.002276</td>\n",
              "    </tr>\n",
              "  </tbody>\n",
              "</table>\n",
              "</div>"
            ],
            "text/plain": [
              "                   Variable  Coefficient  Coefficient_Abs\n",
              "29            worst texture    -1.353079         1.353079\n",
              "16             radius error    -1.253200         1.253200\n",
              "28           worst symmetry    -1.198184         1.198184\n",
              "7       mean concave points    -1.106465         1.106465\n",
              "23          worst concavity    -0.952964         0.952964\n",
              "0                area error    -0.921905         0.921905\n",
              "26             worst radius    -0.873394         0.873394\n",
              "20               worst area    -0.842182         0.842182\n",
              "8            mean concavity    -0.803748         0.803748\n",
              "22     worst concave points    -0.778874         0.778874\n",
              "1         compactness error     0.674647         0.674647\n",
              "4   fractal dimension error     0.606806         0.606806\n",
              "15          perimeter error    -0.588974         0.588974\n",
              "25          worst perimeter    -0.584767         0.584767\n",
              "27         worst smoothness    -0.545362         0.545362\n",
              "6          mean compactness     0.528588         0.528588\n",
              "18           symmetry error     0.506195         0.506195\n",
              "5                 mean area    -0.469560         0.469560\n",
              "11              mean radius    -0.431792         0.431792\n",
              "14             mean texture    -0.400811         0.400811\n",
              "10           mean perimeter    -0.393301         0.393301\n",
              "2      concave points error    -0.323450         0.323450\n",
              "17         smoothness error    -0.316107         0.316107\n",
              "13            mean symmetry     0.244825         0.244825\n",
              "19            texture error     0.186508         0.186508\n",
              "3           concavity error     0.174673         0.174673\n",
              "24  worst fractal dimension    -0.163800         0.163800\n",
              "9    mean fractal dimension     0.075981         0.075981\n",
              "12          mean smoothness    -0.063371         0.063371\n",
              "21        worst compactness    -0.002276         0.002276"
            ]
          },
          "metadata": {
            "tags": []
          },
          "execution_count": 40
        }
      ]
    },
    {
      "cell_type": "markdown",
      "metadata": {
        "id": "d5SrFl5hSBmw",
        "colab_type": "text"
      },
      "source": [
        "## LASSO"
      ]
    },
    {
      "cell_type": "code",
      "metadata": {
        "id": "9WWlNcatRlhQ",
        "colab_type": "code",
        "colab": {}
      },
      "source": [
        "lasso = LogisticRegression(penalty='l1', solver='liblinear', random_state=0).fit(X_train, y_train)\n",
        "# penalty='l1' means LASSO regularization is applied\n",
        "# solver is an algorithm to use in the optimization problem.\n",
        "# For small datasets, ‘liblinear’ is a good choice, whereas ‘sag’ and ‘saga’ are faster for large ones.\n",
        "# For multiclass problems, only ‘newton-cg’, ‘sag’, ‘saga’ and ‘lbfgs’ handle multinomial loss; ‘liblinear’ is limited to one-versus-rest schemes.\n",
        "# ‘newton-cg’, ‘lbfgs’, ‘sag’ and ‘saga’ handle L2 or no penalty\n",
        "# ‘liblinear’ and ‘saga’ also handle L1 penalty\n",
        "# ‘saga’ also supports ‘elasticnet’ penalty\n",
        "# ‘liblinear’ does not support setting penalty='none'"
      ],
      "execution_count": null,
      "outputs": []
    },
    {
      "cell_type": "code",
      "metadata": {
        "id": "ESOyT4iMVKmB",
        "colab_type": "code",
        "colab": {
          "base_uri": "https://localhost:8080/",
          "height": 265
        },
        "outputId": "19560840-3204-42cf-b4bd-75edf085168c"
      },
      "source": [
        "#ROC/AUC Curve\n",
        "from sklearn import metrics\n",
        "y_test_prob=lasso.predict_proba(X_test)[:,1]\n",
        "fpr,tpr, _=metrics.roc_curve(y_test,y_test_prob)\n",
        "auc=metrics.roc_auc_score(y_test,y_test_prob)\n",
        "plt.plot(fpr,tpr,label=\"area=\"+str(auc))\n",
        "plt.legend(loc=4)\n",
        "plt.show()"
      ],
      "execution_count": null,
      "outputs": [
        {
          "output_type": "display_data",
          "data": {
            "image/png": "[encoded data removed]",
            "text/plain": [
              "<Figure size 432x288 with 1 Axes>"
            ]
          },
          "metadata": {
            "tags": [],
            "needs_background": "light"
          }
        }
      ]
    },
    {
      "cell_type": "code",
      "metadata": {
        "id": "fgMFA5TmmWz7",
        "colab_type": "code",
        "colab": {
          "base_uri": "https://localhost:8080/",
          "height": 34
        },
        "outputId": "b72e00b1-ceb1-4abe-ed41-6a77adaca9ec"
      },
      "source": [
        "log_loss(y_test,y_test_prob)"
      ],
      "execution_count": null,
      "outputs": [
        {
          "output_type": "execute_result",
          "data": {
            "text/plain": [
              "0.0688232967968902"
            ]
          },
          "metadata": {
            "tags": []
          },
          "execution_count": 16
        }
      ]
    },
    {
      "cell_type": "code",
      "metadata": {
        "id": "c7XNtxd3VRmf",
        "colab_type": "code",
        "colab": {
          "base_uri": "https://localhost:8080/",
          "height": 68
        },
        "outputId": "6dd08aba-5cfa-4f1c-ebfb-bd38635b99fd"
      },
      "source": [
        "from sklearn.metrics import confusion_matrix\n",
        "confusion_matrix = confusion_matrix(y_test, lasso.predict(X_test))\n",
        "cmtx = pd.DataFrame(confusion_matrix, index=['true:no', 'true:yes'], columns=['pred:no', 'pred:yes'])\n",
        "print(cmtx)"
      ],
      "execution_count": null,
      "outputs": [
        {
          "output_type": "stream",
          "text": [
            "          pred:no  pred:yes\n",
            "true:no        42         1\n",
            "true:yes        2        69\n"
          ],
          "name": "stdout"
        }
      ]
    },
    {
      "cell_type": "code",
      "metadata": {
        "id": "BUoW1s9uqwUi",
        "colab_type": "code",
        "colab": {}
      },
      "source": [
        "from sklearn.metrics import confusion_matrix\n",
        "confusion_matrix = confusion_matrix(y_test, ridge.predict(X_test))\n",
        "cmtx = pd.DataFrame(confusion_matrix, index=['true:no', 'true:yes'], columns=['pred:no', 'pred:yes'])\n",
        "print(cmtx)"
      ],
      "execution_count": null,
      "outputs": []
    },
    {
      "cell_type": "code",
      "metadata": {
        "id": "Xxq8qaRWV62m",
        "colab_type": "code",
        "colab": {
          "base_uri": "https://localhost:8080/",
          "height": 170
        },
        "outputId": "78c80a48-4905-49fc-868c-bdf161776641"
      },
      "source": [
        "print(classification_report(y_test, lasso.predict(X_test)))"
      ],
      "execution_count": null,
      "outputs": [
        {
          "output_type": "stream",
          "text": [
            "              precision    recall  f1-score   support\n",
            "\n",
            "           0       0.95      0.98      0.97        43\n",
            "           1       0.99      0.97      0.98        71\n",
            "\n",
            "    accuracy                           0.97       114\n",
            "   macro avg       0.97      0.97      0.97       114\n",
            "weighted avg       0.97      0.97      0.97       114\n",
            "\n"
          ],
          "name": "stdout"
        }
      ]
    },
    {
      "cell_type": "code",
      "metadata": {
        "id": "ACOZuVAkWFZK",
        "colab_type": "code",
        "colab": {
          "base_uri": "https://localhost:8080/",
          "height": 979
        },
        "outputId": "b039cbe9-1ec7-4e5e-fbd1-744c57c15662"
      },
      "source": [
        "lassoCoeff = pd.concat([pd.DataFrame(X.columns),pd.DataFrame(np.transpose(lasso.coef_))], axis = 1)\n",
        "lassoCoeff.columns=['Variable','Coefficient']\n",
        "lassoCoeff['Coefficient_Abs']=lassoCoeff['Coefficient'].apply(abs)\n",
        "lassoCoeff.sort_values(by='Coefficient_Abs', ascending=False)"
      ],
      "execution_count": null,
      "outputs": [
        {
          "output_type": "execute_result",
          "data": {
            "text/html": [
              "<div>\n",
              "<style scoped>\n",
              "    .dataframe tbody tr th:only-of-type {\n",
              "        vertical-align: middle;\n",
              "    }\n",
              "\n",
              "    .dataframe tbody tr th {\n",
              "        vertical-align: top;\n",
              "    }\n",
              "\n",
              "    .dataframe thead th {\n",
              "        text-align: right;\n",
              "    }\n",
              "</style>\n",
              "<table border=\"1\" class=\"dataframe\">\n",
              "  <thead>\n",
              "    <tr style=\"text-align: right;\">\n",
              "      <th></th>\n",
              "      <th>Variable</th>\n",
              "      <th>Coefficient</th>\n",
              "      <th>Coefficient_Abs</th>\n",
              "    </tr>\n",
              "  </thead>\n",
              "  <tbody>\n",
              "    <tr>\n",
              "      <th>16</th>\n",
              "      <td>radius error</td>\n",
              "      <td>-2.434460</td>\n",
              "      <td>2.434460</td>\n",
              "    </tr>\n",
              "    <tr>\n",
              "      <th>7</th>\n",
              "      <td>mean concave points</td>\n",
              "      <td>-2.383121</td>\n",
              "      <td>2.383121</td>\n",
              "    </tr>\n",
              "    <tr>\n",
              "      <th>20</th>\n",
              "      <td>worst area</td>\n",
              "      <td>-2.254291</td>\n",
              "      <td>2.254291</td>\n",
              "    </tr>\n",
              "    <tr>\n",
              "      <th>29</th>\n",
              "      <td>worst texture</td>\n",
              "      <td>-1.866220</td>\n",
              "      <td>1.866220</td>\n",
              "    </tr>\n",
              "    <tr>\n",
              "      <th>26</th>\n",
              "      <td>worst radius</td>\n",
              "      <td>-1.485869</td>\n",
              "      <td>1.485869</td>\n",
              "    </tr>\n",
              "    <tr>\n",
              "      <th>23</th>\n",
              "      <td>worst concavity</td>\n",
              "      <td>-1.299211</td>\n",
              "      <td>1.299211</td>\n",
              "    </tr>\n",
              "    <tr>\n",
              "      <th>28</th>\n",
              "      <td>worst symmetry</td>\n",
              "      <td>-1.019279</td>\n",
              "      <td>1.019279</td>\n",
              "    </tr>\n",
              "    <tr>\n",
              "      <th>1</th>\n",
              "      <td>compactness error</td>\n",
              "      <td>0.836973</td>\n",
              "      <td>0.836973</td>\n",
              "    </tr>\n",
              "    <tr>\n",
              "      <th>18</th>\n",
              "      <td>symmetry error</td>\n",
              "      <td>0.463489</td>\n",
              "      <td>0.463489</td>\n",
              "    </tr>\n",
              "    <tr>\n",
              "      <th>17</th>\n",
              "      <td>smoothness error</td>\n",
              "      <td>-0.439798</td>\n",
              "      <td>0.439798</td>\n",
              "    </tr>\n",
              "    <tr>\n",
              "      <th>19</th>\n",
              "      <td>texture error</td>\n",
              "      <td>0.360976</td>\n",
              "      <td>0.360976</td>\n",
              "    </tr>\n",
              "    <tr>\n",
              "      <th>4</th>\n",
              "      <td>fractal dimension error</td>\n",
              "      <td>0.304222</td>\n",
              "      <td>0.304222</td>\n",
              "    </tr>\n",
              "    <tr>\n",
              "      <th>27</th>\n",
              "      <td>worst smoothness</td>\n",
              "      <td>-0.151418</td>\n",
              "      <td>0.151418</td>\n",
              "    </tr>\n",
              "    <tr>\n",
              "      <th>22</th>\n",
              "      <td>worst concave points</td>\n",
              "      <td>-0.098865</td>\n",
              "      <td>0.098865</td>\n",
              "    </tr>\n",
              "    <tr>\n",
              "      <th>13</th>\n",
              "      <td>mean symmetry</td>\n",
              "      <td>0.044423</td>\n",
              "      <td>0.044423</td>\n",
              "    </tr>\n",
              "    <tr>\n",
              "      <th>25</th>\n",
              "      <td>worst perimeter</td>\n",
              "      <td>0.000000</td>\n",
              "      <td>0.000000</td>\n",
              "    </tr>\n",
              "    <tr>\n",
              "      <th>24</th>\n",
              "      <td>worst fractal dimension</td>\n",
              "      <td>0.000000</td>\n",
              "      <td>0.000000</td>\n",
              "    </tr>\n",
              "    <tr>\n",
              "      <th>21</th>\n",
              "      <td>worst compactness</td>\n",
              "      <td>0.000000</td>\n",
              "      <td>0.000000</td>\n",
              "    </tr>\n",
              "    <tr>\n",
              "      <th>0</th>\n",
              "      <td>area error</td>\n",
              "      <td>0.000000</td>\n",
              "      <td>0.000000</td>\n",
              "    </tr>\n",
              "    <tr>\n",
              "      <th>14</th>\n",
              "      <td>mean texture</td>\n",
              "      <td>0.000000</td>\n",
              "      <td>0.000000</td>\n",
              "    </tr>\n",
              "    <tr>\n",
              "      <th>12</th>\n",
              "      <td>mean smoothness</td>\n",
              "      <td>0.000000</td>\n",
              "      <td>0.000000</td>\n",
              "    </tr>\n",
              "    <tr>\n",
              "      <th>11</th>\n",
              "      <td>mean radius</td>\n",
              "      <td>0.000000</td>\n",
              "      <td>0.000000</td>\n",
              "    </tr>\n",
              "    <tr>\n",
              "      <th>10</th>\n",
              "      <td>mean perimeter</td>\n",
              "      <td>0.000000</td>\n",
              "      <td>0.000000</td>\n",
              "    </tr>\n",
              "    <tr>\n",
              "      <th>9</th>\n",
              "      <td>mean fractal dimension</td>\n",
              "      <td>0.000000</td>\n",
              "      <td>0.000000</td>\n",
              "    </tr>\n",
              "    <tr>\n",
              "      <th>8</th>\n",
              "      <td>mean concavity</td>\n",
              "      <td>0.000000</td>\n",
              "      <td>0.000000</td>\n",
              "    </tr>\n",
              "    <tr>\n",
              "      <th>6</th>\n",
              "      <td>mean compactness</td>\n",
              "      <td>0.000000</td>\n",
              "      <td>0.000000</td>\n",
              "    </tr>\n",
              "    <tr>\n",
              "      <th>5</th>\n",
              "      <td>mean area</td>\n",
              "      <td>0.000000</td>\n",
              "      <td>0.000000</td>\n",
              "    </tr>\n",
              "    <tr>\n",
              "      <th>3</th>\n",
              "      <td>concavity error</td>\n",
              "      <td>0.000000</td>\n",
              "      <td>0.000000</td>\n",
              "    </tr>\n",
              "    <tr>\n",
              "      <th>2</th>\n",
              "      <td>concave points error</td>\n",
              "      <td>0.000000</td>\n",
              "      <td>0.000000</td>\n",
              "    </tr>\n",
              "    <tr>\n",
              "      <th>15</th>\n",
              "      <td>perimeter error</td>\n",
              "      <td>0.000000</td>\n",
              "      <td>0.000000</td>\n",
              "    </tr>\n",
              "  </tbody>\n",
              "</table>\n",
              "</div>"
            ],
            "text/plain": [
              "                   Variable  Coefficient  Coefficient_Abs\n",
              "16             radius error    -2.434460         2.434460\n",
              "7       mean concave points    -2.383121         2.383121\n",
              "20               worst area    -2.254291         2.254291\n",
              "29            worst texture    -1.866220         1.866220\n",
              "26             worst radius    -1.485869         1.485869\n",
              "23          worst concavity    -1.299211         1.299211\n",
              "28           worst symmetry    -1.019279         1.019279\n",
              "1         compactness error     0.836973         0.836973\n",
              "18           symmetry error     0.463489         0.463489\n",
              "17         smoothness error    -0.439798         0.439798\n",
              "19            texture error     0.360976         0.360976\n",
              "4   fractal dimension error     0.304222         0.304222\n",
              "27         worst smoothness    -0.151418         0.151418\n",
              "22     worst concave points    -0.098865         0.098865\n",
              "13            mean symmetry     0.044423         0.044423\n",
              "25          worst perimeter     0.000000         0.000000\n",
              "24  worst fractal dimension     0.000000         0.000000\n",
              "21        worst compactness     0.000000         0.000000\n",
              "0                area error     0.000000         0.000000\n",
              "14             mean texture     0.000000         0.000000\n",
              "12          mean smoothness     0.000000         0.000000\n",
              "11              mean radius     0.000000         0.000000\n",
              "10           mean perimeter     0.000000         0.000000\n",
              "9    mean fractal dimension     0.000000         0.000000\n",
              "8            mean concavity     0.000000         0.000000\n",
              "6          mean compactness     0.000000         0.000000\n",
              "5                 mean area     0.000000         0.000000\n",
              "3           concavity error     0.000000         0.000000\n",
              "2      concave points error     0.000000         0.000000\n",
              "15          perimeter error     0.000000         0.000000"
            ]
          },
          "metadata": {
            "tags": []
          },
          "execution_count": 48
        }
      ]
    },
    {
      "cell_type": "markdown",
      "metadata": {
        "id": "Z1b-AW5sW6B9",
        "colab_type": "text"
      },
      "source": [
        "## Elastic Net"
      ]
    },
    {
      "cell_type": "code",
      "metadata": {
        "id": "RDL9JxzzYoRx",
        "colab_type": "code",
        "colab": {
          "base_uri": "https://localhost:8080/",
          "height": 51
        },
        "outputId": "46b4802e-1203-4a39-89c1-b425296805d9"
      },
      "source": [
        "elasticNet = LogisticRegression(penalty='elasticnet', solver='saga', l1_ratio=0.5, random_state=0).fit(X_train, y_train)\n",
        "# solver is an algorithm to use in the optimization problem.\n",
        "# For small datasets, ‘liblinear’ is a good choice, whereas ‘sag’ and ‘saga’ are faster for large ones.\n",
        "# For multiclass problems, only ‘newton-cg’, ‘sag’, ‘saga’ and ‘lbfgs’ handle multinomial loss; ‘liblinear’ is limited to one-versus-rest schemes.\n",
        "# ‘newton-cg’, ‘lbfgs’, ‘sag’ and ‘saga’ handle L2 or no penalty\n",
        "# ‘liblinear’ and ‘saga’ also handle L1 penalty\n",
        "# ‘saga’ also supports ‘elasticnet’ penalty\n",
        "# ‘liblinear’ does not support setting penalty='none'\n",
        "\n",
        "# l1_ratio: The Elastic-Net mixing parameter, with 0 <= l1_ratio <= 1. Only used if penalty='elasticnet'`. Setting ``l1_ratio=0 is equivalent to \n",
        "# using penalty='l2', while setting l1_ratio=1 is equivalent to using penalty='l1'. For 0 < l1_ratio <1, the penalty is a combination of L1 and L2."
      ],
      "execution_count": null,
      "outputs": [
        {
          "output_type": "stream",
          "text": [
            "/usr/local/lib/python3.6/dist-packages/sklearn/linear_model/_sag.py:330: ConvergenceWarning: The max_iter was reached which means the coef_ did not converge\n",
            "  \"the coef_ did not converge\", ConvergenceWarning)\n"
          ],
          "name": "stderr"
        }
      ]
    },
    {
      "cell_type": "code",
      "metadata": {
        "id": "lPVEy5LZb8TT",
        "colab_type": "code",
        "colab": {
          "base_uri": "https://localhost:8080/",
          "height": 265
        },
        "outputId": "3f343a37-2b11-4d1f-e0be-92b85da86d6e"
      },
      "source": [
        "#ROC/AUC Curve\n",
        "from sklearn import metrics\n",
        "y_test_prob=elasticNet.predict_proba(X_test)[:,1]\n",
        "fpr,tpr, _=metrics.roc_curve(y_test,y_test_prob)\n",
        "auc=metrics.roc_auc_score(y_test,y_test_prob)\n",
        "plt.plot(fpr,tpr,label=\"area=\"+str(auc))\n",
        "plt.legend(loc=4)\n",
        "plt.show()"
      ],
      "execution_count": null,
      "outputs": [
        {
          "output_type": "display_data",
          "data": {
            "image/png": "[encoded data removed]",
            "text/plain": [
              "<Figure size 432x288 with 1 Axes>"
            ]
          },
          "metadata": {
            "tags": []
          }
        }
      ]
    },
    {
      "cell_type": "code",
      "metadata": {
        "id": "u9b6qEY7mbmG",
        "colab_type": "code",
        "colab": {
          "base_uri": "https://localhost:8080/",
          "height": 34
        },
        "outputId": "7f98bfeb-15e8-4c57-a480-09f49594b8a5"
      },
      "source": [
        "log_loss(y_test,y_test_prob)"
      ],
      "execution_count": null,
      "outputs": [
        {
          "output_type": "execute_result",
          "data": {
            "text/plain": [
              "0.059659363767287636"
            ]
          },
          "metadata": {
            "tags": []
          },
          "execution_count": 69
        }
      ]
    },
    {
      "cell_type": "code",
      "metadata": {
        "id": "maHdQtctdCFc",
        "colab_type": "code",
        "colab": {
          "base_uri": "https://localhost:8080/",
          "height": 68
        },
        "outputId": "5c1871d5-2a64-4c16-d020-6e85729802c8"
      },
      "source": [
        "from sklearn.metrics import confusion_matrix\n",
        "confusion_matrix = confusion_matrix(y_test, elasticNet.predict(X_test))\n",
        "cmtx = pd.DataFrame(confusion_matrix, index=['true:no', 'true:yes'], columns=['pred:no', 'pred:yes'])\n",
        "print(cmtx)"
      ],
      "execution_count": null,
      "outputs": [
        {
          "output_type": "stream",
          "text": [
            "          pred:no  pred:yes\n",
            "true:no        42         1\n",
            "true:yes        1        70\n"
          ],
          "name": "stdout"
        }
      ]
    },
    {
      "cell_type": "code",
      "metadata": {
        "id": "z16JbHEAdVOQ",
        "colab_type": "code",
        "colab": {
          "base_uri": "https://localhost:8080/",
          "height": 170
        },
        "outputId": "50fbd82b-9022-4e69-837c-24c9caef82e0"
      },
      "source": [
        "print(classification_report(y_test, elasticNet.predict(X_test)))"
      ],
      "execution_count": null,
      "outputs": [
        {
          "output_type": "stream",
          "text": [
            "              precision    recall  f1-score   support\n",
            "\n",
            "           0       0.98      0.98      0.98        43\n",
            "           1       0.99      0.99      0.99        71\n",
            "\n",
            "    accuracy                           0.98       114\n",
            "   macro avg       0.98      0.98      0.98       114\n",
            "weighted avg       0.98      0.98      0.98       114\n",
            "\n"
          ],
          "name": "stdout"
        }
      ]
    },
    {
      "cell_type": "code",
      "metadata": {
        "id": "XB73-rP6gVQf",
        "colab_type": "code",
        "colab": {
          "base_uri": "https://localhost:8080/",
          "height": 979
        },
        "outputId": "61cb6627-b272-4180-cf70-9a968cc537c0"
      },
      "source": [
        "elasticNetCoeff = pd.concat([pd.DataFrame(X.columns),pd.DataFrame(np.transpose(elasticNet.coef_))], axis = 1)\n",
        "elasticNetCoeff.columns=['Variable','Coefficient']\n",
        "elasticNetCoeff['Coefficient_Abs']=elasticNetCoeff['Coefficient'].apply(abs)\n",
        "elasticNetCoeff.sort_values(by='Coefficient_Abs', ascending=False)"
      ],
      "execution_count": null,
      "outputs": [
        {
          "output_type": "execute_result",
          "data": {
            "text/html": [
              "<div>\n",
              "<style scoped>\n",
              "    .dataframe tbody tr th:only-of-type {\n",
              "        vertical-align: middle;\n",
              "    }\n",
              "\n",
              "    .dataframe tbody tr th {\n",
              "        vertical-align: top;\n",
              "    }\n",
              "\n",
              "    .dataframe thead th {\n",
              "        text-align: right;\n",
              "    }\n",
              "</style>\n",
              "<table border=\"1\" class=\"dataframe\">\n",
              "  <thead>\n",
              "    <tr style=\"text-align: right;\">\n",
              "      <th></th>\n",
              "      <th>Variable</th>\n",
              "      <th>Coefficient</th>\n",
              "      <th>Coefficient_Abs</th>\n",
              "    </tr>\n",
              "  </thead>\n",
              "  <tbody>\n",
              "    <tr>\n",
              "      <th>29</th>\n",
              "      <td>worst texture</td>\n",
              "      <td>-1.102539</td>\n",
              "      <td>1.102539</td>\n",
              "    </tr>\n",
              "    <tr>\n",
              "      <th>16</th>\n",
              "      <td>radius error</td>\n",
              "      <td>-1.020939</td>\n",
              "      <td>1.020939</td>\n",
              "    </tr>\n",
              "    <tr>\n",
              "      <th>28</th>\n",
              "      <td>worst symmetry</td>\n",
              "      <td>-0.937847</td>\n",
              "      <td>0.937847</td>\n",
              "    </tr>\n",
              "    <tr>\n",
              "      <th>7</th>\n",
              "      <td>mean concave points</td>\n",
              "      <td>-0.840223</td>\n",
              "      <td>0.840223</td>\n",
              "    </tr>\n",
              "    <tr>\n",
              "      <th>26</th>\n",
              "      <td>worst radius</td>\n",
              "      <td>-0.832168</td>\n",
              "      <td>0.832168</td>\n",
              "    </tr>\n",
              "    <tr>\n",
              "      <th>22</th>\n",
              "      <td>worst concave points</td>\n",
              "      <td>-0.805606</td>\n",
              "      <td>0.805606</td>\n",
              "    </tr>\n",
              "    <tr>\n",
              "      <th>23</th>\n",
              "      <td>worst concavity</td>\n",
              "      <td>-0.789594</td>\n",
              "      <td>0.789594</td>\n",
              "    </tr>\n",
              "    <tr>\n",
              "      <th>20</th>\n",
              "      <td>worst area</td>\n",
              "      <td>-0.777016</td>\n",
              "      <td>0.777016</td>\n",
              "    </tr>\n",
              "    <tr>\n",
              "      <th>0</th>\n",
              "      <td>area error</td>\n",
              "      <td>-0.719655</td>\n",
              "      <td>0.719655</td>\n",
              "    </tr>\n",
              "    <tr>\n",
              "      <th>27</th>\n",
              "      <td>worst smoothness</td>\n",
              "      <td>-0.688962</td>\n",
              "      <td>0.688962</td>\n",
              "    </tr>\n",
              "    <tr>\n",
              "      <th>25</th>\n",
              "      <td>worst perimeter</td>\n",
              "      <td>-0.653976</td>\n",
              "      <td>0.653976</td>\n",
              "    </tr>\n",
              "    <tr>\n",
              "      <th>8</th>\n",
              "      <td>mean concavity</td>\n",
              "      <td>-0.619446</td>\n",
              "      <td>0.619446</td>\n",
              "    </tr>\n",
              "    <tr>\n",
              "      <th>1</th>\n",
              "      <td>compactness error</td>\n",
              "      <td>0.608989</td>\n",
              "      <td>0.608989</td>\n",
              "    </tr>\n",
              "    <tr>\n",
              "      <th>15</th>\n",
              "      <td>perimeter error</td>\n",
              "      <td>-0.576511</td>\n",
              "      <td>0.576511</td>\n",
              "    </tr>\n",
              "    <tr>\n",
              "      <th>14</th>\n",
              "      <td>mean texture</td>\n",
              "      <td>-0.529040</td>\n",
              "      <td>0.529040</td>\n",
              "    </tr>\n",
              "    <tr>\n",
              "      <th>5</th>\n",
              "      <td>mean area</td>\n",
              "      <td>-0.484357</td>\n",
              "      <td>0.484357</td>\n",
              "    </tr>\n",
              "    <tr>\n",
              "      <th>4</th>\n",
              "      <td>fractal dimension error</td>\n",
              "      <td>0.476368</td>\n",
              "      <td>0.476368</td>\n",
              "    </tr>\n",
              "    <tr>\n",
              "      <th>11</th>\n",
              "      <td>mean radius</td>\n",
              "      <td>-0.456945</td>\n",
              "      <td>0.456945</td>\n",
              "    </tr>\n",
              "    <tr>\n",
              "      <th>10</th>\n",
              "      <td>mean perimeter</td>\n",
              "      <td>-0.424788</td>\n",
              "      <td>0.424788</td>\n",
              "    </tr>\n",
              "    <tr>\n",
              "      <th>18</th>\n",
              "      <td>symmetry error</td>\n",
              "      <td>0.370204</td>\n",
              "      <td>0.370204</td>\n",
              "    </tr>\n",
              "    <tr>\n",
              "      <th>17</th>\n",
              "      <td>smoothness error</td>\n",
              "      <td>-0.181960</td>\n",
              "      <td>0.181960</td>\n",
              "    </tr>\n",
              "    <tr>\n",
              "      <th>6</th>\n",
              "      <td>mean compactness</td>\n",
              "      <td>0.171011</td>\n",
              "      <td>0.171011</td>\n",
              "    </tr>\n",
              "    <tr>\n",
              "      <th>9</th>\n",
              "      <td>mean fractal dimension</td>\n",
              "      <td>0.164130</td>\n",
              "      <td>0.164130</td>\n",
              "    </tr>\n",
              "    <tr>\n",
              "      <th>2</th>\n",
              "      <td>concave points error</td>\n",
              "      <td>-0.117847</td>\n",
              "      <td>0.117847</td>\n",
              "    </tr>\n",
              "    <tr>\n",
              "      <th>13</th>\n",
              "      <td>mean symmetry</td>\n",
              "      <td>0.068413</td>\n",
              "      <td>0.068413</td>\n",
              "    </tr>\n",
              "    <tr>\n",
              "      <th>19</th>\n",
              "      <td>texture error</td>\n",
              "      <td>0.058506</td>\n",
              "      <td>0.058506</td>\n",
              "    </tr>\n",
              "    <tr>\n",
              "      <th>12</th>\n",
              "      <td>mean smoothness</td>\n",
              "      <td>-0.036484</td>\n",
              "      <td>0.036484</td>\n",
              "    </tr>\n",
              "    <tr>\n",
              "      <th>24</th>\n",
              "      <td>worst fractal dimension</td>\n",
              "      <td>-0.023929</td>\n",
              "      <td>0.023929</td>\n",
              "    </tr>\n",
              "    <tr>\n",
              "      <th>21</th>\n",
              "      <td>worst compactness</td>\n",
              "      <td>0.000000</td>\n",
              "      <td>0.000000</td>\n",
              "    </tr>\n",
              "    <tr>\n",
              "      <th>3</th>\n",
              "      <td>concavity error</td>\n",
              "      <td>0.000000</td>\n",
              "      <td>0.000000</td>\n",
              "    </tr>\n",
              "  </tbody>\n",
              "</table>\n",
              "</div>"
            ],
            "text/plain": [
              "                   Variable  Coefficient  Coefficient_Abs\n",
              "29            worst texture    -1.102539         1.102539\n",
              "16             radius error    -1.020939         1.020939\n",
              "28           worst symmetry    -0.937847         0.937847\n",
              "7       mean concave points    -0.840223         0.840223\n",
              "26             worst radius    -0.832168         0.832168\n",
              "22     worst concave points    -0.805606         0.805606\n",
              "23          worst concavity    -0.789594         0.789594\n",
              "20               worst area    -0.777016         0.777016\n",
              "0                area error    -0.719655         0.719655\n",
              "27         worst smoothness    -0.688962         0.688962\n",
              "25          worst perimeter    -0.653976         0.653976\n",
              "8            mean concavity    -0.619446         0.619446\n",
              "1         compactness error     0.608989         0.608989\n",
              "15          perimeter error    -0.576511         0.576511\n",
              "14             mean texture    -0.529040         0.529040\n",
              "5                 mean area    -0.484357         0.484357\n",
              "4   fractal dimension error     0.476368         0.476368\n",
              "11              mean radius    -0.456945         0.456945\n",
              "10           mean perimeter    -0.424788         0.424788\n",
              "18           symmetry error     0.370204         0.370204\n",
              "17         smoothness error    -0.181960         0.181960\n",
              "6          mean compactness     0.171011         0.171011\n",
              "9    mean fractal dimension     0.164130         0.164130\n",
              "2      concave points error    -0.117847         0.117847\n",
              "13            mean symmetry     0.068413         0.068413\n",
              "19            texture error     0.058506         0.058506\n",
              "12          mean smoothness    -0.036484         0.036484\n",
              "24  worst fractal dimension    -0.023929         0.023929\n",
              "21        worst compactness     0.000000         0.000000\n",
              "3           concavity error     0.000000         0.000000"
            ]
          },
          "metadata": {
            "tags": []
          },
          "execution_count": 56
        }
      ]
    },
    {
      "cell_type": "markdown",
      "metadata": {
        "id": "esVN6K6tgp6U",
        "colab_type": "text"
      },
      "source": [
        "## KNN"
      ]
    },
    {
      "cell_type": "code",
      "metadata": {
        "id": "_Umo_FKbhSDm",
        "colab_type": "code",
        "colab": {}
      },
      "source": [
        "from sklearn.neighbors import KNeighborsClassifier  \n",
        "knn = KNeighborsClassifier().fit(X_train, y_train)"
      ],
      "execution_count": null,
      "outputs": []
    },
    {
      "cell_type": "code",
      "metadata": {
        "id": "zTjcvtr7J3wH",
        "colab_type": "code",
        "colab": {
          "base_uri": "https://localhost:8080/",
          "height": 265
        },
        "outputId": "d4aed5ad-a07c-4141-840a-c9272e7496ff"
      },
      "source": [
        "#ROC/AUC Curve\n",
        "from sklearn import metrics\n",
        "y_test_prob=knn.predict_proba(X_test)[:,1]\n",
        "fpr,tpr, _=metrics.roc_curve(y_test,y_test_prob)\n",
        "auc=metrics.roc_auc_score(y_test,y_test_prob)\n",
        "plt.plot(fpr,tpr,label=\"area=\"+str(auc))\n",
        "plt.legend(loc=4)\n",
        "plt.show()"
      ],
      "execution_count": null,
      "outputs": [
        {
          "output_type": "display_data",
          "data": {
            "image/png": "[encoded data removed]",
            "text/plain": [
              "<Figure size 432x288 with 1 Axes>"
            ]
          },
          "metadata": {
            "tags": []
          }
        }
      ]
    },
    {
      "cell_type": "code",
      "metadata": {
        "id": "tYFGjcycKBpj",
        "colab_type": "code",
        "colab": {
          "base_uri": "https://localhost:8080/",
          "height": 34
        },
        "outputId": "f4257d37-7368-4328-fb15-1aa6231bab64"
      },
      "source": [
        "log_loss(y_test,y_test_prob)"
      ],
      "execution_count": null,
      "outputs": [
        {
          "output_type": "execute_result",
          "data": {
            "text/plain": [
              "0.3868538364954062"
            ]
          },
          "metadata": {
            "tags": []
          },
          "execution_count": 41
        }
      ]
    },
    {
      "cell_type": "code",
      "metadata": {
        "id": "x1MOE0H-AtvE",
        "colab_type": "code",
        "colab": {
          "base_uri": "https://localhost:8080/",
          "height": 68
        },
        "outputId": "01811673-804f-4cdd-aba3-9eaea1c2b59e"
      },
      "source": [
        "from sklearn.metrics import confusion_matrix\n",
        "confusion_matrix = confusion_matrix(y_test, knn.predict(X_test))\n",
        "cmtx = pd.DataFrame(confusion_matrix, index=['true:no', 'true:yes'], columns=['pred:no', 'pred:yes'])\n",
        "print(cmtx)"
      ],
      "execution_count": null,
      "outputs": [
        {
          "output_type": "stream",
          "text": [
            "          pred:no  pred:yes\n",
            "true:no        40         3\n",
            "true:yes        3        68\n"
          ],
          "name": "stdout"
        }
      ]
    },
    {
      "cell_type": "code",
      "metadata": {
        "id": "X0eRxxtZBJPp",
        "colab_type": "code",
        "colab": {
          "base_uri": "https://localhost:8080/",
          "height": 170
        },
        "outputId": "f2f06a10-eb5a-43cd-bd69-4b7f5b62d373"
      },
      "source": [
        "print(classification_report(y_test, knn.predict(X_test)))"
      ],
      "execution_count": null,
      "outputs": [
        {
          "output_type": "stream",
          "text": [
            "              precision    recall  f1-score   support\n",
            "\n",
            "           0       0.93      0.93      0.93        43\n",
            "           1       0.96      0.96      0.96        71\n",
            "\n",
            "    accuracy                           0.95       114\n",
            "   macro avg       0.94      0.94      0.94       114\n",
            "weighted avg       0.95      0.95      0.95       114\n",
            "\n"
          ],
          "name": "stdout"
        }
      ]
    },
    {
      "cell_type": "markdown",
      "metadata": {
        "id": "UM7UE5V_SiuY",
        "colab_type": "text"
      },
      "source": [
        "## SVM"
      ]
    },
    {
      "cell_type": "code",
      "metadata": {
        "id": "W3EgigNSiTyl",
        "colab_type": "code",
        "colab": {}
      },
      "source": [
        "from sklearn.svm import LinearSVC\n",
        "from sklearn.calibration import CalibratedClassifierCV # LinearSVC does not provide predict_proba, this will scikit-learn provides CalibratedClassifierCV which can be used to solve this problem: it allows to add probability output to LinearSVC or any other classifier which implements decision_function method"
      ],
      "execution_count": null,
      "outputs": []
    },
    {
      "cell_type": "code",
      "metadata": {
        "id": "tfWH8ILeiRnx",
        "colab_type": "code",
        "colab": {}
      },
      "source": [
        " svm = LinearSVC(random_state = 42)\n",
        " svm.fit(X_train, y_train)\n",
        " clf = CalibratedClassifierCV(svm) \n",
        " clf.fit(X_train, y_train)\n",
        " y_proba = clf.predict_proba(X_test)"
      ],
      "execution_count": null,
      "outputs": []
    },
    {
      "cell_type": "code",
      "metadata": {
        "id": "atPxnR8iT7Eg",
        "colab_type": "code",
        "colab": {
          "base_uri": "https://localhost:8080/",
          "height": 265
        },
        "outputId": "447b3f33-0bba-4cd0-d8d2-ba34d49f568e"
      },
      "source": [
        "#ROC/AUC Curve\n",
        "from sklearn import metrics\n",
        "y_test_prob=clf.predict_proba(X_test)[:,1]\n",
        "fpr,tpr, _=metrics.roc_curve(y_test,y_test_prob)\n",
        "auc=metrics.roc_auc_score(y_test,y_test_prob)\n",
        "plt.plot(fpr,tpr,label=\"area=\"+str(auc))\n",
        "plt.legend(loc=4)\n",
        "plt.show()"
      ],
      "execution_count": null,
      "outputs": [
        {
          "output_type": "display_data",
          "data": {
            "image/png": "[encoded data removed]",
            "text/plain": [
              "<Figure size 432x288 with 1 Axes>"
            ]
          },
          "metadata": {
            "tags": []
          }
        }
      ]
    },
    {
      "cell_type": "code",
      "metadata": {
        "id": "yUUrzdMkVQyh",
        "colab_type": "code",
        "colab": {
          "base_uri": "https://localhost:8080/",
          "height": 34
        },
        "outputId": "fad352d6-a9d8-4207-d0af-b8d323e2595a"
      },
      "source": [
        "log_loss(y_test,y_test_prob)"
      ],
      "execution_count": null,
      "outputs": [
        {
          "output_type": "execute_result",
          "data": {
            "text/plain": [
              "0.11172695854794033"
            ]
          },
          "metadata": {
            "tags": []
          },
          "execution_count": 46
        }
      ]
    },
    {
      "cell_type": "code",
      "metadata": {
        "id": "82wopDEgmMU4",
        "colab_type": "code",
        "colab": {
          "base_uri": "https://localhost:8080/",
          "height": 68
        },
        "outputId": "6a77c910-2d0e-4acd-b477-3581de929ab9"
      },
      "source": [
        "from sklearn.metrics import confusion_matrix\n",
        "cm = confusion_matrix(y_test, clf.predict(X_test))\n",
        "cmtx = pd.DataFrame(cm, index=['true:yes', 'true:no'], columns=['pred:yes', 'pred:no'])\n",
        "print(cmtx)"
      ],
      "execution_count": null,
      "outputs": [
        {
          "output_type": "stream",
          "text": [
            "          pred:yes  pred:no\n",
            "true:yes        40        3\n",
            "true:no          0       71\n"
          ],
          "name": "stdout"
        }
      ]
    },
    {
      "cell_type": "code",
      "metadata": {
        "id": "M6tQ4eD4AKS9",
        "colab_type": "code",
        "colab": {
          "base_uri": "https://localhost:8080/",
          "height": 170
        },
        "outputId": "131449f9-33ce-4c90-f134-9b777433a4cd"
      },
      "source": [
        "print(classification_report(y_test, svm.predict(X_test)))"
      ],
      "execution_count": null,
      "outputs": [
        {
          "output_type": "stream",
          "text": [
            "              precision    recall  f1-score   support\n",
            "\n",
            "           0       0.93      0.95      0.94        43\n",
            "           1       0.97      0.96      0.96        71\n",
            "\n",
            "    accuracy                           0.96       114\n",
            "   macro avg       0.95      0.96      0.95       114\n",
            "weighted avg       0.96      0.96      0.96       114\n",
            "\n"
          ],
          "name": "stdout"
        }
      ]
    },
    {
      "cell_type": "code",
      "metadata": {
        "id": "1ssJ9exL8xs4",
        "colab_type": "code",
        "colab": {
          "base_uri": "https://localhost:8080/",
          "height": 979
        },
        "outputId": "742e7571-4217-47e1-e5ad-268050808407"
      },
      "source": [
        "svmCoeff = pd.concat([pd.DataFrame(X.columns),pd.DataFrame(np.transpose(svm.coef_))], axis = 1)\n",
        "svmCoeff.columns=['Variable','Coefficient']\n",
        "svmCoeff['Coefficient_Abs']=svmCoeff['Coefficient'].apply(abs)\n",
        "svmCoeff.sort_values(by='Coefficient_Abs', ascending=False)"
      ],
      "execution_count": null,
      "outputs": [
        {
          "output_type": "execute_result",
          "data": {
            "text/html": [
              "<div>\n",
              "<style scoped>\n",
              "    .dataframe tbody tr th:only-of-type {\n",
              "        vertical-align: middle;\n",
              "    }\n",
              "\n",
              "    .dataframe tbody tr th {\n",
              "        vertical-align: top;\n",
              "    }\n",
              "\n",
              "    .dataframe thead th {\n",
              "        text-align: right;\n",
              "    }\n",
              "</style>\n",
              "<table border=\"1\" class=\"dataframe\">\n",
              "  <thead>\n",
              "    <tr style=\"text-align: right;\">\n",
              "      <th></th>\n",
              "      <th>Variable</th>\n",
              "      <th>Coefficient</th>\n",
              "      <th>Coefficient_Abs</th>\n",
              "    </tr>\n",
              "  </thead>\n",
              "  <tbody>\n",
              "    <tr>\n",
              "      <th>7</th>\n",
              "      <td>mean concave points</td>\n",
              "      <td>-1.292714</td>\n",
              "      <td>1.292714</td>\n",
              "    </tr>\n",
              "    <tr>\n",
              "      <th>16</th>\n",
              "      <td>radius error</td>\n",
              "      <td>-1.085787</td>\n",
              "      <td>1.085787</td>\n",
              "    </tr>\n",
              "    <tr>\n",
              "      <th>6</th>\n",
              "      <td>mean compactness</td>\n",
              "      <td>0.924964</td>\n",
              "      <td>0.924964</td>\n",
              "    </tr>\n",
              "    <tr>\n",
              "      <th>23</th>\n",
              "      <td>worst concavity</td>\n",
              "      <td>-0.844693</td>\n",
              "      <td>0.844693</td>\n",
              "    </tr>\n",
              "    <tr>\n",
              "      <th>29</th>\n",
              "      <td>worst texture</td>\n",
              "      <td>-0.785718</td>\n",
              "      <td>0.785718</td>\n",
              "    </tr>\n",
              "    <tr>\n",
              "      <th>28</th>\n",
              "      <td>worst symmetry</td>\n",
              "      <td>-0.780571</td>\n",
              "      <td>0.780571</td>\n",
              "    </tr>\n",
              "    <tr>\n",
              "      <th>0</th>\n",
              "      <td>area error</td>\n",
              "      <td>-0.757177</td>\n",
              "      <td>0.757177</td>\n",
              "    </tr>\n",
              "    <tr>\n",
              "      <th>20</th>\n",
              "      <td>worst area</td>\n",
              "      <td>-0.740594</td>\n",
              "      <td>0.740594</td>\n",
              "    </tr>\n",
              "    <tr>\n",
              "      <th>26</th>\n",
              "      <td>worst radius</td>\n",
              "      <td>-0.687682</td>\n",
              "      <td>0.687682</td>\n",
              "    </tr>\n",
              "    <tr>\n",
              "      <th>3</th>\n",
              "      <td>concavity error</td>\n",
              "      <td>0.595542</td>\n",
              "      <td>0.595542</td>\n",
              "    </tr>\n",
              "    <tr>\n",
              "      <th>4</th>\n",
              "      <td>fractal dimension error</td>\n",
              "      <td>0.544182</td>\n",
              "      <td>0.544182</td>\n",
              "    </tr>\n",
              "    <tr>\n",
              "      <th>8</th>\n",
              "      <td>mean concavity</td>\n",
              "      <td>-0.505939</td>\n",
              "      <td>0.505939</td>\n",
              "    </tr>\n",
              "    <tr>\n",
              "      <th>2</th>\n",
              "      <td>concave points error</td>\n",
              "      <td>-0.500288</td>\n",
              "      <td>0.500288</td>\n",
              "    </tr>\n",
              "    <tr>\n",
              "      <th>18</th>\n",
              "      <td>symmetry error</td>\n",
              "      <td>0.437241</td>\n",
              "      <td>0.437241</td>\n",
              "    </tr>\n",
              "    <tr>\n",
              "      <th>9</th>\n",
              "      <td>mean fractal dimension</td>\n",
              "      <td>-0.395408</td>\n",
              "      <td>0.395408</td>\n",
              "    </tr>\n",
              "    <tr>\n",
              "      <th>13</th>\n",
              "      <td>mean symmetry</td>\n",
              "      <td>0.273059</td>\n",
              "      <td>0.273059</td>\n",
              "    </tr>\n",
              "    <tr>\n",
              "      <th>17</th>\n",
              "      <td>smoothness error</td>\n",
              "      <td>-0.244977</td>\n",
              "      <td>0.244977</td>\n",
              "    </tr>\n",
              "    <tr>\n",
              "      <th>24</th>\n",
              "      <td>worst fractal dimension</td>\n",
              "      <td>-0.157844</td>\n",
              "      <td>0.157844</td>\n",
              "    </tr>\n",
              "    <tr>\n",
              "      <th>15</th>\n",
              "      <td>perimeter error</td>\n",
              "      <td>0.157261</td>\n",
              "      <td>0.157261</td>\n",
              "    </tr>\n",
              "    <tr>\n",
              "      <th>19</th>\n",
              "      <td>texture error</td>\n",
              "      <td>0.152611</td>\n",
              "      <td>0.152611</td>\n",
              "    </tr>\n",
              "    <tr>\n",
              "      <th>10</th>\n",
              "      <td>mean perimeter</td>\n",
              "      <td>0.141573</td>\n",
              "      <td>0.141573</td>\n",
              "    </tr>\n",
              "    <tr>\n",
              "      <th>27</th>\n",
              "      <td>worst smoothness</td>\n",
              "      <td>0.077232</td>\n",
              "      <td>0.077232</td>\n",
              "    </tr>\n",
              "    <tr>\n",
              "      <th>5</th>\n",
              "      <td>mean area</td>\n",
              "      <td>0.072944</td>\n",
              "      <td>0.072944</td>\n",
              "    </tr>\n",
              "    <tr>\n",
              "      <th>21</th>\n",
              "      <td>worst compactness</td>\n",
              "      <td>0.057895</td>\n",
              "      <td>0.057895</td>\n",
              "    </tr>\n",
              "    <tr>\n",
              "      <th>11</th>\n",
              "      <td>mean radius</td>\n",
              "      <td>0.050063</td>\n",
              "      <td>0.050063</td>\n",
              "    </tr>\n",
              "    <tr>\n",
              "      <th>25</th>\n",
              "      <td>worst perimeter</td>\n",
              "      <td>-0.047664</td>\n",
              "      <td>0.047664</td>\n",
              "    </tr>\n",
              "    <tr>\n",
              "      <th>22</th>\n",
              "      <td>worst concave points</td>\n",
              "      <td>0.045227</td>\n",
              "      <td>0.045227</td>\n",
              "    </tr>\n",
              "    <tr>\n",
              "      <th>12</th>\n",
              "      <td>mean smoothness</td>\n",
              "      <td>0.032503</td>\n",
              "      <td>0.032503</td>\n",
              "    </tr>\n",
              "    <tr>\n",
              "      <th>14</th>\n",
              "      <td>mean texture</td>\n",
              "      <td>-0.014001</td>\n",
              "      <td>0.014001</td>\n",
              "    </tr>\n",
              "    <tr>\n",
              "      <th>1</th>\n",
              "      <td>compactness error</td>\n",
              "      <td>0.006571</td>\n",
              "      <td>0.006571</td>\n",
              "    </tr>\n",
              "  </tbody>\n",
              "</table>\n",
              "</div>"
            ],
            "text/plain": [
              "                   Variable  Coefficient  Coefficient_Abs\n",
              "7       mean concave points    -1.292714         1.292714\n",
              "16             radius error    -1.085787         1.085787\n",
              "6          mean compactness     0.924964         0.924964\n",
              "23          worst concavity    -0.844693         0.844693\n",
              "29            worst texture    -0.785718         0.785718\n",
              "28           worst symmetry    -0.780571         0.780571\n",
              "0                area error    -0.757177         0.757177\n",
              "20               worst area    -0.740594         0.740594\n",
              "26             worst radius    -0.687682         0.687682\n",
              "3           concavity error     0.595542         0.595542\n",
              "4   fractal dimension error     0.544182         0.544182\n",
              "8            mean concavity    -0.505939         0.505939\n",
              "2      concave points error    -0.500288         0.500288\n",
              "18           symmetry error     0.437241         0.437241\n",
              "9    mean fractal dimension    -0.395408         0.395408\n",
              "13            mean symmetry     0.273059         0.273059\n",
              "17         smoothness error    -0.244977         0.244977\n",
              "24  worst fractal dimension    -0.157844         0.157844\n",
              "15          perimeter error     0.157261         0.157261\n",
              "19            texture error     0.152611         0.152611\n",
              "10           mean perimeter     0.141573         0.141573\n",
              "27         worst smoothness     0.077232         0.077232\n",
              "5                 mean area     0.072944         0.072944\n",
              "21        worst compactness     0.057895         0.057895\n",
              "11              mean radius     0.050063         0.050063\n",
              "25          worst perimeter    -0.047664         0.047664\n",
              "22     worst concave points     0.045227         0.045227\n",
              "12          mean smoothness     0.032503         0.032503\n",
              "14             mean texture    -0.014001         0.014001\n",
              "1         compactness error     0.006571         0.006571"
            ]
          },
          "metadata": {
            "tags": []
          },
          "execution_count": 17
        }
      ]
    },
    {
      "cell_type": "markdown",
      "metadata": {
        "id": "7p52eau59yr0",
        "colab_type": "text"
      },
      "source": [
        "## Decision Tree"
      ]
    },
    {
      "cell_type": "code",
      "metadata": {
        "id": "VclKKGil-Dx9",
        "colab_type": "code",
        "colab": {
          "base_uri": "https://localhost:8080/",
          "height": 119
        },
        "outputId": "d7d2489a-9918-4c92-8346-b6b6e62b8b5a"
      },
      "source": [
        "from sklearn.tree import DecisionTreeClassifier\n",
        "treeClf = DecisionTreeClassifier(random_state=0)\n",
        "treeClf.fit(X_train, y_train)"
      ],
      "execution_count": null,
      "outputs": [
        {
          "output_type": "execute_result",
          "data": {
            "text/plain": [
              "DecisionTreeClassifier(ccp_alpha=0.0, class_weight=None, criterion='gini',\n",
              "                       max_depth=None, max_features=None, max_leaf_nodes=None,\n",
              "                       min_impurity_decrease=0.0, min_impurity_split=None,\n",
              "                       min_samples_leaf=1, min_samples_split=2,\n",
              "                       min_weight_fraction_leaf=0.0, presort='deprecated',\n",
              "                       random_state=0, splitter='best')"
            ]
          },
          "metadata": {
            "tags": []
          },
          "execution_count": 40
        }
      ]
    },
    {
      "cell_type": "code",
      "metadata": {
        "id": "Dj1Dundo_iEk",
        "colab_type": "code",
        "colab": {
          "base_uri": "https://localhost:8080/",
          "height": 265
        },
        "outputId": "d6b26127-6810-49b7-d253-92782a484eae"
      },
      "source": [
        "#ROC/AUC Curve\n",
        "from sklearn import metrics\n",
        "y_test_prob=treeClf.predict_proba(X_test)[:,1]\n",
        "fpr,tpr, _=metrics.roc_curve(y_test,y_test_prob)\n",
        "auc=metrics.roc_auc_score(y_test,y_test_prob)\n",
        "plt.plot(fpr,tpr,label=\"area=\"+str(auc))\n",
        "plt.legend(loc=4)\n",
        "plt.show()"
      ],
      "execution_count": null,
      "outputs": [
        {
          "output_type": "display_data",
          "data": {
            "image/png": "[encoded data removed]",
            "text/plain": [
              "<Figure size 432x288 with 1 Axes>"
            ]
          },
          "metadata": {
            "tags": []
          }
        }
      ]
    },
    {
      "cell_type": "code",
      "metadata": {
        "id": "ObEYaWWt_0s7",
        "colab_type": "code",
        "colab": {
          "base_uri": "https://localhost:8080/",
          "height": 34
        },
        "outputId": "356e9cbc-9dbb-4ffb-98d5-7d00178457cd"
      },
      "source": [
        "log_loss(y_test,y_test_prob)"
      ],
      "execution_count": null,
      "outputs": [
        {
          "output_type": "execute_result",
          "data": {
            "text/plain": [
              "2.120830115386804"
            ]
          },
          "metadata": {
            "tags": []
          },
          "execution_count": 11
        }
      ]
    },
    {
      "cell_type": "code",
      "metadata": {
        "id": "yYTEiJSL_96u",
        "colab_type": "code",
        "colab": {
          "base_uri": "https://localhost:8080/",
          "height": 68
        },
        "outputId": "b80bc4df-a141-4c59-ec6a-43d3d3620b55"
      },
      "source": [
        "cm = confusion_matrix(y_test, treeClf.predict(X_test))\n",
        "cmtx = pd.DataFrame(cm, index=['true:no', 'true:yes'], columns=['pred:no', 'pred:yes'])\n",
        "print(cmtx)"
      ],
      "execution_count": null,
      "outputs": [
        {
          "output_type": "stream",
          "text": [
            "          pred:no  pred:yes\n",
            "true:no        39         4\n",
            "true:yes        3        68\n"
          ],
          "name": "stdout"
        }
      ]
    },
    {
      "cell_type": "code",
      "metadata": {
        "id": "4ycGVe8IAF_o",
        "colab_type": "code",
        "colab": {
          "base_uri": "https://localhost:8080/",
          "height": 170
        },
        "outputId": "15a3a278-b86f-4af0-f2e6-9a9d91718c94"
      },
      "source": [
        "print(classification_report(y_test, treeClf.predict(X_test)))"
      ],
      "execution_count": null,
      "outputs": [
        {
          "output_type": "stream",
          "text": [
            "              precision    recall  f1-score   support\n",
            "\n",
            "           0       0.93      0.91      0.92        43\n",
            "           1       0.94      0.96      0.95        71\n",
            "\n",
            "    accuracy                           0.94       114\n",
            "   macro avg       0.94      0.93      0.93       114\n",
            "weighted avg       0.94      0.94      0.94       114\n",
            "\n"
          ],
          "name": "stdout"
        }
      ]
    },
    {
      "cell_type": "code",
      "metadata": {
        "id": "8ZFFpue6AywH",
        "colab_type": "code",
        "colab": {
          "base_uri": "https://localhost:8080/",
          "height": 979
        },
        "outputId": "e035f8ea-e526-4a36-cb84-e17768fe036a"
      },
      "source": [
        "treeCoeff = pd.concat([pd.DataFrame(X.columns),pd.DataFrame(np.transpose(treeClf.feature_importances_))], axis = 1)\n",
        "treeCoeff.columns=['Variable','Feature_Importance']\n",
        "treeCoeff.sort_values(by='Feature_Importance', ascending=False)"
      ],
      "execution_count": null,
      "outputs": [
        {
          "output_type": "execute_result",
          "data": {
            "text/html": [
              "<div>\n",
              "<style scoped>\n",
              "    .dataframe tbody tr th:only-of-type {\n",
              "        vertical-align: middle;\n",
              "    }\n",
              "\n",
              "    .dataframe tbody tr th {\n",
              "        vertical-align: top;\n",
              "    }\n",
              "\n",
              "    .dataframe thead th {\n",
              "        text-align: right;\n",
              "    }\n",
              "</style>\n",
              "<table border=\"1\" class=\"dataframe\">\n",
              "  <thead>\n",
              "    <tr style=\"text-align: right;\">\n",
              "      <th></th>\n",
              "      <th>Variable</th>\n",
              "      <th>Feature_Importance</th>\n",
              "    </tr>\n",
              "  </thead>\n",
              "  <tbody>\n",
              "    <tr>\n",
              "      <th>7</th>\n",
              "      <td>mean concave points</td>\n",
              "      <td>0.691420</td>\n",
              "    </tr>\n",
              "    <tr>\n",
              "      <th>22</th>\n",
              "      <td>worst concave points</td>\n",
              "      <td>0.073720</td>\n",
              "    </tr>\n",
              "    <tr>\n",
              "      <th>29</th>\n",
              "      <td>worst texture</td>\n",
              "      <td>0.067854</td>\n",
              "    </tr>\n",
              "    <tr>\n",
              "      <th>26</th>\n",
              "      <td>worst radius</td>\n",
              "      <td>0.052299</td>\n",
              "    </tr>\n",
              "    <tr>\n",
              "      <th>25</th>\n",
              "      <td>worst perimeter</td>\n",
              "      <td>0.051494</td>\n",
              "    </tr>\n",
              "    <tr>\n",
              "      <th>4</th>\n",
              "      <td>fractal dimension error</td>\n",
              "      <td>0.018554</td>\n",
              "    </tr>\n",
              "    <tr>\n",
              "      <th>2</th>\n",
              "      <td>concave points error</td>\n",
              "      <td>0.015931</td>\n",
              "    </tr>\n",
              "    <tr>\n",
              "      <th>0</th>\n",
              "      <td>area error</td>\n",
              "      <td>0.011983</td>\n",
              "    </tr>\n",
              "    <tr>\n",
              "      <th>27</th>\n",
              "      <td>worst smoothness</td>\n",
              "      <td>0.009233</td>\n",
              "    </tr>\n",
              "    <tr>\n",
              "      <th>6</th>\n",
              "      <td>mean compactness</td>\n",
              "      <td>0.006276</td>\n",
              "    </tr>\n",
              "    <tr>\n",
              "      <th>17</th>\n",
              "      <td>smoothness error</td>\n",
              "      <td>0.001237</td>\n",
              "    </tr>\n",
              "    <tr>\n",
              "      <th>8</th>\n",
              "      <td>mean concavity</td>\n",
              "      <td>0.000000</td>\n",
              "    </tr>\n",
              "    <tr>\n",
              "      <th>20</th>\n",
              "      <td>worst area</td>\n",
              "      <td>0.000000</td>\n",
              "    </tr>\n",
              "    <tr>\n",
              "      <th>28</th>\n",
              "      <td>worst symmetry</td>\n",
              "      <td>0.000000</td>\n",
              "    </tr>\n",
              "    <tr>\n",
              "      <th>3</th>\n",
              "      <td>concavity error</td>\n",
              "      <td>0.000000</td>\n",
              "    </tr>\n",
              "    <tr>\n",
              "      <th>5</th>\n",
              "      <td>mean area</td>\n",
              "      <td>0.000000</td>\n",
              "    </tr>\n",
              "    <tr>\n",
              "      <th>24</th>\n",
              "      <td>worst fractal dimension</td>\n",
              "      <td>0.000000</td>\n",
              "    </tr>\n",
              "    <tr>\n",
              "      <th>23</th>\n",
              "      <td>worst concavity</td>\n",
              "      <td>0.000000</td>\n",
              "    </tr>\n",
              "    <tr>\n",
              "      <th>21</th>\n",
              "      <td>worst compactness</td>\n",
              "      <td>0.000000</td>\n",
              "    </tr>\n",
              "    <tr>\n",
              "      <th>19</th>\n",
              "      <td>texture error</td>\n",
              "      <td>0.000000</td>\n",
              "    </tr>\n",
              "    <tr>\n",
              "      <th>9</th>\n",
              "      <td>mean fractal dimension</td>\n",
              "      <td>0.000000</td>\n",
              "    </tr>\n",
              "    <tr>\n",
              "      <th>18</th>\n",
              "      <td>symmetry error</td>\n",
              "      <td>0.000000</td>\n",
              "    </tr>\n",
              "    <tr>\n",
              "      <th>16</th>\n",
              "      <td>radius error</td>\n",
              "      <td>0.000000</td>\n",
              "    </tr>\n",
              "    <tr>\n",
              "      <th>1</th>\n",
              "      <td>compactness error</td>\n",
              "      <td>0.000000</td>\n",
              "    </tr>\n",
              "    <tr>\n",
              "      <th>14</th>\n",
              "      <td>mean texture</td>\n",
              "      <td>0.000000</td>\n",
              "    </tr>\n",
              "    <tr>\n",
              "      <th>13</th>\n",
              "      <td>mean symmetry</td>\n",
              "      <td>0.000000</td>\n",
              "    </tr>\n",
              "    <tr>\n",
              "      <th>12</th>\n",
              "      <td>mean smoothness</td>\n",
              "      <td>0.000000</td>\n",
              "    </tr>\n",
              "    <tr>\n",
              "      <th>11</th>\n",
              "      <td>mean radius</td>\n",
              "      <td>0.000000</td>\n",
              "    </tr>\n",
              "    <tr>\n",
              "      <th>10</th>\n",
              "      <td>mean perimeter</td>\n",
              "      <td>0.000000</td>\n",
              "    </tr>\n",
              "    <tr>\n",
              "      <th>15</th>\n",
              "      <td>perimeter error</td>\n",
              "      <td>0.000000</td>\n",
              "    </tr>\n",
              "  </tbody>\n",
              "</table>\n",
              "</div>"
            ],
            "text/plain": [
              "                   Variable  Feature_Importance\n",
              "7       mean concave points            0.691420\n",
              "22     worst concave points            0.073720\n",
              "29            worst texture            0.067854\n",
              "26             worst radius            0.052299\n",
              "25          worst perimeter            0.051494\n",
              "4   fractal dimension error            0.018554\n",
              "2      concave points error            0.015931\n",
              "0                area error            0.011983\n",
              "27         worst smoothness            0.009233\n",
              "6          mean compactness            0.006276\n",
              "17         smoothness error            0.001237\n",
              "8            mean concavity            0.000000\n",
              "20               worst area            0.000000\n",
              "28           worst symmetry            0.000000\n",
              "3           concavity error            0.000000\n",
              "5                 mean area            0.000000\n",
              "24  worst fractal dimension            0.000000\n",
              "23          worst concavity            0.000000\n",
              "21        worst compactness            0.000000\n",
              "19            texture error            0.000000\n",
              "9    mean fractal dimension            0.000000\n",
              "18           symmetry error            0.000000\n",
              "16             radius error            0.000000\n",
              "1         compactness error            0.000000\n",
              "14             mean texture            0.000000\n",
              "13            mean symmetry            0.000000\n",
              "12          mean smoothness            0.000000\n",
              "11              mean radius            0.000000\n",
              "10           mean perimeter            0.000000\n",
              "15          perimeter error            0.000000"
            ]
          },
          "metadata": {
            "tags": []
          },
          "execution_count": 14
        }
      ]
    },
    {
      "cell_type": "code",
      "metadata": {
        "id": "acS6XVksuxFg",
        "colab_type": "code",
        "colab": {}
      },
      "source": [
        "from sklearn.tree import export_graphviz\n",
        "import graphviz"
      ],
      "execution_count": null,
      "outputs": []
    },
    {
      "cell_type": "code",
      "metadata": {
        "id": "vxnOe2-4uvNx",
        "colab_type": "code",
        "colab": {
          "base_uri": "https://localhost:8080/",
          "height": 1000
        },
        "outputId": "170dba4e-f194-401a-ba65-40baf80d9980"
      },
      "source": [
        "export_graphviz(treeClf, out_file=\"mytree.dot\")\n",
        "with open(\"mytree.dot\") as f:\n",
        "    dot_graph = f.read()\n",
        "graphviz.Source(dot_graph)"
      ],
      "execution_count": null,
      "outputs": [
        {
          "output_type": "execute_result",
          "data": {
            "text/plain": [
              "<graphviz.files.Source at 0x7f117db06550>"
            ],
            "image/svg+xml": "<?xml version=\"1.0\" encoding=\"UTF-8\" standalone=\"no\"?>\n<!DOCTYPE svg PUBLIC \"-//W3C//DTD SVG 1.1//EN\"\n \"http://www.w3.org/Graphics/SVG/1.1/DTD/svg11.dtd\">\n<!-- Generated by graphviz version 2.40.1 (20161225.0304)\n -->\n<!-- Title: Tree Pages: 1 -->\n<svg width=\"1344pt\" height=\"789pt\"\n viewBox=\"0.00 0.00 1344.00 789.00\" xmlns=\"http://www.w3.org/2000/svg\" xmlns:xlink=\"http://www.w3.org/1999/xlink\">\n<g id=\"graph0\" class=\"graph\" transform=\"scale(1 1) rotate(0) translate(4 785)\">\n<title>Tree</title>\n<polygon fill=\"#ffffff\" stroke=\"transparent\" points=\"-4,4 -4,-785 1340,-785 1340,4 -4,4\"/>\n<!-- 0 -->\n<g id=\"node1\" class=\"node\">\n<title>0</title>\n<polygon fill=\"none\" stroke=\"#000000\" points=\"857,-781 732,-781 732,-713 857,-713 857,-781\"/>\n<text text-anchor=\"middle\" x=\"794.5\" y=\"-765.8\" font-family=\"Times,serif\" font-size=\"14.00\" fill=\"#000000\">X[7] &lt;= 0.061</text>\n<text text-anchor=\"middle\" x=\"794.5\" y=\"-750.8\" font-family=\"Times,serif\" font-size=\"14.00\" fill=\"#000000\">gini = 0.467</text>\n<text text-anchor=\"middle\" x=\"794.5\" y=\"-735.8\" font-family=\"Times,serif\" font-size=\"14.00\" fill=\"#000000\">samples = 455</text>\n<text text-anchor=\"middle\" x=\"794.5\" y=\"-720.8\" font-family=\"Times,serif\" font-size=\"14.00\" fill=\"#000000\">value = [169, 286]</text>\n</g>\n<!-- 1 -->\n<g id=\"node2\" class=\"node\">\n<title>1</title>\n<polygon fill=\"none\" stroke=\"#000000\" points=\"736,-677 619,-677 619,-609 736,-609 736,-677\"/>\n<text text-anchor=\"middle\" x=\"677.5\" y=\"-661.8\" font-family=\"Times,serif\" font-size=\"14.00\" fill=\"#000000\">X[26] &lt;= 0.116</text>\n<text text-anchor=\"middle\" x=\"677.5\" y=\"-646.8\" font-family=\"Times,serif\" font-size=\"14.00\" fill=\"#000000\">gini = 0.107</text>\n<text text-anchor=\"middle\" x=\"677.5\" y=\"-631.8\" font-family=\"Times,serif\" font-size=\"14.00\" fill=\"#000000\">samples = 282</text>\n<text text-anchor=\"middle\" x=\"677.5\" y=\"-616.8\" font-family=\"Times,serif\" font-size=\"14.00\" fill=\"#000000\">value = [16, 266]</text>\n</g>\n<!-- 0&#45;&gt;1 -->\n<g id=\"edge1\" class=\"edge\">\n<title>0&#45;&gt;1</title>\n<path fill=\"none\" stroke=\"#000000\" d=\"M756.1898,-712.9465C745.7859,-703.6986 734.411,-693.5876 723.6243,-683.9994\"/>\n<polygon fill=\"#000000\" stroke=\"#000000\" points=\"725.6956,-681.1577 715.8962,-677.13 721.0451,-686.3896 725.6956,-681.1577\"/>\n<text text-anchor=\"middle\" x=\"717.3643\" y=\"-698.3869\" font-family=\"Times,serif\" font-size=\"14.00\" fill=\"#000000\">True</text>\n</g>\n<!-- 22 -->\n<g id=\"node23\" class=\"node\">\n<title>22</title>\n<polygon fill=\"none\" stroke=\"#000000\" points=\"1038,-677 921,-677 921,-609 1038,-609 1038,-677\"/>\n<text text-anchor=\"middle\" x=\"979.5\" y=\"-661.8\" font-family=\"Times,serif\" font-size=\"14.00\" fill=\"#000000\">X[22] &lt;= 0.486</text>\n<text text-anchor=\"middle\" x=\"979.5\" y=\"-646.8\" font-family=\"Times,serif\" font-size=\"14.00\" fill=\"#000000\">gini = 0.204</text>\n<text text-anchor=\"middle\" x=\"979.5\" y=\"-631.8\" font-family=\"Times,serif\" font-size=\"14.00\" fill=\"#000000\">samples = 173</text>\n<text text-anchor=\"middle\" x=\"979.5\" y=\"-616.8\" font-family=\"Times,serif\" font-size=\"14.00\" fill=\"#000000\">value = [153, 20]</text>\n</g>\n<!-- 0&#45;&gt;22 -->\n<g id=\"edge22\" class=\"edge\">\n<title>0&#45;&gt;22</title>\n<path fill=\"none\" stroke=\"#000000\" d=\"M855.0759,-712.9465C873.3612,-702.6672 893.5434,-691.3215 912.2367,-680.8129\"/>\n<polygon fill=\"#000000\" stroke=\"#000000\" points=\"913.9908,-683.842 920.9926,-675.8906 910.5605,-677.7401 913.9908,-683.842\"/>\n<text text-anchor=\"middle\" x=\"914.2457\" y=\"-696.263\" font-family=\"Times,serif\" font-size=\"14.00\" fill=\"#000000\">False</text>\n</g>\n<!-- 2 -->\n<g id=\"node3\" class=\"node\">\n<title>2</title>\n<polygon fill=\"none\" stroke=\"#000000\" points=\"553.5,-573 443.5,-573 443.5,-505 553.5,-505 553.5,-573\"/>\n<text text-anchor=\"middle\" x=\"498.5\" y=\"-557.8\" font-family=\"Times,serif\" font-size=\"14.00\" fill=\"#000000\">X[0] &lt;= 0.184</text>\n<text text-anchor=\"middle\" x=\"498.5\" y=\"-542.8\" font-family=\"Times,serif\" font-size=\"14.00\" fill=\"#000000\">gini = 0.037</text>\n<text text-anchor=\"middle\" x=\"498.5\" y=\"-527.8\" font-family=\"Times,serif\" font-size=\"14.00\" fill=\"#000000\">samples = 263</text>\n<text text-anchor=\"middle\" x=\"498.5\" y=\"-512.8\" font-family=\"Times,serif\" font-size=\"14.00\" fill=\"#000000\">value = [5, 258]</text>\n</g>\n<!-- 1&#45;&gt;2 -->\n<g id=\"edge2\" class=\"edge\">\n<title>1&#45;&gt;2</title>\n<path fill=\"none\" stroke=\"#000000\" d=\"M618.8887,-608.9465C600.8384,-598.4592 580.8776,-586.8619 562.4854,-576.1759\"/>\n<polygon fill=\"#000000\" stroke=\"#000000\" points=\"564.0027,-573.0096 553.5978,-571.0121 560.486,-579.0622 564.0027,-573.0096\"/>\n</g>\n<!-- 17 -->\n<g id=\"node18\" class=\"node\">\n<title>17</title>\n<polygon fill=\"none\" stroke=\"#000000\" points=\"734,-573 621,-573 621,-505 734,-505 734,-573\"/>\n<text text-anchor=\"middle\" x=\"677.5\" y=\"-557.8\" font-family=\"Times,serif\" font-size=\"14.00\" fill=\"#000000\">X[29] &lt;= &#45;0.939</text>\n<text text-anchor=\"middle\" x=\"677.5\" y=\"-542.8\" font-family=\"Times,serif\" font-size=\"14.00\" fill=\"#000000\">gini = 0.488</text>\n<text text-anchor=\"middle\" x=\"677.5\" y=\"-527.8\" font-family=\"Times,serif\" font-size=\"14.00\" fill=\"#000000\">samples = 19</text>\n<text text-anchor=\"middle\" x=\"677.5\" y=\"-512.8\" font-family=\"Times,serif\" font-size=\"14.00\" fill=\"#000000\">value = [11, 8]</text>\n</g>\n<!-- 1&#45;&gt;17 -->\n<g id=\"edge17\" class=\"edge\">\n<title>1&#45;&gt;17</title>\n<path fill=\"none\" stroke=\"#000000\" d=\"M677.5,-608.9465C677.5,-600.776 677.5,-591.9318 677.5,-583.3697\"/>\n<polygon fill=\"#000000\" stroke=\"#000000\" points=\"681.0001,-583.13 677.5,-573.13 674.0001,-583.13 681.0001,-583.13\"/>\n</g>\n<!-- 3 -->\n<g id=\"node4\" class=\"node\">\n<title>3</title>\n<polygon fill=\"none\" stroke=\"#000000\" points=\"399.5,-469 289.5,-469 289.5,-401 399.5,-401 399.5,-469\"/>\n<text text-anchor=\"middle\" x=\"344.5\" y=\"-453.8\" font-family=\"Times,serif\" font-size=\"14.00\" fill=\"#000000\">X[27] &lt;= 1.985</text>\n<text text-anchor=\"middle\" x=\"344.5\" y=\"-438.8\" font-family=\"Times,serif\" font-size=\"14.00\" fill=\"#000000\">gini = 0.023</text>\n<text text-anchor=\"middle\" x=\"344.5\" y=\"-423.8\" font-family=\"Times,serif\" font-size=\"14.00\" fill=\"#000000\">samples = 260</text>\n<text text-anchor=\"middle\" x=\"344.5\" y=\"-408.8\" font-family=\"Times,serif\" font-size=\"14.00\" fill=\"#000000\">value = [3, 257]</text>\n</g>\n<!-- 2&#45;&gt;3 -->\n<g id=\"edge3\" class=\"edge\">\n<title>2&#45;&gt;3</title>\n<path fill=\"none\" stroke=\"#000000\" d=\"M448.0746,-504.9465C433.8488,-495.3395 418.2437,-484.8009 403.5602,-474.8848\"/>\n<polygon fill=\"#000000\" stroke=\"#000000\" points=\"405.2847,-471.8261 395.0386,-469.13 401.3671,-477.6272 405.2847,-471.8261\"/>\n</g>\n<!-- 14 -->\n<g id=\"node15\" class=\"node\">\n<title>14</title>\n<polygon fill=\"none\" stroke=\"#000000\" points=\"551.5,-469 445.5,-469 445.5,-401 551.5,-401 551.5,-469\"/>\n<text text-anchor=\"middle\" x=\"498.5\" y=\"-453.8\" font-family=\"Times,serif\" font-size=\"14.00\" fill=\"#000000\">X[6] &lt;= &#45;0.792</text>\n<text text-anchor=\"middle\" x=\"498.5\" y=\"-438.8\" font-family=\"Times,serif\" font-size=\"14.00\" fill=\"#000000\">gini = 0.444</text>\n<text text-anchor=\"middle\" x=\"498.5\" y=\"-423.8\" font-family=\"Times,serif\" font-size=\"14.00\" fill=\"#000000\">samples = 3</text>\n<text text-anchor=\"middle\" x=\"498.5\" y=\"-408.8\" font-family=\"Times,serif\" font-size=\"14.00\" fill=\"#000000\">value = [2, 1]</text>\n</g>\n<!-- 2&#45;&gt;14 -->\n<g id=\"edge14\" class=\"edge\">\n<title>2&#45;&gt;14</title>\n<path fill=\"none\" stroke=\"#000000\" d=\"M498.5,-504.9465C498.5,-496.776 498.5,-487.9318 498.5,-479.3697\"/>\n<polygon fill=\"#000000\" stroke=\"#000000\" points=\"502.0001,-479.13 498.5,-469.13 495.0001,-479.13 502.0001,-479.13\"/>\n</g>\n<!-- 4 -->\n<g id=\"node5\" class=\"node\">\n<title>4</title>\n<polygon fill=\"none\" stroke=\"#000000\" points=\"279,-365 166,-365 166,-297 279,-297 279,-365\"/>\n<text text-anchor=\"middle\" x=\"222.5\" y=\"-349.8\" font-family=\"Times,serif\" font-size=\"14.00\" fill=\"#000000\">X[17] &lt;= &#45;1.244</text>\n<text text-anchor=\"middle\" x=\"222.5\" y=\"-334.8\" font-family=\"Times,serif\" font-size=\"14.00\" fill=\"#000000\">gini = 0.015</text>\n<text text-anchor=\"middle\" x=\"222.5\" y=\"-319.8\" font-family=\"Times,serif\" font-size=\"14.00\" fill=\"#000000\">samples = 259</text>\n<text text-anchor=\"middle\" x=\"222.5\" y=\"-304.8\" font-family=\"Times,serif\" font-size=\"14.00\" fill=\"#000000\">value = [2, 257]</text>\n</g>\n<!-- 3&#45;&gt;4 -->\n<g id=\"edge4\" class=\"edge\">\n<title>3&#45;&gt;4</title>\n<path fill=\"none\" stroke=\"#000000\" d=\"M304.5526,-400.9465C293.5988,-391.6088 281.6127,-381.3911 270.268,-371.7203\"/>\n<polygon fill=\"#000000\" stroke=\"#000000\" points=\"272.4179,-368.9538 262.5371,-365.13 267.8767,-374.2809 272.4179,-368.9538\"/>\n</g>\n<!-- 13 -->\n<g id=\"node14\" class=\"node\">\n<title>13</title>\n<polygon fill=\"none\" stroke=\"#000000\" points=\"392,-357.5 297,-357.5 297,-304.5 392,-304.5 392,-357.5\"/>\n<text text-anchor=\"middle\" x=\"344.5\" y=\"-342.3\" font-family=\"Times,serif\" font-size=\"14.00\" fill=\"#000000\">gini = 0.0</text>\n<text text-anchor=\"middle\" x=\"344.5\" y=\"-327.3\" font-family=\"Times,serif\" font-size=\"14.00\" fill=\"#000000\">samples = 1</text>\n<text text-anchor=\"middle\" x=\"344.5\" y=\"-312.3\" font-family=\"Times,serif\" font-size=\"14.00\" fill=\"#000000\">value = [1, 0]</text>\n</g>\n<!-- 3&#45;&gt;13 -->\n<g id=\"edge13\" class=\"edge\">\n<title>3&#45;&gt;13</title>\n<path fill=\"none\" stroke=\"#000000\" d=\"M344.5,-400.9465C344.5,-390.2621 344.5,-378.4254 344.5,-367.5742\"/>\n<polygon fill=\"#000000\" stroke=\"#000000\" points=\"348.0001,-367.5421 344.5,-357.5422 341.0001,-367.5422 348.0001,-367.5421\"/>\n</g>\n<!-- 5 -->\n<g id=\"node6\" class=\"node\">\n<title>5</title>\n<polygon fill=\"none\" stroke=\"#000000\" points=\"214,-261 101,-261 101,-193 214,-193 214,-261\"/>\n<text text-anchor=\"middle\" x=\"157.5\" y=\"-245.8\" font-family=\"Times,serif\" font-size=\"14.00\" fill=\"#000000\">X[22] &lt;= &#45;0.207</text>\n<text text-anchor=\"middle\" x=\"157.5\" y=\"-230.8\" font-family=\"Times,serif\" font-size=\"14.00\" fill=\"#000000\">gini = 0.245</text>\n<text text-anchor=\"middle\" x=\"157.5\" y=\"-215.8\" font-family=\"Times,serif\" font-size=\"14.00\" fill=\"#000000\">samples = 7</text>\n<text text-anchor=\"middle\" x=\"157.5\" y=\"-200.8\" font-family=\"Times,serif\" font-size=\"14.00\" fill=\"#000000\">value = [1, 6]</text>\n</g>\n<!-- 4&#45;&gt;5 -->\n<g id=\"edge5\" class=\"edge\">\n<title>4&#45;&gt;5</title>\n<path fill=\"none\" stroke=\"#000000\" d=\"M201.2166,-296.9465C195.7733,-288.2373 189.8516,-278.7626 184.175,-269.6801\"/>\n<polygon fill=\"#000000\" stroke=\"#000000\" points=\"187.0993,-267.755 178.8312,-261.13 181.1633,-271.465 187.0993,-267.755\"/>\n</g>\n<!-- 8 -->\n<g id=\"node9\" class=\"node\">\n<title>8</title>\n<polygon fill=\"none\" stroke=\"#000000\" points=\"342.5,-261 232.5,-261 232.5,-193 342.5,-193 342.5,-261\"/>\n<text text-anchor=\"middle\" x=\"287.5\" y=\"-245.8\" font-family=\"Times,serif\" font-size=\"14.00\" fill=\"#000000\">X[29] &lt;= 1.249</text>\n<text text-anchor=\"middle\" x=\"287.5\" y=\"-230.8\" font-family=\"Times,serif\" font-size=\"14.00\" fill=\"#000000\">gini = 0.008</text>\n<text text-anchor=\"middle\" x=\"287.5\" y=\"-215.8\" font-family=\"Times,serif\" font-size=\"14.00\" fill=\"#000000\">samples = 252</text>\n<text text-anchor=\"middle\" x=\"287.5\" y=\"-200.8\" font-family=\"Times,serif\" font-size=\"14.00\" fill=\"#000000\">value = [1, 251]</text>\n</g>\n<!-- 4&#45;&gt;8 -->\n<g id=\"edge8\" class=\"edge\">\n<title>4&#45;&gt;8</title>\n<path fill=\"none\" stroke=\"#000000\" d=\"M243.7834,-296.9465C249.2267,-288.2373 255.1484,-278.7626 260.825,-269.6801\"/>\n<polygon fill=\"#000000\" stroke=\"#000000\" points=\"263.8367,-271.465 266.1688,-261.13 257.9007,-267.755 263.8367,-271.465\"/>\n</g>\n<!-- 6 -->\n<g id=\"node7\" class=\"node\">\n<title>6</title>\n<polygon fill=\"none\" stroke=\"#000000\" points=\"95,-149.5 0,-149.5 0,-96.5 95,-96.5 95,-149.5\"/>\n<text text-anchor=\"middle\" x=\"47.5\" y=\"-134.3\" font-family=\"Times,serif\" font-size=\"14.00\" fill=\"#000000\">gini = 0.0</text>\n<text text-anchor=\"middle\" x=\"47.5\" y=\"-119.3\" font-family=\"Times,serif\" font-size=\"14.00\" fill=\"#000000\">samples = 6</text>\n<text text-anchor=\"middle\" x=\"47.5\" y=\"-104.3\" font-family=\"Times,serif\" font-size=\"14.00\" fill=\"#000000\">value = [0, 6]</text>\n</g>\n<!-- 5&#45;&gt;6 -->\n<g id=\"edge6\" class=\"edge\">\n<title>5&#45;&gt;6</title>\n<path fill=\"none\" stroke=\"#000000\" d=\"M121.4819,-192.9465C109.1325,-181.2707 95.3278,-168.219 83.0183,-156.5809\"/>\n<polygon fill=\"#000000\" stroke=\"#000000\" points=\"85.2445,-153.869 75.5734,-149.5422 80.4354,-158.9556 85.2445,-153.869\"/>\n</g>\n<!-- 7 -->\n<g id=\"node8\" class=\"node\">\n<title>7</title>\n<polygon fill=\"none\" stroke=\"#000000\" points=\"208,-149.5 113,-149.5 113,-96.5 208,-96.5 208,-149.5\"/>\n<text text-anchor=\"middle\" x=\"160.5\" y=\"-134.3\" font-family=\"Times,serif\" font-size=\"14.00\" fill=\"#000000\">gini = 0.0</text>\n<text text-anchor=\"middle\" x=\"160.5\" y=\"-119.3\" font-family=\"Times,serif\" font-size=\"14.00\" fill=\"#000000\">samples = 1</text>\n<text text-anchor=\"middle\" x=\"160.5\" y=\"-104.3\" font-family=\"Times,serif\" font-size=\"14.00\" fill=\"#000000\">value = [1, 0]</text>\n</g>\n<!-- 5&#45;&gt;7 -->\n<g id=\"edge7\" class=\"edge\">\n<title>5&#45;&gt;7</title>\n<path fill=\"none\" stroke=\"#000000\" d=\"M158.4823,-192.9465C158.7905,-182.2621 159.132,-170.4254 159.445,-159.5742\"/>\n<polygon fill=\"#000000\" stroke=\"#000000\" points=\"162.9445,-159.639 159.7344,-149.5422 155.9474,-159.4371 162.9445,-159.639\"/>\n</g>\n<!-- 9 -->\n<g id=\"node10\" class=\"node\">\n<title>9</title>\n<polygon fill=\"none\" stroke=\"#000000\" points=\"340.5,-149.5 230.5,-149.5 230.5,-96.5 340.5,-96.5 340.5,-149.5\"/>\n<text text-anchor=\"middle\" x=\"285.5\" y=\"-134.3\" font-family=\"Times,serif\" font-size=\"14.00\" fill=\"#000000\">gini = 0.0</text>\n<text text-anchor=\"middle\" x=\"285.5\" y=\"-119.3\" font-family=\"Times,serif\" font-size=\"14.00\" fill=\"#000000\">samples = 237</text>\n<text text-anchor=\"middle\" x=\"285.5\" y=\"-104.3\" font-family=\"Times,serif\" font-size=\"14.00\" fill=\"#000000\">value = [0, 237]</text>\n</g>\n<!-- 8&#45;&gt;9 -->\n<g id=\"edge9\" class=\"edge\">\n<title>8&#45;&gt;9</title>\n<path fill=\"none\" stroke=\"#000000\" d=\"M286.8451,-192.9465C286.6397,-182.2621 286.412,-170.4254 286.2034,-159.5742\"/>\n<polygon fill=\"#000000\" stroke=\"#000000\" points=\"289.7021,-159.473 286.0104,-149.5422 282.7034,-159.6076 289.7021,-159.473\"/>\n</g>\n<!-- 10 -->\n<g id=\"node11\" class=\"node\">\n<title>10</title>\n<polygon fill=\"none\" stroke=\"#000000\" points=\"468,-157 359,-157 359,-89 468,-89 468,-157\"/>\n<text text-anchor=\"middle\" x=\"413.5\" y=\"-141.8\" font-family=\"Times,serif\" font-size=\"14.00\" fill=\"#000000\">X[29] &lt;= 1.284</text>\n<text text-anchor=\"middle\" x=\"413.5\" y=\"-126.8\" font-family=\"Times,serif\" font-size=\"14.00\" fill=\"#000000\">gini = 0.124</text>\n<text text-anchor=\"middle\" x=\"413.5\" y=\"-111.8\" font-family=\"Times,serif\" font-size=\"14.00\" fill=\"#000000\">samples = 15</text>\n<text text-anchor=\"middle\" x=\"413.5\" y=\"-96.8\" font-family=\"Times,serif\" font-size=\"14.00\" fill=\"#000000\">value = [1, 14]</text>\n</g>\n<!-- 8&#45;&gt;10 -->\n<g id=\"edge10\" class=\"edge\">\n<title>8&#45;&gt;10</title>\n<path fill=\"none\" stroke=\"#000000\" d=\"M328.7571,-192.9465C340.0701,-183.6088 352.4492,-173.3911 364.1658,-163.7203\"/>\n<polygon fill=\"#000000\" stroke=\"#000000\" points=\"366.6659,-166.195 372.1502,-157.13 362.21,-160.7964 366.6659,-166.195\"/>\n</g>\n<!-- 11 -->\n<g id=\"node12\" class=\"node\">\n<title>11</title>\n<polygon fill=\"none\" stroke=\"#000000\" points=\"402,-53 307,-53 307,0 402,0 402,-53\"/>\n<text text-anchor=\"middle\" x=\"354.5\" y=\"-37.8\" font-family=\"Times,serif\" font-size=\"14.00\" fill=\"#000000\">gini = 0.0</text>\n<text text-anchor=\"middle\" x=\"354.5\" y=\"-22.8\" font-family=\"Times,serif\" font-size=\"14.00\" fill=\"#000000\">samples = 1</text>\n<text text-anchor=\"middle\" x=\"354.5\" y=\"-7.8\" font-family=\"Times,serif\" font-size=\"14.00\" fill=\"#000000\">value = [1, 0]</text>\n</g>\n<!-- 10&#45;&gt;11 -->\n<g id=\"edge11\" class=\"edge\">\n<title>10&#45;&gt;11</title>\n<path fill=\"none\" stroke=\"#000000\" d=\"M392.6988,-88.9777C387.3242,-80.187 381.5265,-70.7044 376.1115,-61.8477\"/>\n<polygon fill=\"#000000\" stroke=\"#000000\" points=\"379.0564,-59.9545 370.854,-53.2485 373.0842,-63.6059 379.0564,-59.9545\"/>\n</g>\n<!-- 12 -->\n<g id=\"node13\" class=\"node\">\n<title>12</title>\n<polygon fill=\"none\" stroke=\"#000000\" points=\"522.5,-53 420.5,-53 420.5,0 522.5,0 522.5,-53\"/>\n<text text-anchor=\"middle\" x=\"471.5\" y=\"-37.8\" font-family=\"Times,serif\" font-size=\"14.00\" fill=\"#000000\">gini = 0.0</text>\n<text text-anchor=\"middle\" x=\"471.5\" y=\"-22.8\" font-family=\"Times,serif\" font-size=\"14.00\" fill=\"#000000\">samples = 14</text>\n<text text-anchor=\"middle\" x=\"471.5\" y=\"-7.8\" font-family=\"Times,serif\" font-size=\"14.00\" fill=\"#000000\">value = [0, 14]</text>\n</g>\n<!-- 10&#45;&gt;12 -->\n<g id=\"edge12\" class=\"edge\">\n<title>10&#45;&gt;12</title>\n<path fill=\"none\" stroke=\"#000000\" d=\"M433.9486,-88.9777C439.2322,-80.187 444.9316,-70.7044 450.2548,-61.8477\"/>\n<polygon fill=\"#000000\" stroke=\"#000000\" points=\"453.2715,-63.6225 455.4232,-53.2485 447.2718,-60.0165 453.2715,-63.6225\"/>\n</g>\n<!-- 15 -->\n<g id=\"node16\" class=\"node\">\n<title>15</title>\n<polygon fill=\"none\" stroke=\"#000000\" points=\"505,-357.5 410,-357.5 410,-304.5 505,-304.5 505,-357.5\"/>\n<text text-anchor=\"middle\" x=\"457.5\" y=\"-342.3\" font-family=\"Times,serif\" font-size=\"14.00\" fill=\"#000000\">gini = 0.0</text>\n<text text-anchor=\"middle\" x=\"457.5\" y=\"-327.3\" font-family=\"Times,serif\" font-size=\"14.00\" fill=\"#000000\">samples = 2</text>\n<text text-anchor=\"middle\" x=\"457.5\" y=\"-312.3\" font-family=\"Times,serif\" font-size=\"14.00\" fill=\"#000000\">value = [2, 0]</text>\n</g>\n<!-- 14&#45;&gt;15 -->\n<g id=\"edge15\" class=\"edge\">\n<title>14&#45;&gt;15</title>\n<path fill=\"none\" stroke=\"#000000\" d=\"M485.0751,-400.9465C480.7761,-390.0418 476.0039,-377.9368 471.6546,-366.9043\"/>\n<polygon fill=\"#000000\" stroke=\"#000000\" points=\"474.8875,-365.5617 467.9637,-357.5422 468.3753,-368.129 474.8875,-365.5617\"/>\n</g>\n<!-- 16 -->\n<g id=\"node17\" class=\"node\">\n<title>16</title>\n<polygon fill=\"none\" stroke=\"#000000\" points=\"618,-357.5 523,-357.5 523,-304.5 618,-304.5 618,-357.5\"/>\n<text text-anchor=\"middle\" x=\"570.5\" y=\"-342.3\" font-family=\"Times,serif\" font-size=\"14.00\" fill=\"#000000\">gini = 0.0</text>\n<text text-anchor=\"middle\" x=\"570.5\" y=\"-327.3\" font-family=\"Times,serif\" font-size=\"14.00\" fill=\"#000000\">samples = 1</text>\n<text text-anchor=\"middle\" x=\"570.5\" y=\"-312.3\" font-family=\"Times,serif\" font-size=\"14.00\" fill=\"#000000\">value = [0, 1]</text>\n</g>\n<!-- 14&#45;&gt;16 -->\n<g id=\"edge16\" class=\"edge\">\n<title>14&#45;&gt;16</title>\n<path fill=\"none\" stroke=\"#000000\" d=\"M522.0755,-400.9465C529.8537,-389.7113 538.5139,-377.2021 546.3355,-365.9043\"/>\n<polygon fill=\"#000000\" stroke=\"#000000\" points=\"549.3102,-367.7564 552.1247,-357.5422 543.5548,-363.7719 549.3102,-367.7564\"/>\n</g>\n<!-- 18 -->\n<g id=\"node19\" class=\"node\">\n<title>18</title>\n<polygon fill=\"none\" stroke=\"#000000\" points=\"695,-461.5 600,-461.5 600,-408.5 695,-408.5 695,-461.5\"/>\n<text text-anchor=\"middle\" x=\"647.5\" y=\"-446.3\" font-family=\"Times,serif\" font-size=\"14.00\" fill=\"#000000\">gini = 0.0</text>\n<text text-anchor=\"middle\" x=\"647.5\" y=\"-431.3\" font-family=\"Times,serif\" font-size=\"14.00\" fill=\"#000000\">samples = 6</text>\n<text text-anchor=\"middle\" x=\"647.5\" y=\"-416.3\" font-family=\"Times,serif\" font-size=\"14.00\" fill=\"#000000\">value = [0, 6]</text>\n</g>\n<!-- 17&#45;&gt;18 -->\n<g id=\"edge18\" class=\"edge\">\n<title>17&#45;&gt;18</title>\n<path fill=\"none\" stroke=\"#000000\" d=\"M667.6769,-504.9465C664.563,-494.1519 661.11,-482.1813 657.9535,-471.2389\"/>\n<polygon fill=\"#000000\" stroke=\"#000000\" points=\"661.291,-470.1803 655.1564,-461.5422 654.5652,-472.1205 661.291,-470.1803\"/>\n</g>\n<!-- 19 -->\n<g id=\"node20\" class=\"node\">\n<title>19</title>\n<polygon fill=\"none\" stroke=\"#000000\" points=\"819.5,-469 713.5,-469 713.5,-401 819.5,-401 819.5,-469\"/>\n<text text-anchor=\"middle\" x=\"766.5\" y=\"-453.8\" font-family=\"Times,serif\" font-size=\"14.00\" fill=\"#000000\">X[2] &lt;= &#45;0.271</text>\n<text text-anchor=\"middle\" x=\"766.5\" y=\"-438.8\" font-family=\"Times,serif\" font-size=\"14.00\" fill=\"#000000\">gini = 0.26</text>\n<text text-anchor=\"middle\" x=\"766.5\" y=\"-423.8\" font-family=\"Times,serif\" font-size=\"14.00\" fill=\"#000000\">samples = 13</text>\n<text text-anchor=\"middle\" x=\"766.5\" y=\"-408.8\" font-family=\"Times,serif\" font-size=\"14.00\" fill=\"#000000\">value = [11, 2]</text>\n</g>\n<!-- 17&#45;&gt;19 -->\n<g id=\"edge19\" class=\"edge\">\n<title>17&#45;&gt;19</title>\n<path fill=\"none\" stroke=\"#000000\" d=\"M706.6419,-504.9465C714.3255,-495.968 722.7053,-486.1758 730.6959,-476.8385\"/>\n<polygon fill=\"#000000\" stroke=\"#000000\" points=\"733.4499,-479.0034 737.2926,-469.13 728.1315,-474.4521 733.4499,-479.0034\"/>\n</g>\n<!-- 20 -->\n<g id=\"node21\" class=\"node\">\n<title>20</title>\n<polygon fill=\"none\" stroke=\"#000000\" points=\"737,-357.5 636,-357.5 636,-304.5 737,-304.5 737,-357.5\"/>\n<text text-anchor=\"middle\" x=\"686.5\" y=\"-342.3\" font-family=\"Times,serif\" font-size=\"14.00\" fill=\"#000000\">gini = 0.0</text>\n<text text-anchor=\"middle\" x=\"686.5\" y=\"-327.3\" font-family=\"Times,serif\" font-size=\"14.00\" fill=\"#000000\">samples = 11</text>\n<text text-anchor=\"middle\" x=\"686.5\" y=\"-312.3\" font-family=\"Times,serif\" font-size=\"14.00\" fill=\"#000000\">value = [11, 0]</text>\n</g>\n<!-- 19&#45;&gt;20 -->\n<g id=\"edge20\" class=\"edge\">\n<title>19&#45;&gt;20</title>\n<path fill=\"none\" stroke=\"#000000\" d=\"M740.305,-400.9465C731.5778,-389.6012 721.8513,-376.9567 713.0941,-365.5724\"/>\n<polygon fill=\"#000000\" stroke=\"#000000\" points=\"715.7884,-363.3344 706.917,-357.5422 710.24,-367.6024 715.7884,-363.3344\"/>\n</g>\n<!-- 21 -->\n<g id=\"node22\" class=\"node\">\n<title>21</title>\n<polygon fill=\"none\" stroke=\"#000000\" points=\"850,-357.5 755,-357.5 755,-304.5 850,-304.5 850,-357.5\"/>\n<text text-anchor=\"middle\" x=\"802.5\" y=\"-342.3\" font-family=\"Times,serif\" font-size=\"14.00\" fill=\"#000000\">gini = 0.0</text>\n<text text-anchor=\"middle\" x=\"802.5\" y=\"-327.3\" font-family=\"Times,serif\" font-size=\"14.00\" fill=\"#000000\">samples = 2</text>\n<text text-anchor=\"middle\" x=\"802.5\" y=\"-312.3\" font-family=\"Times,serif\" font-size=\"14.00\" fill=\"#000000\">value = [0, 2]</text>\n</g>\n<!-- 19&#45;&gt;21 -->\n<g id=\"edge21\" class=\"edge\">\n<title>19&#45;&gt;21</title>\n<path fill=\"none\" stroke=\"#000000\" d=\"M778.2877,-400.9465C782.0243,-390.1519 786.168,-378.1813 789.9558,-367.2389\"/>\n<polygon fill=\"#000000\" stroke=\"#000000\" points=\"793.3486,-368.1369 793.3123,-357.5422 786.7337,-365.8471 793.3486,-368.1369\"/>\n</g>\n<!-- 23 -->\n<g id=\"node24\" class=\"node\">\n<title>23</title>\n<polygon fill=\"none\" stroke=\"#000000\" points=\"1034.5,-573 924.5,-573 924.5,-505 1034.5,-505 1034.5,-573\"/>\n<text text-anchor=\"middle\" x=\"979.5\" y=\"-557.8\" font-family=\"Times,serif\" font-size=\"14.00\" fill=\"#000000\">X[25] &lt;= 0.238</text>\n<text text-anchor=\"middle\" x=\"979.5\" y=\"-542.8\" font-family=\"Times,serif\" font-size=\"14.00\" fill=\"#000000\">gini = 0.5</text>\n<text text-anchor=\"middle\" x=\"979.5\" y=\"-527.8\" font-family=\"Times,serif\" font-size=\"14.00\" fill=\"#000000\">samples = 35</text>\n<text text-anchor=\"middle\" x=\"979.5\" y=\"-512.8\" font-family=\"Times,serif\" font-size=\"14.00\" fill=\"#000000\">value = [17, 18]</text>\n</g>\n<!-- 22&#45;&gt;23 -->\n<g id=\"edge23\" class=\"edge\">\n<title>22&#45;&gt;23</title>\n<path fill=\"none\" stroke=\"#000000\" d=\"M979.5,-608.9465C979.5,-600.776 979.5,-591.9318 979.5,-583.3697\"/>\n<polygon fill=\"#000000\" stroke=\"#000000\" points=\"983.0001,-583.13 979.5,-573.13 976.0001,-583.13 983.0001,-583.13\"/>\n</g>\n<!-- 28 -->\n<g id=\"node29\" class=\"node\">\n<title>28</title>\n<polygon fill=\"none\" stroke=\"#000000\" points=\"1222.5,-573 1112.5,-573 1112.5,-505 1222.5,-505 1222.5,-573\"/>\n<text text-anchor=\"middle\" x=\"1167.5\" y=\"-557.8\" font-family=\"Times,serif\" font-size=\"14.00\" fill=\"#000000\">X[4] &lt;= 3.448</text>\n<text text-anchor=\"middle\" x=\"1167.5\" y=\"-542.8\" font-family=\"Times,serif\" font-size=\"14.00\" fill=\"#000000\">gini = 0.029</text>\n<text text-anchor=\"middle\" x=\"1167.5\" y=\"-527.8\" font-family=\"Times,serif\" font-size=\"14.00\" fill=\"#000000\">samples = 138</text>\n<text text-anchor=\"middle\" x=\"1167.5\" y=\"-512.8\" font-family=\"Times,serif\" font-size=\"14.00\" fill=\"#000000\">value = [136, 2]</text>\n</g>\n<!-- 22&#45;&gt;28 -->\n<g id=\"edge28\" class=\"edge\">\n<title>22&#45;&gt;28</title>\n<path fill=\"none\" stroke=\"#000000\" d=\"M1038.2111,-610.5215C1058.9504,-599.0487 1082.3708,-586.0927 1103.5246,-574.3906\"/>\n<polygon fill=\"#000000\" stroke=\"#000000\" points=\"1105.3812,-577.3635 1112.4373,-569.4602 1101.9927,-571.2383 1105.3812,-577.3635\"/>\n</g>\n<!-- 24 -->\n<g id=\"node25\" class=\"node\">\n<title>24</title>\n<polygon fill=\"none\" stroke=\"#000000\" points=\"974,-469 865,-469 865,-401 974,-401 974,-469\"/>\n<text text-anchor=\"middle\" x=\"919.5\" y=\"-453.8\" font-family=\"Times,serif\" font-size=\"14.00\" fill=\"#000000\">X[29] &lt;= 0.285</text>\n<text text-anchor=\"middle\" x=\"919.5\" y=\"-438.8\" font-family=\"Times,serif\" font-size=\"14.00\" fill=\"#000000\">gini = 0.298</text>\n<text text-anchor=\"middle\" x=\"919.5\" y=\"-423.8\" font-family=\"Times,serif\" font-size=\"14.00\" fill=\"#000000\">samples = 22</text>\n<text text-anchor=\"middle\" x=\"919.5\" y=\"-408.8\" font-family=\"Times,serif\" font-size=\"14.00\" fill=\"#000000\">value = [4, 18]</text>\n</g>\n<!-- 23&#45;&gt;24 -->\n<g id=\"edge24\" class=\"edge\">\n<title>23&#45;&gt;24</title>\n<path fill=\"none\" stroke=\"#000000\" d=\"M959.8538,-504.9465C954.881,-496.3271 949.4757,-486.9579 944.2852,-477.9611\"/>\n<polygon fill=\"#000000\" stroke=\"#000000\" points=\"947.2193,-476.0428 939.1904,-469.13 941.156,-479.5409 947.2193,-476.0428\"/>\n</g>\n<!-- 27 -->\n<g id=\"node28\" class=\"node\">\n<title>27</title>\n<polygon fill=\"none\" stroke=\"#000000\" points=\"1094.5,-461.5 992.5,-461.5 992.5,-408.5 1094.5,-408.5 1094.5,-461.5\"/>\n<text text-anchor=\"middle\" x=\"1043.5\" y=\"-446.3\" font-family=\"Times,serif\" font-size=\"14.00\" fill=\"#000000\">gini = 0.0</text>\n<text text-anchor=\"middle\" x=\"1043.5\" y=\"-431.3\" font-family=\"Times,serif\" font-size=\"14.00\" fill=\"#000000\">samples = 13</text>\n<text text-anchor=\"middle\" x=\"1043.5\" y=\"-416.3\" font-family=\"Times,serif\" font-size=\"14.00\" fill=\"#000000\">value = [13, 0]</text>\n</g>\n<!-- 23&#45;&gt;27 -->\n<g id=\"edge27\" class=\"edge\">\n<title>23&#45;&gt;27</title>\n<path fill=\"none\" stroke=\"#000000\" d=\"M1000.456,-504.9465C1007.3022,-493.8215 1014.9171,-481.4473 1021.8157,-470.237\"/>\n<polygon fill=\"#000000\" stroke=\"#000000\" points=\"1024.9061,-471.8931 1027.1664,-461.5422 1018.9445,-468.2244 1024.9061,-471.8931\"/>\n</g>\n<!-- 25 -->\n<g id=\"node26\" class=\"node\">\n<title>25</title>\n<polygon fill=\"none\" stroke=\"#000000\" points=\"970.5,-357.5 868.5,-357.5 868.5,-304.5 970.5,-304.5 970.5,-357.5\"/>\n<text text-anchor=\"middle\" x=\"919.5\" y=\"-342.3\" font-family=\"Times,serif\" font-size=\"14.00\" fill=\"#000000\">gini = 0.0</text>\n<text text-anchor=\"middle\" x=\"919.5\" y=\"-327.3\" font-family=\"Times,serif\" font-size=\"14.00\" fill=\"#000000\">samples = 18</text>\n<text text-anchor=\"middle\" x=\"919.5\" y=\"-312.3\" font-family=\"Times,serif\" font-size=\"14.00\" fill=\"#000000\">value = [0, 18]</text>\n</g>\n<!-- 24&#45;&gt;25 -->\n<g id=\"edge25\" class=\"edge\">\n<title>24&#45;&gt;25</title>\n<path fill=\"none\" stroke=\"#000000\" d=\"M919.5,-400.9465C919.5,-390.2621 919.5,-378.4254 919.5,-367.5742\"/>\n<polygon fill=\"#000000\" stroke=\"#000000\" points=\"923.0001,-367.5421 919.5,-357.5422 916.0001,-367.5422 923.0001,-367.5421\"/>\n</g>\n<!-- 26 -->\n<g id=\"node27\" class=\"node\">\n<title>26</title>\n<polygon fill=\"none\" stroke=\"#000000\" points=\"1084,-357.5 989,-357.5 989,-304.5 1084,-304.5 1084,-357.5\"/>\n<text text-anchor=\"middle\" x=\"1036.5\" y=\"-342.3\" font-family=\"Times,serif\" font-size=\"14.00\" fill=\"#000000\">gini = 0.0</text>\n<text text-anchor=\"middle\" x=\"1036.5\" y=\"-327.3\" font-family=\"Times,serif\" font-size=\"14.00\" fill=\"#000000\">samples = 4</text>\n<text text-anchor=\"middle\" x=\"1036.5\" y=\"-312.3\" font-family=\"Times,serif\" font-size=\"14.00\" fill=\"#000000\">value = [4, 0]</text>\n</g>\n<!-- 24&#45;&gt;26 -->\n<g id=\"edge26\" class=\"edge\">\n<title>24&#45;&gt;26</title>\n<path fill=\"none\" stroke=\"#000000\" d=\"M957.8102,-400.9465C971.0694,-389.1606 985.9058,-375.9726 999.0916,-364.2519\"/>\n<polygon fill=\"#000000\" stroke=\"#000000\" points=\"1001.4912,-366.8018 1006.6401,-357.5422 996.8407,-361.5699 1001.4912,-366.8018\"/>\n</g>\n<!-- 29 -->\n<g id=\"node30\" class=\"node\">\n<title>29</title>\n<polygon fill=\"none\" stroke=\"#000000\" points=\"1222.5,-461.5 1112.5,-461.5 1112.5,-408.5 1222.5,-408.5 1222.5,-461.5\"/>\n<text text-anchor=\"middle\" x=\"1167.5\" y=\"-446.3\" font-family=\"Times,serif\" font-size=\"14.00\" fill=\"#000000\">gini = 0.0</text>\n<text text-anchor=\"middle\" x=\"1167.5\" y=\"-431.3\" font-family=\"Times,serif\" font-size=\"14.00\" fill=\"#000000\">samples = 136</text>\n<text text-anchor=\"middle\" x=\"1167.5\" y=\"-416.3\" font-family=\"Times,serif\" font-size=\"14.00\" fill=\"#000000\">value = [136, 0]</text>\n</g>\n<!-- 28&#45;&gt;29 -->\n<g id=\"edge29\" class=\"edge\">\n<title>28&#45;&gt;29</title>\n<path fill=\"none\" stroke=\"#000000\" d=\"M1167.5,-504.9465C1167.5,-494.2621 1167.5,-482.4254 1167.5,-471.5742\"/>\n<polygon fill=\"#000000\" stroke=\"#000000\" points=\"1171.0001,-471.5421 1167.5,-461.5422 1164.0001,-471.5422 1171.0001,-471.5421\"/>\n</g>\n<!-- 30 -->\n<g id=\"node31\" class=\"node\">\n<title>30</title>\n<polygon fill=\"none\" stroke=\"#000000\" points=\"1336,-461.5 1241,-461.5 1241,-408.5 1336,-408.5 1336,-461.5\"/>\n<text text-anchor=\"middle\" x=\"1288.5\" y=\"-446.3\" font-family=\"Times,serif\" font-size=\"14.00\" fill=\"#000000\">gini = 0.0</text>\n<text text-anchor=\"middle\" x=\"1288.5\" y=\"-431.3\" font-family=\"Times,serif\" font-size=\"14.00\" fill=\"#000000\">samples = 2</text>\n<text text-anchor=\"middle\" x=\"1288.5\" y=\"-416.3\" font-family=\"Times,serif\" font-size=\"14.00\" fill=\"#000000\">value = [0, 2]</text>\n</g>\n<!-- 28&#45;&gt;30 -->\n<g id=\"edge30\" class=\"edge\">\n<title>28&#45;&gt;30</title>\n<path fill=\"none\" stroke=\"#000000\" d=\"M1207.1199,-504.9465C1220.8324,-493.1606 1236.1761,-479.9726 1249.8127,-468.2519\"/>\n<polygon fill=\"#000000\" stroke=\"#000000\" points=\"1252.3169,-470.7147 1257.6192,-461.5422 1247.7541,-465.4061 1252.3169,-470.7147\"/>\n</g>\n</g>\n</svg>\n"
          },
          "metadata": {
            "tags": []
          },
          "execution_count": 17
        }
      ]
    },
    {
      "cell_type": "markdown",
      "metadata": {
        "id": "AfS9lzxca6pz",
        "colab_type": "text"
      },
      "source": [
        "## Random Forest"
      ]
    },
    {
      "cell_type": "code",
      "metadata": {
        "id": "T7IMOEiJbJ61",
        "colab_type": "code",
        "colab": {}
      },
      "source": [
        "from sklearn.ensemble import RandomForestClassifier\n",
        "rf = RandomForestClassifier(n_estimators=200, random_state=0, n_jobs=-1).fit(X_train,y_train)"
      ],
      "execution_count": null,
      "outputs": []
    },
    {
      "cell_type": "code",
      "metadata": {
        "id": "3ao9X5q1d7d3",
        "colab_type": "code",
        "colab": {
          "base_uri": "https://localhost:8080/",
          "height": 265
        },
        "outputId": "0e07a4ea-9237-459e-b044-4c196629c760"
      },
      "source": [
        "#ROC/AUC Curve\n",
        "from sklearn import metrics\n",
        "y_test_prob=rf.predict_proba(X_test)[:,1]\n",
        "fpr,tpr, _=metrics.roc_curve(y_test,y_test_prob)\n",
        "auc=metrics.roc_auc_score(y_test,y_test_prob)\n",
        "plt.plot(fpr,tpr,label=\"area=\"+str(auc))\n",
        "plt.legend(loc=4)\n",
        "plt.show()"
      ],
      "execution_count": null,
      "outputs": [
        {
          "output_type": "display_data",
          "data": {
            "image/png": "[encoded data removed]",
            "text/plain": [
              "<Figure size 432x288 with 1 Axes>"
            ]
          },
          "metadata": {
            "tags": []
          }
        }
      ]
    },
    {
      "cell_type": "code",
      "metadata": {
        "id": "xOCMhQPieDXO",
        "colab_type": "code",
        "colab": {
          "base_uri": "https://localhost:8080/",
          "height": 34
        },
        "outputId": "88eac4d6-e931-4419-92be-e79ab70e30ad"
      },
      "source": [
        "log_loss(y_test,y_test_prob)"
      ],
      "execution_count": null,
      "outputs": [
        {
          "output_type": "execute_result",
          "data": {
            "text/plain": [
              "0.09530366381553619"
            ]
          },
          "metadata": {
            "tags": []
          },
          "execution_count": 10
        }
      ]
    },
    {
      "cell_type": "code",
      "metadata": {
        "id": "cWK6fdrTeJWm",
        "colab_type": "code",
        "colab": {
          "base_uri": "https://localhost:8080/",
          "height": 68
        },
        "outputId": "44846cd8-75e4-47e2-9922-90250de8576f"
      },
      "source": [
        "cm = confusion_matrix(y_test, rf.predict(X_test))\n",
        "cmtx = pd.DataFrame(cm, index=['true:no', 'true:yes'], columns=['pred:no', 'pred:yes'])\n",
        "print(cmtx)"
      ],
      "execution_count": null,
      "outputs": [
        {
          "output_type": "stream",
          "text": [
            "          pred:no  pred:yes\n",
            "true:no        40         3\n",
            "true:yes        1        70\n"
          ],
          "name": "stdout"
        }
      ]
    },
    {
      "cell_type": "code",
      "metadata": {
        "id": "-6T9BkYGeT1F",
        "colab_type": "code",
        "colab": {
          "base_uri": "https://localhost:8080/",
          "height": 170
        },
        "outputId": "fdbd7547-5fec-4129-d424-fe768b01f78d"
      },
      "source": [
        "print(classification_report(y_test, rf.predict(X_test)))"
      ],
      "execution_count": null,
      "outputs": [
        {
          "output_type": "stream",
          "text": [
            "              precision    recall  f1-score   support\n",
            "\n",
            "           0       0.98      0.93      0.95        43\n",
            "           1       0.96      0.99      0.97        71\n",
            "\n",
            "    accuracy                           0.96       114\n",
            "   macro avg       0.97      0.96      0.96       114\n",
            "weighted avg       0.97      0.96      0.96       114\n",
            "\n"
          ],
          "name": "stdout"
        }
      ]
    },
    {
      "cell_type": "code",
      "metadata": {
        "id": "0NcLgpjlefFD",
        "colab_type": "code",
        "colab": {
          "base_uri": "https://localhost:8080/",
          "height": 979
        },
        "outputId": "7839ac65-5da3-471b-b9e9-8807c107ff3c"
      },
      "source": [
        "rfCoeff = pd.concat([pd.DataFrame(X.columns),pd.DataFrame(np.transpose(rf.feature_importances_))], axis = 1)\n",
        "rfCoeff.columns=['Variable','Feature_Importance']\n",
        "rfCoeff.sort_values(by='Feature_Importance', ascending=False)"
      ],
      "execution_count": null,
      "outputs": [
        {
          "output_type": "execute_result",
          "data": {
            "text/html": [
              "<div>\n",
              "<style scoped>\n",
              "    .dataframe tbody tr th:only-of-type {\n",
              "        vertical-align: middle;\n",
              "    }\n",
              "\n",
              "    .dataframe tbody tr th {\n",
              "        vertical-align: top;\n",
              "    }\n",
              "\n",
              "    .dataframe thead th {\n",
              "        text-align: right;\n",
              "    }\n",
              "</style>\n",
              "<table border=\"1\" class=\"dataframe\">\n",
              "  <thead>\n",
              "    <tr style=\"text-align: right;\">\n",
              "      <th></th>\n",
              "      <th>Variable</th>\n",
              "      <th>Feature_Importance</th>\n",
              "    </tr>\n",
              "  </thead>\n",
              "  <tbody>\n",
              "    <tr>\n",
              "      <th>22</th>\n",
              "      <td>worst concave points</td>\n",
              "      <td>0.132792</td>\n",
              "    </tr>\n",
              "    <tr>\n",
              "      <th>7</th>\n",
              "      <td>mean concave points</td>\n",
              "      <td>0.130294</td>\n",
              "    </tr>\n",
              "    <tr>\n",
              "      <th>20</th>\n",
              "      <td>worst area</td>\n",
              "      <td>0.107588</td>\n",
              "    </tr>\n",
              "    <tr>\n",
              "      <th>26</th>\n",
              "      <td>worst radius</td>\n",
              "      <td>0.101616</td>\n",
              "    </tr>\n",
              "    <tr>\n",
              "      <th>25</th>\n",
              "      <td>worst perimeter</td>\n",
              "      <td>0.101142</td>\n",
              "    </tr>\n",
              "    <tr>\n",
              "      <th>10</th>\n",
              "      <td>mean perimeter</td>\n",
              "      <td>0.066317</td>\n",
              "    </tr>\n",
              "    <tr>\n",
              "      <th>5</th>\n",
              "      <td>mean area</td>\n",
              "      <td>0.048780</td>\n",
              "    </tr>\n",
              "    <tr>\n",
              "      <th>8</th>\n",
              "      <td>mean concavity</td>\n",
              "      <td>0.036679</td>\n",
              "    </tr>\n",
              "    <tr>\n",
              "      <th>23</th>\n",
              "      <td>worst concavity</td>\n",
              "      <td>0.032749</td>\n",
              "    </tr>\n",
              "    <tr>\n",
              "      <th>0</th>\n",
              "      <td>area error</td>\n",
              "      <td>0.030068</td>\n",
              "    </tr>\n",
              "    <tr>\n",
              "      <th>11</th>\n",
              "      <td>mean radius</td>\n",
              "      <td>0.027799</td>\n",
              "    </tr>\n",
              "    <tr>\n",
              "      <th>29</th>\n",
              "      <td>worst texture</td>\n",
              "      <td>0.024203</td>\n",
              "    </tr>\n",
              "    <tr>\n",
              "      <th>6</th>\n",
              "      <td>mean compactness</td>\n",
              "      <td>0.018433</td>\n",
              "    </tr>\n",
              "    <tr>\n",
              "      <th>14</th>\n",
              "      <td>mean texture</td>\n",
              "      <td>0.014699</td>\n",
              "    </tr>\n",
              "    <tr>\n",
              "      <th>28</th>\n",
              "      <td>worst symmetry</td>\n",
              "      <td>0.014688</td>\n",
              "    </tr>\n",
              "    <tr>\n",
              "      <th>16</th>\n",
              "      <td>radius error</td>\n",
              "      <td>0.014051</td>\n",
              "    </tr>\n",
              "    <tr>\n",
              "      <th>27</th>\n",
              "      <td>worst smoothness</td>\n",
              "      <td>0.014010</td>\n",
              "    </tr>\n",
              "    <tr>\n",
              "      <th>21</th>\n",
              "      <td>worst compactness</td>\n",
              "      <td>0.013717</td>\n",
              "    </tr>\n",
              "    <tr>\n",
              "      <th>15</th>\n",
              "      <td>perimeter error</td>\n",
              "      <td>0.012127</td>\n",
              "    </tr>\n",
              "    <tr>\n",
              "      <th>3</th>\n",
              "      <td>concavity error</td>\n",
              "      <td>0.006985</td>\n",
              "    </tr>\n",
              "    <tr>\n",
              "      <th>24</th>\n",
              "      <td>worst fractal dimension</td>\n",
              "      <td>0.006982</td>\n",
              "    </tr>\n",
              "    <tr>\n",
              "      <th>12</th>\n",
              "      <td>mean smoothness</td>\n",
              "      <td>0.006703</td>\n",
              "    </tr>\n",
              "    <tr>\n",
              "      <th>4</th>\n",
              "      <td>fractal dimension error</td>\n",
              "      <td>0.005663</td>\n",
              "    </tr>\n",
              "    <tr>\n",
              "      <th>9</th>\n",
              "      <td>mean fractal dimension</td>\n",
              "      <td>0.005311</td>\n",
              "    </tr>\n",
              "    <tr>\n",
              "      <th>13</th>\n",
              "      <td>mean symmetry</td>\n",
              "      <td>0.005247</td>\n",
              "    </tr>\n",
              "    <tr>\n",
              "      <th>2</th>\n",
              "      <td>concave points error</td>\n",
              "      <td>0.004920</td>\n",
              "    </tr>\n",
              "    <tr>\n",
              "      <th>18</th>\n",
              "      <td>symmetry error</td>\n",
              "      <td>0.004454</td>\n",
              "    </tr>\n",
              "    <tr>\n",
              "      <th>19</th>\n",
              "      <td>texture error</td>\n",
              "      <td>0.004161</td>\n",
              "    </tr>\n",
              "    <tr>\n",
              "      <th>1</th>\n",
              "      <td>compactness error</td>\n",
              "      <td>0.004103</td>\n",
              "    </tr>\n",
              "    <tr>\n",
              "      <th>17</th>\n",
              "      <td>smoothness error</td>\n",
              "      <td>0.003719</td>\n",
              "    </tr>\n",
              "  </tbody>\n",
              "</table>\n",
              "</div>"
            ],
            "text/plain": [
              "                   Variable  Feature_Importance\n",
              "22     worst concave points            0.132792\n",
              "7       mean concave points            0.130294\n",
              "20               worst area            0.107588\n",
              "26             worst radius            0.101616\n",
              "25          worst perimeter            0.101142\n",
              "10           mean perimeter            0.066317\n",
              "5                 mean area            0.048780\n",
              "8            mean concavity            0.036679\n",
              "23          worst concavity            0.032749\n",
              "0                area error            0.030068\n",
              "11              mean radius            0.027799\n",
              "29            worst texture            0.024203\n",
              "6          mean compactness            0.018433\n",
              "14             mean texture            0.014699\n",
              "28           worst symmetry            0.014688\n",
              "16             radius error            0.014051\n",
              "27         worst smoothness            0.014010\n",
              "21        worst compactness            0.013717\n",
              "15          perimeter error            0.012127\n",
              "3           concavity error            0.006985\n",
              "24  worst fractal dimension            0.006982\n",
              "12          mean smoothness            0.006703\n",
              "4   fractal dimension error            0.005663\n",
              "9    mean fractal dimension            0.005311\n",
              "13            mean symmetry            0.005247\n",
              "2      concave points error            0.004920\n",
              "18           symmetry error            0.004454\n",
              "19            texture error            0.004161\n",
              "1         compactness error            0.004103\n",
              "17         smoothness error            0.003719"
            ]
          },
          "metadata": {
            "tags": []
          },
          "execution_count": 14
        }
      ]
    },
    {
      "cell_type": "markdown",
      "metadata": {
        "id": "HjMH6dcqK7U_",
        "colab_type": "text"
      },
      "source": [
        "To see how the feature importance are calculated, check out this: https://www.displayr.com/how-is-variable-importance-calculated-for-a-random-forest/\n",
        "and this is: https://stackoverflow.com/questions/15810339/how-are-feature-importances-in-randomforestclassifier-determined"
      ]
    },
    {
      "cell_type": "markdown",
      "metadata": {
        "id": "HQbcPQbi9P1g",
        "colab_type": "text"
      },
      "source": [
        "## Extra Tree"
      ]
    },
    {
      "cell_type": "markdown",
      "metadata": {
        "id": "Qqg9OjPpDI66",
        "colab_type": "text"
      },
      "source": [
        "Extra Tree is also called Extreme Randomized Trees. Comparing to Random Forest\n",
        "\n",
        "\n",
        "1.   When choosing variables at a split, samples are drawn from the entire training set instead of a bootstrap sample of the training set.\n",
        "2.   Splits are chosen completely at random from the range of values in the sample at each split.\n",
        "\n"
      ]
    },
    {
      "cell_type": "code",
      "metadata": {
        "id": "xbWHZJn89XhV",
        "colab_type": "code",
        "colab": {}
      },
      "source": [
        "from sklearn.ensemble import ExtraTreesClassifier"
      ],
      "execution_count": null,
      "outputs": []
    },
    {
      "cell_type": "code",
      "metadata": {
        "id": "tRCnClq7-Sqk",
        "colab_type": "code",
        "colab": {}
      },
      "source": [
        "et = ExtraTreesClassifier(n_estimators=200, random_state=0, n_jobs=-1).fit(X_train,y_train)"
      ],
      "execution_count": null,
      "outputs": []
    },
    {
      "cell_type": "code",
      "metadata": {
        "id": "6TWHYpl2-Smp",
        "colab_type": "code",
        "colab": {
          "base_uri": "https://localhost:8080/",
          "height": 265
        },
        "outputId": "869f8b6d-9b93-4d11-b28d-d23a67ae06e0"
      },
      "source": [
        "#ROC/AUC Curve\n",
        "from sklearn import metrics\n",
        "y_test_prob=et.predict_proba(X_test)[:,1]\n",
        "fpr,tpr, _=metrics.roc_curve(y_test,y_test_prob)\n",
        "auc=metrics.roc_auc_score(y_test,y_test_prob)\n",
        "plt.plot(fpr,tpr,label=\"area=\"+str(auc))\n",
        "plt.legend(loc=4)\n",
        "plt.show()"
      ],
      "execution_count": null,
      "outputs": [
        {
          "output_type": "display_data",
          "data": {
            "image/png": "[encoded data removed]",
            "text/plain": [
              "<Figure size 432x288 with 1 Axes>"
            ]
          },
          "metadata": {
            "tags": []
          }
        }
      ]
    },
    {
      "cell_type": "code",
      "metadata": {
        "id": "Nei_aO7b-SiM",
        "colab_type": "code",
        "colab": {
          "base_uri": "https://localhost:8080/",
          "height": 34
        },
        "outputId": "9119caf7-2275-46d1-a858-c4f5eb5ddc63"
      },
      "source": [
        "log_loss(y_test,y_test_prob)"
      ],
      "execution_count": null,
      "outputs": [
        {
          "output_type": "execute_result",
          "data": {
            "text/plain": [
              "0.08844002670869902"
            ]
          },
          "metadata": {
            "tags": []
          },
          "execution_count": 13
        }
      ]
    },
    {
      "cell_type": "code",
      "metadata": {
        "id": "QbO1QCGF-SdH",
        "colab_type": "code",
        "colab": {
          "base_uri": "https://localhost:8080/",
          "height": 68
        },
        "outputId": "9d0113d0-1cdd-403f-aced-0449e26b90d0"
      },
      "source": [
        "cm = confusion_matrix(y_test, et.predict(X_test))\n",
        "cmtx = pd.DataFrame(cm, index=['true:no', 'true:yes'], columns=['pred:no', 'pred:yes'])\n",
        "print(cmtx)"
      ],
      "execution_count": null,
      "outputs": [
        {
          "output_type": "stream",
          "text": [
            "          pred:no  pred:yes\n",
            "true:no        41         2\n",
            "true:yes        1        70\n"
          ],
          "name": "stdout"
        }
      ]
    },
    {
      "cell_type": "code",
      "metadata": {
        "id": "SJq0HuHk-SXp",
        "colab_type": "code",
        "colab": {
          "base_uri": "https://localhost:8080/",
          "height": 170
        },
        "outputId": "62ac4e56-a6c5-4db7-e51a-9a41c7d5e763"
      },
      "source": [
        "print(classification_report(y_test, et.predict(X_test)))"
      ],
      "execution_count": null,
      "outputs": [
        {
          "output_type": "stream",
          "text": [
            "              precision    recall  f1-score   support\n",
            "\n",
            "           0       0.98      0.95      0.96        43\n",
            "           1       0.97      0.99      0.98        71\n",
            "\n",
            "    accuracy                           0.97       114\n",
            "   macro avg       0.97      0.97      0.97       114\n",
            "weighted avg       0.97      0.97      0.97       114\n",
            "\n"
          ],
          "name": "stdout"
        }
      ]
    },
    {
      "cell_type": "code",
      "metadata": {
        "id": "feB44upnAvqF",
        "colab_type": "code",
        "colab": {
          "base_uri": "https://localhost:8080/",
          "height": 979
        },
        "outputId": "277eb557-23e3-4748-f961-7cee9456c9e5"
      },
      "source": [
        "etCoeff = pd.concat([pd.DataFrame(X.columns),pd.DataFrame(np.transpose(et.feature_importances_))], axis = 1)\n",
        "etCoeff.columns=['Variable','Feature_Importance']\n",
        "etCoeff.sort_values(by='Feature_Importance', ascending=False)"
      ],
      "execution_count": null,
      "outputs": [
        {
          "output_type": "execute_result",
          "data": {
            "text/html": [
              "<div>\n",
              "<style scoped>\n",
              "    .dataframe tbody tr th:only-of-type {\n",
              "        vertical-align: middle;\n",
              "    }\n",
              "\n",
              "    .dataframe tbody tr th {\n",
              "        vertical-align: top;\n",
              "    }\n",
              "\n",
              "    .dataframe thead th {\n",
              "        text-align: right;\n",
              "    }\n",
              "</style>\n",
              "<table border=\"1\" class=\"dataframe\">\n",
              "  <thead>\n",
              "    <tr style=\"text-align: right;\">\n",
              "      <th></th>\n",
              "      <th>Variable</th>\n",
              "      <th>Feature_Importance</th>\n",
              "    </tr>\n",
              "  </thead>\n",
              "  <tbody>\n",
              "    <tr>\n",
              "      <th>22</th>\n",
              "      <td>worst concave points</td>\n",
              "      <td>0.106496</td>\n",
              "    </tr>\n",
              "    <tr>\n",
              "      <th>26</th>\n",
              "      <td>worst radius</td>\n",
              "      <td>0.096859</td>\n",
              "    </tr>\n",
              "    <tr>\n",
              "      <th>25</th>\n",
              "      <td>worst perimeter</td>\n",
              "      <td>0.090883</td>\n",
              "    </tr>\n",
              "    <tr>\n",
              "      <th>7</th>\n",
              "      <td>mean concave points</td>\n",
              "      <td>0.081943</td>\n",
              "    </tr>\n",
              "    <tr>\n",
              "      <th>20</th>\n",
              "      <td>worst area</td>\n",
              "      <td>0.076494</td>\n",
              "    </tr>\n",
              "    <tr>\n",
              "      <th>11</th>\n",
              "      <td>mean radius</td>\n",
              "      <td>0.061440</td>\n",
              "    </tr>\n",
              "    <tr>\n",
              "      <th>10</th>\n",
              "      <td>mean perimeter</td>\n",
              "      <td>0.056507</td>\n",
              "    </tr>\n",
              "    <tr>\n",
              "      <th>5</th>\n",
              "      <td>mean area</td>\n",
              "      <td>0.045632</td>\n",
              "    </tr>\n",
              "    <tr>\n",
              "      <th>8</th>\n",
              "      <td>mean concavity</td>\n",
              "      <td>0.043292</td>\n",
              "    </tr>\n",
              "    <tr>\n",
              "      <th>23</th>\n",
              "      <td>worst concavity</td>\n",
              "      <td>0.040792</td>\n",
              "    </tr>\n",
              "    <tr>\n",
              "      <th>21</th>\n",
              "      <td>worst compactness</td>\n",
              "      <td>0.034484</td>\n",
              "    </tr>\n",
              "    <tr>\n",
              "      <th>29</th>\n",
              "      <td>worst texture</td>\n",
              "      <td>0.027472</td>\n",
              "    </tr>\n",
              "    <tr>\n",
              "      <th>6</th>\n",
              "      <td>mean compactness</td>\n",
              "      <td>0.023617</td>\n",
              "    </tr>\n",
              "    <tr>\n",
              "      <th>0</th>\n",
              "      <td>area error</td>\n",
              "      <td>0.023497</td>\n",
              "    </tr>\n",
              "    <tr>\n",
              "      <th>14</th>\n",
              "      <td>mean texture</td>\n",
              "      <td>0.022998</td>\n",
              "    </tr>\n",
              "    <tr>\n",
              "      <th>27</th>\n",
              "      <td>worst smoothness</td>\n",
              "      <td>0.022060</td>\n",
              "    </tr>\n",
              "    <tr>\n",
              "      <th>16</th>\n",
              "      <td>radius error</td>\n",
              "      <td>0.019717</td>\n",
              "    </tr>\n",
              "    <tr>\n",
              "      <th>28</th>\n",
              "      <td>worst symmetry</td>\n",
              "      <td>0.018788</td>\n",
              "    </tr>\n",
              "    <tr>\n",
              "      <th>15</th>\n",
              "      <td>perimeter error</td>\n",
              "      <td>0.018269</td>\n",
              "    </tr>\n",
              "    <tr>\n",
              "      <th>24</th>\n",
              "      <td>worst fractal dimension</td>\n",
              "      <td>0.011981</td>\n",
              "    </tr>\n",
              "    <tr>\n",
              "      <th>2</th>\n",
              "      <td>concave points error</td>\n",
              "      <td>0.011379</td>\n",
              "    </tr>\n",
              "    <tr>\n",
              "      <th>12</th>\n",
              "      <td>mean smoothness</td>\n",
              "      <td>0.009098</td>\n",
              "    </tr>\n",
              "    <tr>\n",
              "      <th>3</th>\n",
              "      <td>concavity error</td>\n",
              "      <td>0.008972</td>\n",
              "    </tr>\n",
              "    <tr>\n",
              "      <th>13</th>\n",
              "      <td>mean symmetry</td>\n",
              "      <td>0.008891</td>\n",
              "    </tr>\n",
              "    <tr>\n",
              "      <th>9</th>\n",
              "      <td>mean fractal dimension</td>\n",
              "      <td>0.007716</td>\n",
              "    </tr>\n",
              "    <tr>\n",
              "      <th>1</th>\n",
              "      <td>compactness error</td>\n",
              "      <td>0.006540</td>\n",
              "    </tr>\n",
              "    <tr>\n",
              "      <th>17</th>\n",
              "      <td>smoothness error</td>\n",
              "      <td>0.006435</td>\n",
              "    </tr>\n",
              "    <tr>\n",
              "      <th>4</th>\n",
              "      <td>fractal dimension error</td>\n",
              "      <td>0.006001</td>\n",
              "    </tr>\n",
              "    <tr>\n",
              "      <th>18</th>\n",
              "      <td>symmetry error</td>\n",
              "      <td>0.005979</td>\n",
              "    </tr>\n",
              "    <tr>\n",
              "      <th>19</th>\n",
              "      <td>texture error</td>\n",
              "      <td>0.005767</td>\n",
              "    </tr>\n",
              "  </tbody>\n",
              "</table>\n",
              "</div>"
            ],
            "text/plain": [
              "                   Variable  Feature_Importance\n",
              "22     worst concave points            0.106496\n",
              "26             worst radius            0.096859\n",
              "25          worst perimeter            0.090883\n",
              "7       mean concave points            0.081943\n",
              "20               worst area            0.076494\n",
              "11              mean radius            0.061440\n",
              "10           mean perimeter            0.056507\n",
              "5                 mean area            0.045632\n",
              "8            mean concavity            0.043292\n",
              "23          worst concavity            0.040792\n",
              "21        worst compactness            0.034484\n",
              "29            worst texture            0.027472\n",
              "6          mean compactness            0.023617\n",
              "0                area error            0.023497\n",
              "14             mean texture            0.022998\n",
              "27         worst smoothness            0.022060\n",
              "16             radius error            0.019717\n",
              "28           worst symmetry            0.018788\n",
              "15          perimeter error            0.018269\n",
              "24  worst fractal dimension            0.011981\n",
              "2      concave points error            0.011379\n",
              "12          mean smoothness            0.009098\n",
              "3           concavity error            0.008972\n",
              "13            mean symmetry            0.008891\n",
              "9    mean fractal dimension            0.007716\n",
              "1         compactness error            0.006540\n",
              "17         smoothness error            0.006435\n",
              "4   fractal dimension error            0.006001\n",
              "18           symmetry error            0.005979\n",
              "19            texture error            0.005767"
            ]
          },
          "metadata": {
            "tags": []
          },
          "execution_count": 16
        }
      ]
    },
    {
      "cell_type": "markdown",
      "metadata": {
        "id": "29qmw3_hfPdc",
        "colab_type": "text"
      },
      "source": [
        "## Gradient Boosting Machine (GBM)"
      ]
    },
    {
      "cell_type": "code",
      "metadata": {
        "id": "veQGMGape9Oa",
        "colab_type": "code",
        "colab": {}
      },
      "source": [
        "from sklearn.ensemble import GradientBoostingClassifier\n",
        "gb = GradientBoostingClassifier(n_estimators=200, random_state=42).fit(X_train,y_train)"
      ],
      "execution_count": null,
      "outputs": []
    },
    {
      "cell_type": "code",
      "metadata": {
        "id": "KeOqKjY_he-R",
        "colab_type": "code",
        "colab": {
          "base_uri": "https://localhost:8080/",
          "height": 265
        },
        "outputId": "14f6cacc-d915-4c47-df1d-87795d579f2d"
      },
      "source": [
        "#ROC/AUC Curve\n",
        "from sklearn import metrics\n",
        "y_test_prob=gb.predict_proba(X_test)[:,1]\n",
        "fpr,tpr, _=metrics.roc_curve(y_test,y_test_prob)\n",
        "auc=metrics.roc_auc_score(y_test,y_test_prob)\n",
        "plt.plot(fpr,tpr,label=\"area=\"+str(auc))\n",
        "plt.legend(loc=4)\n",
        "plt.show()"
      ],
      "execution_count": null,
      "outputs": [
        {
          "output_type": "display_data",
          "data": {
            "image/png": "[encoded data removed]",
            "text/plain": [
              "<Figure size 432x288 with 1 Axes>"
            ]
          },
          "metadata": {
            "tags": []
          }
        }
      ]
    },
    {
      "cell_type": "code",
      "metadata": {
        "id": "oWDtfWq-hoNm",
        "colab_type": "code",
        "colab": {
          "base_uri": "https://localhost:8080/",
          "height": 34
        },
        "outputId": "4891824e-86b0-43d2-a9f4-2caaa61a6f86"
      },
      "source": [
        "log_loss(y_test,y_test_prob)"
      ],
      "execution_count": null,
      "outputs": [
        {
          "output_type": "execute_result",
          "data": {
            "text/plain": [
              "0.14101327847160175"
            ]
          },
          "metadata": {
            "tags": []
          },
          "execution_count": 21
        }
      ]
    },
    {
      "cell_type": "code",
      "metadata": {
        "id": "PopfnfK5h_2D",
        "colab_type": "code",
        "colab": {
          "base_uri": "https://localhost:8080/",
          "height": 68
        },
        "outputId": "0eb69638-e54d-44d0-b30a-c8a0a019b96e"
      },
      "source": [
        "cm = confusion_matrix(y_test, rf.predict(X_test))\n",
        "cmtx = pd.DataFrame(cm, index=['true:no', 'true:yes'], columns=['pred:no', 'pred:yes'])\n",
        "print(cmtx)"
      ],
      "execution_count": null,
      "outputs": [
        {
          "output_type": "stream",
          "text": [
            "          pred:no  pred:yes\n",
            "true:no        40         3\n",
            "true:yes        1        70\n"
          ],
          "name": "stdout"
        }
      ]
    },
    {
      "cell_type": "code",
      "metadata": {
        "id": "D-1wZp0SiGRC",
        "colab_type": "code",
        "colab": {
          "base_uri": "https://localhost:8080/",
          "height": 170
        },
        "outputId": "4591c044-7df2-4e6b-b43a-047478de209d"
      },
      "source": [
        "print(classification_report(y_test, gb.predict(X_test)))"
      ],
      "execution_count": null,
      "outputs": [
        {
          "output_type": "stream",
          "text": [
            "              precision    recall  f1-score   support\n",
            "\n",
            "           0       0.95      0.93      0.94        43\n",
            "           1       0.96      0.97      0.97        71\n",
            "\n",
            "    accuracy                           0.96       114\n",
            "   macro avg       0.96      0.95      0.95       114\n",
            "weighted avg       0.96      0.96      0.96       114\n",
            "\n"
          ],
          "name": "stdout"
        }
      ]
    },
    {
      "cell_type": "code",
      "metadata": {
        "id": "SU8f5mhViO1y",
        "colab_type": "code",
        "colab": {
          "base_uri": "https://localhost:8080/",
          "height": 979
        },
        "outputId": "8d7ed125-5cd3-4fc7-d00f-6233029fded5"
      },
      "source": [
        "gbCoeff = pd.concat([pd.DataFrame(X.columns),pd.DataFrame(np.transpose(gb.feature_importances_))], axis = 1)\n",
        "gbCoeff.columns=['Variable','Feature_Importance']\n",
        "gbCoeff.sort_values(by='Feature_Importance', ascending=False)"
      ],
      "execution_count": null,
      "outputs": [
        {
          "output_type": "execute_result",
          "data": {
            "text/html": [
              "<div>\n",
              "<style scoped>\n",
              "    .dataframe tbody tr th:only-of-type {\n",
              "        vertical-align: middle;\n",
              "    }\n",
              "\n",
              "    .dataframe tbody tr th {\n",
              "        vertical-align: top;\n",
              "    }\n",
              "\n",
              "    .dataframe thead th {\n",
              "        text-align: right;\n",
              "    }\n",
              "</style>\n",
              "<table border=\"1\" class=\"dataframe\">\n",
              "  <thead>\n",
              "    <tr style=\"text-align: right;\">\n",
              "      <th></th>\n",
              "      <th>Variable</th>\n",
              "      <th>Feature_Importance</th>\n",
              "    </tr>\n",
              "  </thead>\n",
              "  <tbody>\n",
              "    <tr>\n",
              "      <th>7</th>\n",
              "      <td>mean concave points</td>\n",
              "      <td>0.449199</td>\n",
              "    </tr>\n",
              "    <tr>\n",
              "      <th>22</th>\n",
              "      <td>worst concave points</td>\n",
              "      <td>0.240309</td>\n",
              "    </tr>\n",
              "    <tr>\n",
              "      <th>26</th>\n",
              "      <td>worst radius</td>\n",
              "      <td>0.075687</td>\n",
              "    </tr>\n",
              "    <tr>\n",
              "      <th>29</th>\n",
              "      <td>worst texture</td>\n",
              "      <td>0.052612</td>\n",
              "    </tr>\n",
              "    <tr>\n",
              "      <th>25</th>\n",
              "      <td>worst perimeter</td>\n",
              "      <td>0.051188</td>\n",
              "    </tr>\n",
              "    <tr>\n",
              "      <th>20</th>\n",
              "      <td>worst area</td>\n",
              "      <td>0.037637</td>\n",
              "    </tr>\n",
              "    <tr>\n",
              "      <th>23</th>\n",
              "      <td>worst concavity</td>\n",
              "      <td>0.018290</td>\n",
              "    </tr>\n",
              "    <tr>\n",
              "      <th>3</th>\n",
              "      <td>concavity error</td>\n",
              "      <td>0.015707</td>\n",
              "    </tr>\n",
              "    <tr>\n",
              "      <th>14</th>\n",
              "      <td>mean texture</td>\n",
              "      <td>0.015107</td>\n",
              "    </tr>\n",
              "    <tr>\n",
              "      <th>0</th>\n",
              "      <td>area error</td>\n",
              "      <td>0.009677</td>\n",
              "    </tr>\n",
              "    <tr>\n",
              "      <th>16</th>\n",
              "      <td>radius error</td>\n",
              "      <td>0.007076</td>\n",
              "    </tr>\n",
              "    <tr>\n",
              "      <th>27</th>\n",
              "      <td>worst smoothness</td>\n",
              "      <td>0.004810</td>\n",
              "    </tr>\n",
              "    <tr>\n",
              "      <th>19</th>\n",
              "      <td>texture error</td>\n",
              "      <td>0.004626</td>\n",
              "    </tr>\n",
              "    <tr>\n",
              "      <th>8</th>\n",
              "      <td>mean concavity</td>\n",
              "      <td>0.002587</td>\n",
              "    </tr>\n",
              "    <tr>\n",
              "      <th>12</th>\n",
              "      <td>mean smoothness</td>\n",
              "      <td>0.002214</td>\n",
              "    </tr>\n",
              "    <tr>\n",
              "      <th>13</th>\n",
              "      <td>mean symmetry</td>\n",
              "      <td>0.002123</td>\n",
              "    </tr>\n",
              "    <tr>\n",
              "      <th>2</th>\n",
              "      <td>concave points error</td>\n",
              "      <td>0.001982</td>\n",
              "    </tr>\n",
              "    <tr>\n",
              "      <th>6</th>\n",
              "      <td>mean compactness</td>\n",
              "      <td>0.001970</td>\n",
              "    </tr>\n",
              "    <tr>\n",
              "      <th>1</th>\n",
              "      <td>compactness error</td>\n",
              "      <td>0.001435</td>\n",
              "    </tr>\n",
              "    <tr>\n",
              "      <th>5</th>\n",
              "      <td>mean area</td>\n",
              "      <td>0.000998</td>\n",
              "    </tr>\n",
              "    <tr>\n",
              "      <th>28</th>\n",
              "      <td>worst symmetry</td>\n",
              "      <td>0.000925</td>\n",
              "    </tr>\n",
              "    <tr>\n",
              "      <th>17</th>\n",
              "      <td>smoothness error</td>\n",
              "      <td>0.000902</td>\n",
              "    </tr>\n",
              "    <tr>\n",
              "      <th>4</th>\n",
              "      <td>fractal dimension error</td>\n",
              "      <td>0.000815</td>\n",
              "    </tr>\n",
              "    <tr>\n",
              "      <th>18</th>\n",
              "      <td>symmetry error</td>\n",
              "      <td>0.000709</td>\n",
              "    </tr>\n",
              "    <tr>\n",
              "      <th>21</th>\n",
              "      <td>worst compactness</td>\n",
              "      <td>0.000379</td>\n",
              "    </tr>\n",
              "    <tr>\n",
              "      <th>15</th>\n",
              "      <td>perimeter error</td>\n",
              "      <td>0.000368</td>\n",
              "    </tr>\n",
              "    <tr>\n",
              "      <th>9</th>\n",
              "      <td>mean fractal dimension</td>\n",
              "      <td>0.000319</td>\n",
              "    </tr>\n",
              "    <tr>\n",
              "      <th>10</th>\n",
              "      <td>mean perimeter</td>\n",
              "      <td>0.000218</td>\n",
              "    </tr>\n",
              "    <tr>\n",
              "      <th>24</th>\n",
              "      <td>worst fractal dimension</td>\n",
              "      <td>0.000125</td>\n",
              "    </tr>\n",
              "    <tr>\n",
              "      <th>11</th>\n",
              "      <td>mean radius</td>\n",
              "      <td>0.000008</td>\n",
              "    </tr>\n",
              "  </tbody>\n",
              "</table>\n",
              "</div>"
            ],
            "text/plain": [
              "                   Variable  Feature_Importance\n",
              "7       mean concave points            0.449199\n",
              "22     worst concave points            0.240309\n",
              "26             worst radius            0.075687\n",
              "29            worst texture            0.052612\n",
              "25          worst perimeter            0.051188\n",
              "20               worst area            0.037637\n",
              "23          worst concavity            0.018290\n",
              "3           concavity error            0.015707\n",
              "14             mean texture            0.015107\n",
              "0                area error            0.009677\n",
              "16             radius error            0.007076\n",
              "27         worst smoothness            0.004810\n",
              "19            texture error            0.004626\n",
              "8            mean concavity            0.002587\n",
              "12          mean smoothness            0.002214\n",
              "13            mean symmetry            0.002123\n",
              "2      concave points error            0.001982\n",
              "6          mean compactness            0.001970\n",
              "1         compactness error            0.001435\n",
              "5                 mean area            0.000998\n",
              "28           worst symmetry            0.000925\n",
              "17         smoothness error            0.000902\n",
              "4   fractal dimension error            0.000815\n",
              "18           symmetry error            0.000709\n",
              "21        worst compactness            0.000379\n",
              "15          perimeter error            0.000368\n",
              "9    mean fractal dimension            0.000319\n",
              "10           mean perimeter            0.000218\n",
              "24  worst fractal dimension            0.000125\n",
              "11              mean radius            0.000008"
            ]
          },
          "metadata": {
            "tags": []
          },
          "execution_count": 24
        }
      ]
    },
    {
      "cell_type": "markdown",
      "metadata": {
        "id": "rmrSY8WAoiSt",
        "colab_type": "text"
      },
      "source": [
        "## XGBOOST"
      ]
    },
    {
      "cell_type": "code",
      "metadata": {
        "id": "4ZfX6sOJieEg",
        "colab_type": "code",
        "colab": {}
      },
      "source": [
        "from xgboost import XGBClassifier\n",
        "xgb = XGBClassifier().fit(X_train, y_train)"
      ],
      "execution_count": null,
      "outputs": []
    },
    {
      "cell_type": "code",
      "metadata": {
        "id": "b_Wbx_Duqj9J",
        "colab_type": "code",
        "colab": {
          "base_uri": "https://localhost:8080/",
          "height": 265
        },
        "outputId": "59689fb5-ee27-4e2a-8b4a-2165571f8873"
      },
      "source": [
        "#ROC/AUC Curve\n",
        "from sklearn import metrics\n",
        "y_test_prob=xgb.predict_proba(X_test)[:,1]\n",
        "fpr,tpr, _=metrics.roc_curve(y_test,y_test_prob)\n",
        "auc=metrics.roc_auc_score(y_test,y_test_prob)\n",
        "plt.plot(fpr,tpr,label=\"area=\"+str(auc))\n",
        "plt.legend(loc=4)\n",
        "plt.show()"
      ],
      "execution_count": null,
      "outputs": [
        {
          "output_type": "display_data",
          "data": {
            "image/png": "[encoded data removed]",
            "text/plain": [
              "<Figure size 432x288 with 1 Axes>"
            ]
          },
          "metadata": {
            "tags": []
          }
        }
      ]
    },
    {
      "cell_type": "code",
      "metadata": {
        "id": "bSopeDmUrvdv",
        "colab_type": "code",
        "colab": {
          "base_uri": "https://localhost:8080/",
          "height": 34
        },
        "outputId": "cb56e2e3-d897-4628-c6fe-f38e38a9e748"
      },
      "source": [
        "log_loss(y_test,y_test_prob)"
      ],
      "execution_count": null,
      "outputs": [
        {
          "output_type": "execute_result",
          "data": {
            "text/plain": [
              "0.09738804364123528"
            ]
          },
          "metadata": {
            "tags": []
          },
          "execution_count": 27
        }
      ]
    },
    {
      "cell_type": "code",
      "metadata": {
        "id": "KC1Wo8kCr00E",
        "colab_type": "code",
        "colab": {
          "base_uri": "https://localhost:8080/",
          "height": 68
        },
        "outputId": "bae1002f-7aa2-4013-978d-fef608dcf5aa"
      },
      "source": [
        "cm = confusion_matrix(y_test, xgb.predict(X_test))\n",
        "cmtx = pd.DataFrame(cm, index=['true:no', 'true:yes'], columns=['pred:no', 'pred:yes'])\n",
        "print(cmtx)"
      ],
      "execution_count": null,
      "outputs": [
        {
          "output_type": "stream",
          "text": [
            "          pred:no  pred:yes\n",
            "true:no        40         3\n",
            "true:yes        2        69\n"
          ],
          "name": "stdout"
        }
      ]
    },
    {
      "cell_type": "code",
      "metadata": {
        "id": "ddRvgcaKr446",
        "colab_type": "code",
        "colab": {
          "base_uri": "https://localhost:8080/",
          "height": 170
        },
        "outputId": "906afbca-c15e-438e-a30a-84b36ce671a0"
      },
      "source": [
        "print(classification_report(y_test, gb.predict(X_test)))"
      ],
      "execution_count": null,
      "outputs": [
        {
          "output_type": "stream",
          "text": [
            "              precision    recall  f1-score   support\n",
            "\n",
            "           0       0.95      0.93      0.94        43\n",
            "           1       0.96      0.97      0.97        71\n",
            "\n",
            "    accuracy                           0.96       114\n",
            "   macro avg       0.96      0.95      0.95       114\n",
            "weighted avg       0.96      0.96      0.96       114\n",
            "\n"
          ],
          "name": "stdout"
        }
      ]
    },
    {
      "cell_type": "code",
      "metadata": {
        "id": "I0qsnZhwsA_B",
        "colab_type": "code",
        "colab": {
          "base_uri": "https://localhost:8080/",
          "height": 979
        },
        "outputId": "14cdd059-4870-405e-e5f0-8d3fc878591d"
      },
      "source": [
        "xgbCoeff = pd.concat([pd.DataFrame(X.columns),pd.DataFrame(np.transpose(xgb.feature_importances_))], axis = 1)\n",
        "xgbCoeff.columns=['Variable','Feature_Importance']\n",
        "xgbCoeff.sort_values(by='Feature_Importance', ascending=False)"
      ],
      "execution_count": null,
      "outputs": [
        {
          "output_type": "execute_result",
          "data": {
            "text/html": [
              "<div>\n",
              "<style scoped>\n",
              "    .dataframe tbody tr th:only-of-type {\n",
              "        vertical-align: middle;\n",
              "    }\n",
              "\n",
              "    .dataframe tbody tr th {\n",
              "        vertical-align: top;\n",
              "    }\n",
              "\n",
              "    .dataframe thead th {\n",
              "        text-align: right;\n",
              "    }\n",
              "</style>\n",
              "<table border=\"1\" class=\"dataframe\">\n",
              "  <thead>\n",
              "    <tr style=\"text-align: right;\">\n",
              "      <th></th>\n",
              "      <th>Variable</th>\n",
              "      <th>Feature_Importance</th>\n",
              "    </tr>\n",
              "  </thead>\n",
              "  <tbody>\n",
              "    <tr>\n",
              "      <th>7</th>\n",
              "      <td>mean concave points</td>\n",
              "      <td>0.331756</td>\n",
              "    </tr>\n",
              "    <tr>\n",
              "      <th>22</th>\n",
              "      <td>worst concave points</td>\n",
              "      <td>0.222752</td>\n",
              "    </tr>\n",
              "    <tr>\n",
              "      <th>25</th>\n",
              "      <td>worst perimeter</td>\n",
              "      <td>0.098498</td>\n",
              "    </tr>\n",
              "    <tr>\n",
              "      <th>26</th>\n",
              "      <td>worst radius</td>\n",
              "      <td>0.074222</td>\n",
              "    </tr>\n",
              "    <tr>\n",
              "      <th>20</th>\n",
              "      <td>worst area</td>\n",
              "      <td>0.031044</td>\n",
              "    </tr>\n",
              "    <tr>\n",
              "      <th>29</th>\n",
              "      <td>worst texture</td>\n",
              "      <td>0.024402</td>\n",
              "    </tr>\n",
              "    <tr>\n",
              "      <th>14</th>\n",
              "      <td>mean texture</td>\n",
              "      <td>0.023178</td>\n",
              "    </tr>\n",
              "    <tr>\n",
              "      <th>23</th>\n",
              "      <td>worst concavity</td>\n",
              "      <td>0.021696</td>\n",
              "    </tr>\n",
              "    <tr>\n",
              "      <th>3</th>\n",
              "      <td>concavity error</td>\n",
              "      <td>0.018174</td>\n",
              "    </tr>\n",
              "    <tr>\n",
              "      <th>15</th>\n",
              "      <td>perimeter error</td>\n",
              "      <td>0.016355</td>\n",
              "    </tr>\n",
              "    <tr>\n",
              "      <th>8</th>\n",
              "      <td>mean concavity</td>\n",
              "      <td>0.015985</td>\n",
              "    </tr>\n",
              "    <tr>\n",
              "      <th>5</th>\n",
              "      <td>mean area</td>\n",
              "      <td>0.015663</td>\n",
              "    </tr>\n",
              "    <tr>\n",
              "      <th>17</th>\n",
              "      <td>smoothness error</td>\n",
              "      <td>0.015226</td>\n",
              "    </tr>\n",
              "    <tr>\n",
              "      <th>16</th>\n",
              "      <td>radius error</td>\n",
              "      <td>0.012600</td>\n",
              "    </tr>\n",
              "    <tr>\n",
              "      <th>12</th>\n",
              "      <td>mean smoothness</td>\n",
              "      <td>0.012273</td>\n",
              "    </tr>\n",
              "    <tr>\n",
              "      <th>0</th>\n",
              "      <td>area error</td>\n",
              "      <td>0.010884</td>\n",
              "    </tr>\n",
              "    <tr>\n",
              "      <th>1</th>\n",
              "      <td>compactness error</td>\n",
              "      <td>0.008032</td>\n",
              "    </tr>\n",
              "    <tr>\n",
              "      <th>9</th>\n",
              "      <td>mean fractal dimension</td>\n",
              "      <td>0.007249</td>\n",
              "    </tr>\n",
              "    <tr>\n",
              "      <th>28</th>\n",
              "      <td>worst symmetry</td>\n",
              "      <td>0.007039</td>\n",
              "    </tr>\n",
              "    <tr>\n",
              "      <th>27</th>\n",
              "      <td>worst smoothness</td>\n",
              "      <td>0.006496</td>\n",
              "    </tr>\n",
              "    <tr>\n",
              "      <th>6</th>\n",
              "      <td>mean compactness</td>\n",
              "      <td>0.005308</td>\n",
              "    </tr>\n",
              "    <tr>\n",
              "      <th>18</th>\n",
              "      <td>symmetry error</td>\n",
              "      <td>0.005094</td>\n",
              "    </tr>\n",
              "    <tr>\n",
              "      <th>2</th>\n",
              "      <td>concave points error</td>\n",
              "      <td>0.004342</td>\n",
              "    </tr>\n",
              "    <tr>\n",
              "      <th>13</th>\n",
              "      <td>mean symmetry</td>\n",
              "      <td>0.004040</td>\n",
              "    </tr>\n",
              "    <tr>\n",
              "      <th>21</th>\n",
              "      <td>worst compactness</td>\n",
              "      <td>0.003786</td>\n",
              "    </tr>\n",
              "    <tr>\n",
              "      <th>4</th>\n",
              "      <td>fractal dimension error</td>\n",
              "      <td>0.001665</td>\n",
              "    </tr>\n",
              "    <tr>\n",
              "      <th>19</th>\n",
              "      <td>texture error</td>\n",
              "      <td>0.001643</td>\n",
              "    </tr>\n",
              "    <tr>\n",
              "      <th>24</th>\n",
              "      <td>worst fractal dimension</td>\n",
              "      <td>0.000597</td>\n",
              "    </tr>\n",
              "    <tr>\n",
              "      <th>11</th>\n",
              "      <td>mean radius</td>\n",
              "      <td>0.000000</td>\n",
              "    </tr>\n",
              "    <tr>\n",
              "      <th>10</th>\n",
              "      <td>mean perimeter</td>\n",
              "      <td>0.000000</td>\n",
              "    </tr>\n",
              "  </tbody>\n",
              "</table>\n",
              "</div>"
            ],
            "text/plain": [
              "                   Variable  Feature_Importance\n",
              "7       mean concave points            0.331756\n",
              "22     worst concave points            0.222752\n",
              "25          worst perimeter            0.098498\n",
              "26             worst radius            0.074222\n",
              "20               worst area            0.031044\n",
              "29            worst texture            0.024402\n",
              "14             mean texture            0.023178\n",
              "23          worst concavity            0.021696\n",
              "3           concavity error            0.018174\n",
              "15          perimeter error            0.016355\n",
              "8            mean concavity            0.015985\n",
              "5                 mean area            0.015663\n",
              "17         smoothness error            0.015226\n",
              "16             radius error            0.012600\n",
              "12          mean smoothness            0.012273\n",
              "0                area error            0.010884\n",
              "1         compactness error            0.008032\n",
              "9    mean fractal dimension            0.007249\n",
              "28           worst symmetry            0.007039\n",
              "27         worst smoothness            0.006496\n",
              "6          mean compactness            0.005308\n",
              "18           symmetry error            0.005094\n",
              "2      concave points error            0.004342\n",
              "13            mean symmetry            0.004040\n",
              "21        worst compactness            0.003786\n",
              "4   fractal dimension error            0.001665\n",
              "19            texture error            0.001643\n",
              "24  worst fractal dimension            0.000597\n",
              "11              mean radius            0.000000\n",
              "10           mean perimeter            0.000000"
            ]
          },
          "metadata": {
            "tags": []
          },
          "execution_count": 31
        }
      ]
    },
    {
      "cell_type": "markdown",
      "metadata": {
        "id": "sG9ffcnbSwYt",
        "colab_type": "text"
      },
      "source": [
        "Xgboost vs. GBM\n",
        "\n",
        "\n",
        "*   Regularization\n",
        "*   Paralell computing\n",
        "*   Handles missing values\n",
        "*   Second-order gradients (partial derivative of the loss function) provides more information for the directions of the gradient\n",
        "\n"
      ]
    },
    {
      "cell_type": "markdown",
      "metadata": {
        "id": "YkZjr6aAzN1p",
        "colab_type": "text"
      },
      "source": [
        "## Naive Beyes Model"
      ]
    },
    {
      "cell_type": "code",
      "metadata": {
        "id": "iobQx0kit8CV",
        "colab_type": "code",
        "colab": {}
      },
      "source": [
        "from sklearn.naive_bayes import GaussianNB\n",
        "nb = GaussianNB().fit(X_train, y_train)"
      ],
      "execution_count": null,
      "outputs": []
    },
    {
      "cell_type": "code",
      "metadata": {
        "id": "QK7plyYx0Mce",
        "colab_type": "code",
        "colab": {
          "base_uri": "https://localhost:8080/",
          "height": 265
        },
        "outputId": "b708143f-c561-4c18-91da-65f11c7e99a9"
      },
      "source": [
        "#ROC/AUC Curve\n",
        "from sklearn import metrics\n",
        "y_test_prob=nb.predict_proba(X_test)[:,1]\n",
        "fpr,tpr, _=metrics.roc_curve(y_test,y_test_prob)\n",
        "auc=metrics.roc_auc_score(y_test,y_test_prob)\n",
        "plt.plot(fpr,tpr,label=\"area=\"+str(auc))\n",
        "plt.legend(loc=4)\n",
        "plt.show()"
      ],
      "execution_count": null,
      "outputs": [
        {
          "output_type": "display_data",
          "data": {
            "image/png": "[encoded data removed]",
            "text/plain": [
              "<Figure size 432x288 with 1 Axes>"
            ]
          },
          "metadata": {
            "tags": []
          }
        }
      ]
    },
    {
      "cell_type": "code",
      "metadata": {
        "id": "DD8IQTzd0xyY",
        "colab_type": "code",
        "colab": {
          "base_uri": "https://localhost:8080/",
          "height": 34
        },
        "outputId": "c44a1d00-e7c8-4c30-dc06-205062a778ff"
      },
      "source": [
        "log_loss(y_test,y_test_prob)"
      ],
      "execution_count": null,
      "outputs": [
        {
          "output_type": "execute_result",
          "data": {
            "text/plain": [
              "0.20510070595645047"
            ]
          },
          "metadata": {
            "tags": []
          },
          "execution_count": 34
        }
      ]
    },
    {
      "cell_type": "code",
      "metadata": {
        "id": "obUZE7Pj03m5",
        "colab_type": "code",
        "colab": {
          "base_uri": "https://localhost:8080/",
          "height": 68
        },
        "outputId": "94b57330-3f3b-4b2f-b3c7-dac5a7cc7b7b"
      },
      "source": [
        "cm = confusion_matrix(y_test, nb.predict(X_test))\n",
        "cmtx = pd.DataFrame(cm, index=['true:no', 'true:yes'], columns=['pred:no', 'pred:yes'])\n",
        "print(cmtx)"
      ],
      "execution_count": null,
      "outputs": [
        {
          "output_type": "stream",
          "text": [
            "          pred:no  pred:yes\n",
            "true:no        40         3\n",
            "true:yes        1        70\n"
          ],
          "name": "stdout"
        }
      ]
    },
    {
      "cell_type": "code",
      "metadata": {
        "id": "2wBX7Hcm1DHS",
        "colab_type": "code",
        "colab": {
          "base_uri": "https://localhost:8080/",
          "height": 170
        },
        "outputId": "abff3ad6-e6a0-43ca-9d1e-2334251be0a0"
      },
      "source": [
        "print(classification_report(y_test, nb.predict(X_test)))"
      ],
      "execution_count": null,
      "outputs": [
        {
          "output_type": "stream",
          "text": [
            "              precision    recall  f1-score   support\n",
            "\n",
            "           0       0.98      0.93      0.95        43\n",
            "           1       0.96      0.99      0.97        71\n",
            "\n",
            "    accuracy                           0.96       114\n",
            "   macro avg       0.97      0.96      0.96       114\n",
            "weighted avg       0.97      0.96      0.96       114\n",
            "\n"
          ],
          "name": "stdout"
        }
      ]
    },
    {
      "cell_type": "markdown",
      "metadata": {
        "id": "x7M916Blx0Kx",
        "colab_type": "text"
      },
      "source": [
        "## Neural Network Model"
      ]
    },
    {
      "cell_type": "code",
      "metadata": {
        "id": "7sBh5vqT14YW",
        "colab_type": "code",
        "colab": {}
      },
      "source": [
        "from keras.models import Sequential\n",
        "from keras.layers import Dense"
      ],
      "execution_count": null,
      "outputs": []
    },
    {
      "cell_type": "code",
      "metadata": {
        "id": "9b3SLH7lz0f1",
        "colab_type": "code",
        "colab": {
          "base_uri": "https://localhost:8080/",
          "height": 1000
        },
        "outputId": "b53f4a16-1e15-4630-9153-dbe62579f74c"
      },
      "source": [
        "# Create model\n",
        "nn_model=Sequential()\n",
        "nn_model.add(Dense(15,input_dim=30,activation='relu'))\n",
        "\n",
        "nn_model.add(Dense(1,activation='sigmoid'))\n",
        "\n",
        "#Compile model\n",
        "nn_model.compile(loss='binary_crossentropy',optimizer='adam',metrics=['accuracy'])\n",
        "\n",
        "#Fit the model\n",
        "nn_model.fit(X_train,y_train, epochs=50,batch_size=100)"
      ],
      "execution_count": null,
      "outputs": [
        {
          "output_type": "stream",
          "text": [
            "Epoch 1/50\n",
            "5/5 [==============================] - 0s 2ms/step - loss: 0.5786 - accuracy: 0.7582\n",
            "Epoch 2/50\n",
            "5/5 [==============================] - 0s 2ms/step - loss: 0.5149 - accuracy: 0.7934\n",
            "Epoch 3/50\n",
            "5/5 [==============================] - 0s 2ms/step - loss: 0.4616 - accuracy: 0.8132\n",
            "Epoch 4/50\n",
            "5/5 [==============================] - 0s 2ms/step - loss: 0.4170 - accuracy: 0.8418\n",
            "Epoch 5/50\n",
            "5/5 [==============================] - 0s 2ms/step - loss: 0.3800 - accuracy: 0.8637\n",
            "Epoch 6/50\n",
            "5/5 [==============================] - 0s 2ms/step - loss: 0.3485 - accuracy: 0.8901\n",
            "Epoch 7/50\n",
            "5/5 [==============================] - 0s 2ms/step - loss: 0.3220 - accuracy: 0.9055\n",
            "Epoch 8/50\n",
            "5/5 [==============================] - 0s 3ms/step - loss: 0.3002 - accuracy: 0.9165\n",
            "Epoch 9/50\n",
            "5/5 [==============================] - 0s 2ms/step - loss: 0.2822 - accuracy: 0.9231\n",
            "Epoch 10/50\n",
            "5/5 [==============================] - 0s 2ms/step - loss: 0.2661 - accuracy: 0.9297\n",
            "Epoch 11/50\n",
            "5/5 [==============================] - 0s 2ms/step - loss: 0.2526 - accuracy: 0.9363\n",
            "Epoch 12/50\n",
            "5/5 [==============================] - 0s 2ms/step - loss: 0.2404 - accuracy: 0.9407\n",
            "Epoch 13/50\n",
            "5/5 [==============================] - 0s 2ms/step - loss: 0.2297 - accuracy: 0.9429\n",
            "Epoch 14/50\n",
            "5/5 [==============================] - 0s 2ms/step - loss: 0.2204 - accuracy: 0.9473\n",
            "Epoch 15/50\n",
            "5/5 [==============================] - 0s 2ms/step - loss: 0.2117 - accuracy: 0.9495\n",
            "Epoch 16/50\n",
            "5/5 [==============================] - 0s 2ms/step - loss: 0.2037 - accuracy: 0.9516\n",
            "Epoch 17/50\n",
            "5/5 [==============================] - 0s 2ms/step - loss: 0.1964 - accuracy: 0.9538\n",
            "Epoch 18/50\n",
            "5/5 [==============================] - 0s 2ms/step - loss: 0.1897 - accuracy: 0.9538\n",
            "Epoch 19/50\n",
            "5/5 [==============================] - 0s 2ms/step - loss: 0.1836 - accuracy: 0.9538\n",
            "Epoch 20/50\n",
            "5/5 [==============================] - 0s 2ms/step - loss: 0.1777 - accuracy: 0.9538\n",
            "Epoch 21/50\n",
            "5/5 [==============================] - 0s 2ms/step - loss: 0.1723 - accuracy: 0.9582\n",
            "Epoch 22/50\n",
            "5/5 [==============================] - 0s 2ms/step - loss: 0.1672 - accuracy: 0.9582\n",
            "Epoch 23/50\n",
            "5/5 [==============================] - 0s 2ms/step - loss: 0.1623 - accuracy: 0.9582\n",
            "Epoch 24/50\n",
            "5/5 [==============================] - 0s 2ms/step - loss: 0.1580 - accuracy: 0.9604\n",
            "Epoch 25/50\n",
            "5/5 [==============================] - 0s 2ms/step - loss: 0.1538 - accuracy: 0.9626\n",
            "Epoch 26/50\n",
            "5/5 [==============================] - 0s 4ms/step - loss: 0.1497 - accuracy: 0.9626\n",
            "Epoch 27/50\n",
            "5/5 [==============================] - 0s 2ms/step - loss: 0.1458 - accuracy: 0.9648\n",
            "Epoch 28/50\n",
            "5/5 [==============================] - 0s 2ms/step - loss: 0.1424 - accuracy: 0.9670\n",
            "Epoch 29/50\n",
            "5/5 [==============================] - 0s 2ms/step - loss: 0.1389 - accuracy: 0.9670\n",
            "Epoch 30/50\n",
            "5/5 [==============================] - 0s 2ms/step - loss: 0.1357 - accuracy: 0.9692\n",
            "Epoch 31/50\n",
            "5/5 [==============================] - 0s 2ms/step - loss: 0.1326 - accuracy: 0.9714\n",
            "Epoch 32/50\n",
            "5/5 [==============================] - 0s 2ms/step - loss: 0.1297 - accuracy: 0.9714\n",
            "Epoch 33/50\n",
            "5/5 [==============================] - 0s 2ms/step - loss: 0.1269 - accuracy: 0.9714\n",
            "Epoch 34/50\n",
            "5/5 [==============================] - 0s 2ms/step - loss: 0.1243 - accuracy: 0.9714\n",
            "Epoch 35/50\n",
            "5/5 [==============================] - 0s 2ms/step - loss: 0.1217 - accuracy: 0.9714\n",
            "Epoch 36/50\n",
            "5/5 [==============================] - 0s 2ms/step - loss: 0.1193 - accuracy: 0.9714\n",
            "Epoch 37/50\n",
            "5/5 [==============================] - 0s 2ms/step - loss: 0.1169 - accuracy: 0.9736\n",
            "Epoch 38/50\n",
            "5/5 [==============================] - 0s 2ms/step - loss: 0.1148 - accuracy: 0.9736\n",
            "Epoch 39/50\n",
            "5/5 [==============================] - 0s 2ms/step - loss: 0.1127 - accuracy: 0.9736\n",
            "Epoch 40/50\n",
            "5/5 [==============================] - 0s 2ms/step - loss: 0.1105 - accuracy: 0.9736\n",
            "Epoch 41/50\n",
            "5/5 [==============================] - 0s 2ms/step - loss: 0.1086 - accuracy: 0.9736\n",
            "Epoch 42/50\n",
            "5/5 [==============================] - 0s 2ms/step - loss: 0.1067 - accuracy: 0.9758\n",
            "Epoch 43/50\n",
            "5/5 [==============================] - 0s 2ms/step - loss: 0.1048 - accuracy: 0.9758\n",
            "Epoch 44/50\n",
            "5/5 [==============================] - 0s 2ms/step - loss: 0.1032 - accuracy: 0.9780\n",
            "Epoch 45/50\n",
            "5/5 [==============================] - 0s 2ms/step - loss: 0.1015 - accuracy: 0.9780\n",
            "Epoch 46/50\n",
            "5/5 [==============================] - 0s 2ms/step - loss: 0.0999 - accuracy: 0.9780\n",
            "Epoch 47/50\n",
            "5/5 [==============================] - 0s 2ms/step - loss: 0.0983 - accuracy: 0.9780\n",
            "Epoch 48/50\n",
            "5/5 [==============================] - 0s 2ms/step - loss: 0.0969 - accuracy: 0.9802\n",
            "Epoch 49/50\n",
            "5/5 [==============================] - 0s 2ms/step - loss: 0.0955 - accuracy: 0.9802\n",
            "Epoch 50/50\n",
            "5/5 [==============================] - 0s 2ms/step - loss: 0.0941 - accuracy: 0.9802\n"
          ],
          "name": "stdout"
        },
        {
          "output_type": "execute_result",
          "data": {
            "text/plain": [
              "<tensorflow.python.keras.callbacks.History at 0x7f62794eb780>"
            ]
          },
          "metadata": {
            "tags": []
          },
          "execution_count": 55
        }
      ]
    },
    {
      "cell_type": "code",
      "metadata": {
        "id": "b0upMUzO0y5M",
        "colab_type": "code",
        "colab": {
          "base_uri": "https://localhost:8080/",
          "height": 316
        },
        "outputId": "3a21e35f-75a4-436c-b893-ae4e53a0de75"
      },
      "source": [
        "#ROC/AUC Curve\n",
        "from sklearn import metrics\n",
        "y_test_prob=nn_model.predict_proba(X_test)\n",
        "fpr,tpr, _=metrics.roc_curve(y_test,y_test_prob)\n",
        "auc=metrics.roc_auc_score(y_test,y_test_prob)\n",
        "plt.plot(fpr,tpr,label=\"area=\"+str(auc))\n",
        "plt.legend(loc=4)\n",
        "plt.show()"
      ],
      "execution_count": null,
      "outputs": [
        {
          "output_type": "stream",
          "text": [
            "WARNING:tensorflow:From <ipython-input-56-8c480e61e3c2>:3: Sequential.predict_proba (from tensorflow.python.keras.engine.sequential) is deprecated and will be removed after 2021-01-01.\n",
            "Instructions for updating:\n",
            "Please use `model.predict()` instead.\n"
          ],
          "name": "stdout"
        },
        {
          "output_type": "display_data",
          "data": {
            "image/png": "[encoded data removed]",
            "text/plain": [
              "<Figure size 432x288 with 1 Axes>"
            ]
          },
          "metadata": {
            "tags": [],
            "needs_background": "light"
          }
        }
      ]
    },
    {
      "cell_type": "code",
      "metadata": {
        "id": "1eAnWLm-0zyn",
        "colab_type": "code",
        "colab": {
          "base_uri": "https://localhost:8080/",
          "height": 139
        },
        "outputId": "86bd8733-1a8a-448d-dc12-2937fec087fb"
      },
      "source": [
        "from sklearn.metrics import confusion_matrix\n",
        "confusion_matrix = confusion_matrix(y_test, nn_model.predict_classes(X_test))\n",
        "cmtx = pd.DataFrame(confusion_matrix, index=['true:no', 'true:yes'], columns=['pred:no', 'pred:yes'])\n",
        "print(cmtx)"
      ],
      "execution_count": null,
      "outputs": [
        {
          "output_type": "stream",
          "text": [
            "WARNING:tensorflow:From <ipython-input-57-47f5af8f9e11>:2: Sequential.predict_classes (from tensorflow.python.keras.engine.sequential) is deprecated and will be removed after 2021-01-01.\n",
            "Instructions for updating:\n",
            "Please use instead:* `np.argmax(model.predict(x), axis=-1)`,   if your model does multi-class classification   (e.g. if it uses a `softmax` last-layer activation).* `(model.predict(x) > 0.5).astype(\"int32\")`,   if your model does binary classification   (e.g. if it uses a `sigmoid` last-layer activation).\n",
            "          pred:no  pred:yes\n",
            "true:no        42         1\n",
            "true:yes        0        71\n"
          ],
          "name": "stdout"
        }
      ]
    },
    {
      "cell_type": "code",
      "metadata": {
        "id": "7mCoKTOM1AOh",
        "colab_type": "code",
        "colab": {
          "base_uri": "https://localhost:8080/",
          "height": 170
        },
        "outputId": "7a584866-445c-456c-e192-4f904f7c471d"
      },
      "source": [
        "print(classification_report(y_test, nn_model.predict_classes(X_test)))"
      ],
      "execution_count": null,
      "outputs": [
        {
          "output_type": "stream",
          "text": [
            "              precision    recall  f1-score   support\n",
            "\n",
            "           0       1.00      0.98      0.99        43\n",
            "           1       0.99      1.00      0.99        71\n",
            "\n",
            "    accuracy                           0.99       114\n",
            "   macro avg       0.99      0.99      0.99       114\n",
            "weighted avg       0.99      0.99      0.99       114\n",
            "\n"
          ],
          "name": "stdout"
        }
      ]
    },
    {
      "cell_type": "code",
      "metadata": {
        "id": "U8Sdp-bM1Bnn",
        "colab_type": "code",
        "colab": {
          "base_uri": "https://localhost:8080/",
          "height": 34
        },
        "outputId": "13d8cde8-2d96-4d39-db60-7f083f0d6ed5"
      },
      "source": [
        "log_loss(y_test,nn_model.predict_proba(X_test))"
      ],
      "execution_count": null,
      "outputs": [
        {
          "output_type": "execute_result",
          "data": {
            "text/plain": [
              "0.08034928883013667"
            ]
          },
          "metadata": {
            "tags": []
          },
          "execution_count": 59
        }
      ]
    }
  ]
}